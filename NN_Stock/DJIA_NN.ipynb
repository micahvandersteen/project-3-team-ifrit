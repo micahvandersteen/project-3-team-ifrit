{
 "cells": [
  {
   "cell_type": "code",
   "execution_count": null,
   "metadata": {},
   "outputs": [],
   "source": [
    "import quandl\n",
    "import numpy as np"
   ]
  },
  {
   "cell_type": "code",
   "execution_count": null,
   "metadata": {},
   "outputs": [],
   "source": [
    "%matplotlib inline\n",
    "import matplotlib.pyplot as plt\n",
    "from numpy.random import seed\n",
    "seed(1)\n",
    "from tensorflow import random\n",
    "random.set_seed(1)\n",
    "import sklearn.datasets\n",
    "import pandas as pd\n",
    "from sklearn import preprocessing\n",
    "\n",
    "backwards_points = 75"
   ]
  },
  {
   "cell_type": "code",
   "execution_count": null,
   "metadata": {},
   "outputs": [],
   "source": [
    "DJIA_data = quandl.get(\"BCB/UDJIAD1\", start_date=\"2008-8-8\", end_date=\"2016-7-1\")"
   ]
  },
  {
   "cell_type": "code",
   "execution_count": null,
   "metadata": {},
   "outputs": [],
   "source": [
    "plot_test = pd.DataFrame(DJIA_data)\n",
    "plot_test = plot_test.reset_index()\n",
    "plot_test[\"Time (Days)\"] = np.arange(len(plot_test))\n",
    "plot_test = plot_test.drop(\"Date\", axis = 1)"
   ]
  },
  {
   "cell_type": "code",
   "execution_count": null,
   "metadata": {},
   "outputs": [],
   "source": [
    "plt.plot(plot_test[\"Time (Days)\"], plot_test[\"Value\"], label='DJIA')"
   ]
  },
  {
   "cell_type": "code",
   "execution_count": null,
   "metadata": {},
   "outputs": [],
   "source": [
    "def to_dataset(DJIA_data):\n",
    "    DJIA_df = pd.DataFrame(DJIA_data)\n",
    "    DJIA_df = DJIA_df.reset_index()\n",
    "    DJIA_df = DJIA_df.drop(\"Date\", axis = 1)\n",
    "    DJIA_df = DJIA_df.values\n",
    "\n",
    "    DJIA_df_normaliser = preprocessing.MinMaxScaler()\n",
    "    DJIA_df_normalised = DJIA_df_normaliser.fit_transform(DJIA_df)\n",
    "    past_values_normalised =  np.array([DJIA_df_normalised[i:i + backwards_points].copy() for i in range(len(DJIA_df_normalised) - backwards_points)])\n",
    "    next_day_values_normalised =  np.array([DJIA_df_normalised[:,0][i + backwards_points].copy() for i in range(len(DJIA_df_normalised) - backwards_points)])\n",
    "    next_day_values_normalised = np.expand_dims(next_day_values_normalised, -1)\n",
    "\n",
    "    next_day_values = np.array([DJIA_df[:,0][i + backwards_points].copy() for i in range(len(DJIA_df) - backwards_points)])\n",
    "    next_day_values = np.expand_dims(next_day_values, -1)\n",
    "\n",
    "    y_normaliser = preprocessing.MinMaxScaler()\n",
    "    y_normaliser.fit(next_day_values)\n",
    "    \n",
    "    assert past_values_normalised.shape[0] == next_day_values_normalised.shape[0]\n",
    "    return past_values_normalised, next_day_values_normalised, next_day_values, y_normaliser"
   ]
  },
  {
   "cell_type": "code",
   "execution_count": null,
   "metadata": {},
   "outputs": [],
   "source": [
    "past_values, next_day_values, unscaled_y, y_normaliser = to_dataset(DJIA_data)\n",
    "\n",
    "test_split = 0.8\n",
    "n = int(past_values.shape[0] * test_split)\n",
    "\n",
    "X_train = past_values[:n]\n",
    "y_train = next_day_values[:n]\n",
    "\n",
    "X_test = past_values[n:]\n",
    "y_test = next_day_values[n:]\n",
    "\n",
    "unscaled_y_test = unscaled_y[n:]\n",
    "\n",
    "print(X_train.shape)\n",
    "print(X_test.shape)"
   ]
  },
  {
   "cell_type": "code",
   "execution_count": null,
   "metadata": {},
   "outputs": [],
   "source": [
    "import keras\n",
    "from keras.models import Model\n",
    "from keras.layers import Dense, Dropout, LSTM, Input, Activation\n",
    "from keras import optimizers\n",
    "\n",
    "#https://keras.io/api/layers/recurrent_layers/lstm/\n",
    "\n",
    "lstm_input = Input(shape = (backwards_points, 1), name=\"lstm_input\")\n",
    "x = LSTM(75, name = \"lstm_0\")(lstm_input)\n",
    "x = Dropout(0.2, name = \"lstm_dropout_0\")(x)\n",
    "x = Dense(64, name = \"dense_0\")(x)\n",
    "x = Activation(\"sigmoid\", name = \"sigmoid_0\")(x)\n",
    "x = Dense(1, name = \"dense_1\")(x)\n",
    "output = Activation('linear', name = \"linear_output\")(x)\n",
    "\n",
    "model = Model(inputs=lstm_input, outputs=output)\n",
    "adam = optimizers.Adam(lr=0.0005)\n",
    "model.compile(optimizer=adam, loss=\"mse\")\n",
    "model.fit(x=X_train, y=y_train, batch_size=32, epochs=50, shuffle=True, validation_split=0.1)"
   ]
  },
  {
   "cell_type": "code",
   "execution_count": null,
   "metadata": {},
   "outputs": [],
   "source": [
    "y_test_predicted = model.predict(X_test)\n",
    "y_test_predicted = y_normaliser.inverse_transform(y_test_predicted)\n",
    "y_predicted = model.predict(past_values)\n",
    "y_predicted = y_normaliser.inverse_transform(y_predicted)\n",
    "\n",
    "assert unscaled_y_test.shape == y_test_predicted.shape\n",
    "real_mse = np.mean(np.square(unscaled_y_test - y_test_predicted))\n",
    "scaled_mse = real_mse / (np.max(unscaled_y_test) - np.min(unscaled_y_test)) * 100\n",
    "print(scaled_mse)"
   ]
  },
  {
   "cell_type": "code",
   "execution_count": null,
   "metadata": {},
   "outputs": [],
   "source": [
    "#plt.gcf is get current figure\n",
    "plt.gcf().set_size_inches(25, 15, forward=True)\n",
    "plt.plot(unscaled_y_test, label=\"Real\", color=\"green\")\n",
    "plt.plot(y_test_predicted, label=\"Prediction\", color=\"red\")\n",
    "plt.legend([\"Realz\", \"Predicted\"])\n",
    "\n",
    "plt.show()"
   ]
  },
  {
   "cell_type": "code",
   "execution_count": null,
   "metadata": {},
   "outputs": [],
   "source": []
  }
 ],
 "metadata": {
  "anaconda-cloud": {},
  "kernelspec": {
   "display_name": "Python 3",
   "language": "python",
   "name": "python3"
  },
  "language_info": {
   "codemirror_mode": {
    "name": "ipython",
    "version": 3
   },
   "file_extension": ".py",
   "mimetype": "text/x-python",
   "name": "python",
   "nbconvert_exporter": "python",
   "pygments_lexer": "ipython3",
   "version": "3.6.9"
  },
  "varInspector": {
   "cols": {
    "lenName": 16,
    "lenType": 16,
    "lenVar": 40
   },
   "kernels_config": {
    "python": {
     "delete_cmd_postfix": "",
     "delete_cmd_prefix": "del ",
     "library": "var_list.py",
     "varRefreshCmd": "print(var_dic_list())"
    },
    "r": {
     "delete_cmd_postfix": ") ",
     "delete_cmd_prefix": "rm(",
     "library": "var_list.r",
     "varRefreshCmd": "cat(var_dic_list()) "
    }
   },
   "types_to_exclude": [
    "module",
    "function",
    "builtin_function_or_method",
    "instance",
    "_Feature"
   ],
   "window_display": false
  }
 },
 "nbformat": 4,
 "nbformat_minor": 2
}
