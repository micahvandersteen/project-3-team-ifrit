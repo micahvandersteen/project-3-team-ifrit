{
 "cells": [
  {
   "cell_type": "code",
   "execution_count": null,
   "metadata": {},
   "outputs": [],
   "source": [
    "#import quandl\n",
    "import numpy as np"
   ]
  },
  {
   "cell_type": "code",
   "execution_count": null,
   "metadata": {},
   "outputs": [],
   "source": [
    "%matplotlib inline\n",
    "import matplotlib.pyplot as plt\n",
    "from numpy.random import seed\n",
    "seed(1)\n",
    "from tensorflow import random\n",
    "random.set_seed(1)\n",
    "import sklearn.datasets\n",
    "import pandas as pd\n",
    "from sklearn import preprocessing\n",
    "\n",
    "backwards_points = 75"
   ]
  },
  {
   "cell_type": "code",
   "execution_count": null,
   "metadata": {},
   "outputs": [],
   "source": [
    "#DJIA_data = quandl.get(\"BCB/UDJIAD1\", start_date=\"2001-12-31\", end_date=\"2005-12-31\")\n",
    "DJIA_test_plot = pd.read_csv(\"DJIA_w_topic.csv\")"
   ]
  },
  {
   "cell_type": "code",
   "execution_count": null,
   "metadata": {},
   "outputs": [],
   "source": [
    "#plot_test = pd.DataFrame(DJIA_data)\n",
    "#DJIA_data = DJIA_data.reset_index()\n",
    "#DJIA_test_plot = DJIA_test_plot.sort_values(by=\"Date\", ascending=True)\n",
    "DJIA_test_plot[\"Time (Days)\"] = np.arange(len(DJIA_test_plot))\n",
    "DJIA_test_plot = DJIA_test_plot.drop(\"Date\", axis = 1)\n",
    "DJIA_test_plot = DJIA_test_plot.drop(\"Label\", axis = 1)\n",
    "DJIA_test_plot.head()"
   ]
  },
  {
   "cell_type": "code",
   "execution_count": null,
   "metadata": {},
   "outputs": [],
   "source": [
    "plt.plot(DJIA_test_plot[\"Time (Days)\"], DJIA_test_plot[\"Open\"], label='DJIA')"
   ]
  },
  {
   "cell_type": "code",
   "execution_count": null,
   "metadata": {},
   "outputs": [],
   "source": [
    "def convert_data(your_set):\n",
    "    DJIA_df = pd.read_csv(\"DJIA_w_topic.csv\")\n",
    "    #DJIA_df = DJIA_df.sort_values(by=\"Date\", ascending=True)\n",
    "    DJIA_df = DJIA_df.drop(\"Date\", axis = 1)\n",
    "    #DJIA_df = DJIA_df.drop(\"Label\", axis = 1)\n",
    "    DJIA_df = DJIA_df.values\n",
    "\n",
    "    DJIA_df_normaliser = preprocessing.MinMaxScaler()\n",
    "    DJIA_df_normalised = DJIA_df_normaliser.fit_transform(DJIA_df)\n",
    "    past_values_normalised =  np.array([DJIA_df_normalised[i:i + backwards_points].copy() for i in range(len(DJIA_df_normalised) - backwards_points)])\n",
    "    next_day_values_normalised =  np.array([DJIA_df_normalised[:,0][i + backwards_points].copy() for i in range(len(DJIA_df_normalised) - backwards_points)])\n",
    "    next_day_values_normalised = np.expand_dims(next_day_values_normalised, -1)\n",
    "    \n",
    "    next_day_values = np.array([DJIA_df[:,0][i + backwards_points].copy() for i in range(len(DJIA_df) - backwards_points)])\n",
    "    next_day_values = np.expand_dims(next_day_values, -1)\n",
    "    y_normaliser = preprocessing.MinMaxScaler()\n",
    "    y_normaliser.fit(next_day_values)\n",
    "    \n",
    "    return past_values_normalised, next_day_values_normalised, next_day_values, y_normaliser"
   ]
  },
  {
   "cell_type": "code",
   "execution_count": null,
   "metadata": {},
   "outputs": [],
   "source": [
    "past_values, next_day_values, y_no_mod, y_normaliser = convert_data(\"DJIA_w_topic.csv\")\n",
    "\n",
    "test_split = 0.8\n",
    "n = int(past_values.shape[0] * test_split)\n",
    "\n",
    "X_train = past_values[:n]\n",
    "y_train = next_day_values[:n]\n",
    "X_test = past_values[n:]\n",
    "y_test = next_day_values[n:]\n",
    "\n",
    "y_no_mod_test = y_no_mod[n:]\n",
    "\n",
    "print(X_train.shape)\n",
    "print(X_test.shape)"
   ]
  },
  {
   "cell_type": "code",
   "execution_count": null,
   "metadata": {},
   "outputs": [],
   "source": [
    "import keras\n",
    "from keras.models import Model\n",
    "from keras.layers import Input, LSTM, Dropout, Dense, Activation\n",
    "from keras import optimizers\n",
    "\n",
    "#https://keras.io/api/layers/recurrent_layers/lstm/\n",
    "\n",
    "lstm_input = Input(shape = (backwards_points, 8))\n",
    "x = LSTM(75)(lstm_input)\n",
    "x = Dropout(0.21)(x)\n",
    "x = Dense(64)(x)\n",
    "x = Activation(\"sigmoid\")(x)\n",
    "x = Dense(1)(x)\n",
    "output = Activation(\"linear\")(x)\n",
    "\n",
    "model = Model(inputs = lstm_input, outputs=output)\n",
    "model.compile(optimizer = \"adam\", loss=\"mse\")\n",
    "model.fit(X_train, y_train, batch_size=32, epochs=50, shuffle=True, validation_split=0.2)\n",
    "print(model.summary())"
   ]
  },
  {
   "cell_type": "code",
   "execution_count": null,
   "metadata": {},
   "outputs": [],
   "source": [
    "y_test_predicted = model.predict(X_test)\n",
    "y_test_predicted = y_normaliser.inverse_transform(y_test_predicted)\n",
    "y_predicted = model.predict(past_values)\n",
    "y_predicted = y_normaliser.inverse_transform(y_predicted)\n",
    "\n",
    "#https://www.geeksforgeeks.org/python-mean-squared-error/\n",
    "MSE = np.square(np.subtract(y_no_mod_test, y_test_predicted)).mean() \n",
    "returned_mse = MSE / (np.max(y_no_mod_test) - np.min(y_no_mod_test)) * 100\n",
    "print(returned_mse)"
   ]
  },
  {
   "cell_type": "code",
   "execution_count": null,
   "metadata": {},
   "outputs": [],
   "source": [
    "#get current figure\n",
    "plt.gcf().set_size_inches(25, 15, forward=True)\n",
    "plt.plot(y_no_mod_test, label=\"Real\", color=\"blue\")\n",
    "plt.plot(y_test_predicted, label=\"Prediction\", color=\"red\")\n",
    "plt.legend([\"Realz\", \"Predicted\"])\n",
    "plt.title(\"LSTM Topics Model\")\n",
    "\n",
    "#plt.savefig(\"LSTM_w_Topic_0.png\")\n",
    "plt.show()"
   ]
  },
  {
   "cell_type": "code",
   "execution_count": null,
   "metadata": {},
   "outputs": [],
   "source": [
    "plt.gcf().set_size_inches(25, 15, forward=True)\n",
    "plt.plot(y_no_mod, label=\"Real\", color=\"blue\")\n",
    "plt.plot(y_predicted, label=\"Prediction\", color=\"red\")\n",
    "plt.legend([\"Realz\", \"Predicted\"])\n",
    "plt.title(\"LSTM Topics Model\")\n",
    "\n",
    "#plt.savefig(\"LSTM_w_Topic_1.png\")\n",
    "plt.show()"
   ]
  },
  {
   "cell_type": "code",
   "execution_count": null,
   "metadata": {},
   "outputs": [],
   "source": []
  }
 ],
 "metadata": {
  "anaconda-cloud": {},
  "kernelspec": {
   "display_name": "Python 3",
   "language": "python",
   "name": "python3"
  },
  "language_info": {
   "codemirror_mode": {
    "name": "ipython",
    "version": 3
   },
   "file_extension": ".py",
   "mimetype": "text/x-python",
   "name": "python",
   "nbconvert_exporter": "python",
   "pygments_lexer": "ipython3",
   "version": "3.6.9"
  },
  "varInspector": {
   "cols": {
    "lenName": 16,
    "lenType": 16,
    "lenVar": 40
   },
   "kernels_config": {
    "python": {
     "delete_cmd_postfix": "",
     "delete_cmd_prefix": "del ",
     "library": "var_list.py",
     "varRefreshCmd": "print(var_dic_list())"
    },
    "r": {
     "delete_cmd_postfix": ") ",
     "delete_cmd_prefix": "rm(",
     "library": "var_list.r",
     "varRefreshCmd": "cat(var_dic_list()) "
    }
   },
   "types_to_exclude": [
    "module",
    "function",
    "builtin_function_or_method",
    "instance",
    "_Feature"
   ],
   "window_display": false
  }
 },
 "nbformat": 4,
 "nbformat_minor": 2
}
