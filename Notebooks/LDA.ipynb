{
 "cells": [
  {
   "cell_type": "markdown",
   "metadata": {},
   "source": [
    "# News headline topic analysis with Latent Dirichlet allocation (LDA)\n",
    "The purpose of this analysis is to find dominant topics across news headlines (25 per day, over 1 year). These topics will later be correlated with daily stock market loss/gain information to understand how certain topics influence the stock market.\n",
    "\n",
    "## What is LDA?\n",
    "Latent Dirichlet allocation is a way to create groupings of higher-level topics out of individual words present in any set of document (in our case, news headlines). You can use LDA to get a sense of the overall themes in a set of documents. \n",
    "\n",
    "LDA is an unsupervised machine learning model that works by analyzing two things: a distribution of topics in a document, and a distribution of words in a topic. The \"topics\" it finds aren't specific words (e.g., \"This headline is about 'war'\") but instead conceptually similar groups of words that together make up a theme (e.g., \"This headline is similar to the words 'war', 'crisis', 'iran'...\").\n",
    "\n",
    "Once you've created your LDA model, you can feed in a document and the model will score the overall relevancy of your document against the main _x_ topics found in your overall corpus. In other words, it will tell you which of the main topics found in the overall corpus are also found in your document, and to what extent.\n",
    "\n",
    "## Why LDA?\n",
    "LDA is a fairly popular topic modelling choice among NLP professionals, and relatively straightforward to implement. Using LDA, we were able to find 10 dominant themes in eight years' worth of news headlines within about an hour—a task that would take a human days to analyze.\n",
    "\n",
    "## How does text pre-processing affect the accuracy of LDA?\n",
    "We tested two pre-processing approaches: Bag of Words and TF-IDF, each of which count how often words appear in a document. The TF-IDF model tries to understand which words are more important than others in a document, and scores them accordingly. Presumably, TF-IDF preprocessing will help train a more accurate LDA model.\n",
    "\n",
    "## How does LDA perform compared to other topic models?\n",
    "More here later.\n",
    "\n",
    "## Credit\n",
    "Parts of this work borrow from excellent Susan Li's [\"Topic Modeling and LDA in Python\"](https://towardsdatascience.com/topic-modeling-and-latent-dirichlet-allocation-in-python-9bf156893c24) tutorial."
   ]
  },
  {
   "cell_type": "markdown",
   "metadata": {},
   "source": [
    "# Load the data from CSV, dependencies"
   ]
  },
  {
   "cell_type": "code",
   "execution_count": 1,
   "metadata": {},
   "outputs": [
    {
     "name": "stderr",
     "output_type": "stream",
     "text": [
      "[nltk_data] Downloading package wordnet to /Users/stacy/nltk_data...\n",
      "[nltk_data]   Package wordnet is already up-to-date!\n"
     ]
    }
   ],
   "source": [
    "# import dependencies\n",
    "import pandas as pd\n",
    "\n",
    "import gensim\n",
    "from gensim.utils import simple_preprocess\n",
    "from gensim.parsing.preprocessing import STOPWORDS\n",
    "\n",
    "import nltk\n",
    "nltk.download('wordnet')\n",
    "from nltk.stem import WordNetLemmatizer, SnowballStemmer\n",
    "from nltk.stem.porter import *\n",
    "\n",
    "import numpy as np\n",
    "np.random.seed(22)"
   ]
  },
  {
   "cell_type": "code",
   "execution_count": 2,
   "metadata": {},
   "outputs": [],
   "source": [
    "# Import the data\n",
    "data = pd.read_csv(\"../Data/RedditNews.csv\")"
   ]
  },
  {
   "cell_type": "code",
   "execution_count": 3,
   "metadata": {},
   "outputs": [
    {
     "data": {
      "text/html": [
       "<div>\n",
       "<style scoped>\n",
       "    .dataframe tbody tr th:only-of-type {\n",
       "        vertical-align: middle;\n",
       "    }\n",
       "\n",
       "    .dataframe tbody tr th {\n",
       "        vertical-align: top;\n",
       "    }\n",
       "\n",
       "    .dataframe thead th {\n",
       "        text-align: right;\n",
       "    }\n",
       "</style>\n",
       "<table border=\"1\" class=\"dataframe\">\n",
       "  <thead>\n",
       "    <tr style=\"text-align: right;\">\n",
       "      <th></th>\n",
       "      <th>Date</th>\n",
       "      <th>News</th>\n",
       "    </tr>\n",
       "  </thead>\n",
       "  <tbody>\n",
       "    <tr>\n",
       "      <th>0</th>\n",
       "      <td>2016-07-01</td>\n",
       "      <td>A 117-year-old woman in Mexico City finally re...</td>\n",
       "    </tr>\n",
       "    <tr>\n",
       "      <th>1</th>\n",
       "      <td>2016-07-01</td>\n",
       "      <td>IMF chief backs Athens as permanent Olympic host</td>\n",
       "    </tr>\n",
       "    <tr>\n",
       "      <th>2</th>\n",
       "      <td>2016-07-01</td>\n",
       "      <td>The president of France says if Brexit won, so...</td>\n",
       "    </tr>\n",
       "    <tr>\n",
       "      <th>3</th>\n",
       "      <td>2016-07-01</td>\n",
       "      <td>British Man Who Must Give Police 24 Hours' Not...</td>\n",
       "    </tr>\n",
       "    <tr>\n",
       "      <th>4</th>\n",
       "      <td>2016-07-01</td>\n",
       "      <td>100+ Nobel laureates urge Greenpeace to stop o...</td>\n",
       "    </tr>\n",
       "  </tbody>\n",
       "</table>\n",
       "</div>"
      ],
      "text/plain": [
       "         Date                                               News\n",
       "0  2016-07-01  A 117-year-old woman in Mexico City finally re...\n",
       "1  2016-07-01   IMF chief backs Athens as permanent Olympic host\n",
       "2  2016-07-01  The president of France says if Brexit won, so...\n",
       "3  2016-07-01  British Man Who Must Give Police 24 Hours' Not...\n",
       "4  2016-07-01  100+ Nobel laureates urge Greenpeace to stop o..."
      ]
     },
     "execution_count": 3,
     "metadata": {},
     "output_type": "execute_result"
    }
   ],
   "source": [
    "data.head()\n",
    "\n",
    "# 73,608 records from 2016-2018"
   ]
  },
  {
   "cell_type": "code",
   "execution_count": 4,
   "metadata": {},
   "outputs": [
    {
     "data": {
      "text/html": [
       "<div>\n",
       "<style scoped>\n",
       "    .dataframe tbody tr th:only-of-type {\n",
       "        vertical-align: middle;\n",
       "    }\n",
       "\n",
       "    .dataframe tbody tr th {\n",
       "        vertical-align: top;\n",
       "    }\n",
       "\n",
       "    .dataframe thead th {\n",
       "        text-align: right;\n",
       "    }\n",
       "</style>\n",
       "<table border=\"1\" class=\"dataframe\">\n",
       "  <thead>\n",
       "    <tr style=\"text-align: right;\">\n",
       "      <th></th>\n",
       "      <th>News</th>\n",
       "    </tr>\n",
       "  </thead>\n",
       "  <tbody>\n",
       "    <tr>\n",
       "      <th>0</th>\n",
       "      <td>A 117-year-old woman in Mexico City finally re...</td>\n",
       "    </tr>\n",
       "    <tr>\n",
       "      <th>1</th>\n",
       "      <td>IMF chief backs Athens as permanent Olympic host</td>\n",
       "    </tr>\n",
       "    <tr>\n",
       "      <th>2</th>\n",
       "      <td>The president of France says if Brexit won, so...</td>\n",
       "    </tr>\n",
       "    <tr>\n",
       "      <th>3</th>\n",
       "      <td>British Man Who Must Give Police 24 Hours' Not...</td>\n",
       "    </tr>\n",
       "    <tr>\n",
       "      <th>4</th>\n",
       "      <td>100+ Nobel laureates urge Greenpeace to stop o...</td>\n",
       "    </tr>\n",
       "  </tbody>\n",
       "</table>\n",
       "</div>"
      ],
      "text/plain": [
       "                                                News\n",
       "0  A 117-year-old woman in Mexico City finally re...\n",
       "1   IMF chief backs Athens as permanent Olympic host\n",
       "2  The president of France says if Brexit won, so...\n",
       "3  British Man Who Must Give Police 24 Hours' Not...\n",
       "4  100+ Nobel laureates urge Greenpeace to stop o..."
      ]
     },
     "execution_count": 4,
     "metadata": {},
     "output_type": "execute_result"
    }
   ],
   "source": [
    "# Getting just the headlines for our corpus\n",
    "headlines = data[['News']]\n",
    "headlines.head()"
   ]
  },
  {
   "cell_type": "markdown",
   "metadata": {},
   "source": [
    "# Data pre-processing\n",
    "## Lemmitize\n",
    "In order to properly identify topics, we need to standardize the words in some way, removing extraneous information like tenses or plurals (e.g. \"running\", \"runs\" -> \"run\"). Lemmatization is the best way to do that, although it's not always the fastest way. In some cases, stemming will also work, althought it is not as precise.\n",
    "\n",
    "Since we have a relatively small corpus to study, we will use lemmatization in order to be as precise as possible when cleaning up the words. To do this, we will feed in a `pos` parameter that tells our lemmatizing function to perform stemming with context.\n",
    "\n",
    "Natural Language Toolkit's `stem` package includes a handy function called `WordNetLemmatizer` that makes lemmatizing our words simple. "
   ]
  },
  {
   "cell_type": "code",
   "execution_count": 5,
   "metadata": {},
   "outputs": [],
   "source": [
    "# Lemmatize the words keeping the context (stemming is \"dumb\" so we won't)\n",
    "# However if we have a much larger corpus, we might consider stemming (as it is faster)\n",
    "def lemmatize(text):\n",
    "    return WordNetLemmatizer().lemmatize(text, pos='v') # pos='v' means it peforms stemming with context"
   ]
  },
  {
   "cell_type": "markdown",
   "metadata": {},
   "source": [
    "## Remove stopwords and words shorter than 3 chars\n",
    "We also need to remove common words that don't add value (\"a\", \"the\", etc). These are called _stopwords_, and most NLP libraries have built-in methods for dealing with them. In `gensim`, the stopwords list can be called using `gensim.parsing.preprocessing.STOPWORDS`."
   ]
  },
  {
   "cell_type": "code",
   "execution_count": 6,
   "metadata": {},
   "outputs": [],
   "source": [
    "# Remove stopwords and words shorter than 3 characters, then lemmatize\n",
    "def preprocess(text):\n",
    "    result = []\n",
    "    for token in gensim.utils.simple_preprocess(text):\n",
    "        if token not in gensim.parsing.preprocessing.STOPWORDS and len(token) > 3:\n",
    "            result.append(lemmatize(token))\n",
    "    return result"
   ]
  },
  {
   "cell_type": "markdown",
   "metadata": {},
   "source": [
    "## Check outputs\n",
    "Let's compare the regular version of a sample headlind with the tokenized and lemmatized version. You'll note they are slightly different, but retain the same context."
   ]
  },
  {
   "cell_type": "code",
   "execution_count": 7,
   "metadata": {},
   "outputs": [
    {
     "name": "stdout",
     "output_type": "stream",
     "text": [
      "original document: \n",
      "['The', 'president', 'of', 'France', 'says', 'if', 'Brexit', 'won,', 'so', 'can', 'Donald', 'Trump']\n",
      "\n",
      "\n",
      " tokenized and lemmatized document: \n",
      "['president', 'france', 'say', 'brexit', 'donald', 'trump']\n"
     ]
    }
   ],
   "source": [
    "sample = headlines['News'][2]\n",
    "\n",
    "print('original document: ')\n",
    "words = []\n",
    "for word in sample.split(' '):\n",
    "    words.append(word)\n",
    "print(words)\n",
    "print('\\n\\n tokenized and lemmatized document: ')\n",
    "print(preprocess(sample))"
   ]
  },
  {
   "cell_type": "markdown",
   "metadata": {},
   "source": [
    "## Preprocess the headlines and save the results\n",
    "Now we feed all the headlines into the preprocessing function, which lemmatizes and removes stopwords. "
   ]
  },
  {
   "cell_type": "code",
   "execution_count": 8,
   "metadata": {},
   "outputs": [
    {
     "data": {
      "text/plain": [
       "0    [year, woman, mexico, city, finally, receive, ...\n",
       "1      [chief, back, athens, permanent, olympic, host]\n",
       "2      [president, france, say, brexit, donald, trump]\n",
       "3    [british, police, hours, notice, threaten, hun...\n",
       "4    [nobel, laureates, urge, greenpeace, stop, opp...\n",
       "Name: News, dtype: object"
      ]
     },
     "execution_count": 8,
     "metadata": {},
     "output_type": "execute_result"
    }
   ],
   "source": [
    "cleaned_headlines = headlines['News'].map(preprocess)\n",
    "cleaned_headlines[:5] # Check the results"
   ]
  },
  {
   "cell_type": "markdown",
   "metadata": {},
   "source": [
    "## Count the word occurences using Bag of Words\n",
    "We can count the words using different approaches. Bag of Words will simply count all remaining words left in our corpus."
   ]
  },
  {
   "cell_type": "code",
   "execution_count": 9,
   "metadata": {},
   "outputs": [
    {
     "name": "stdout",
     "output_type": "stream",
     "text": [
      "0 alvarez\n",
      "1 bear\n",
      "2 birth\n",
      "3 certificate\n",
      "4 city\n",
      "5 die\n",
      "6 finally\n",
      "7 hours\n",
      "8 later\n",
      "9 lira\n",
      "10 mexico\n"
     ]
    }
   ],
   "source": [
    "# First we need to convert the words to numeric indices. We can do that with a gensim Dictionary.\n",
    "\n",
    "# corpora.Dictionary implements the concept of a Dictionary – a mapping between words and their integer ids.\n",
    "# https://radimrehurek.com/gensim/corpora/dictionary.html\n",
    "\n",
    "dictionary = gensim.corpora.Dictionary(cleaned_headlines)\n",
    "\n",
    "count = 0\n",
    "for k, v in dictionary.iteritems():\n",
    "    print(k, v)\n",
    "    count += 1\n",
    "    if count > 10:\n",
    "        break"
   ]
  },
  {
   "cell_type": "code",
   "execution_count": 10,
   "metadata": {},
   "outputs": [],
   "source": [
    "'''\n",
    "Filter out irrelevant words:\n",
    "Keep tokens that appear in at least 15 documents\n",
    "Keep only the 100,000 most frequent tokens\n",
    "'''\n",
    "\n",
    "dictionary.filter_extremes(no_below=15, keep_n=100000)"
   ]
  },
  {
   "cell_type": "code",
   "execution_count": 17,
   "metadata": {},
   "outputs": [
    {
     "name": "stdout",
     "output_type": "stream",
     "text": [
      "[(21, 1), (22, 1), (23, 1), (24, 1), (25, 1), (26, 1)]\n",
      "Word 21 (\"brexit\") appears 1 time.\n",
      "Word 22 (\"donald\") appears 1 time.\n",
      "Word 23 (\"france\") appears 1 time.\n",
      "Word 24 (\"president\") appears 1 time.\n",
      "Word 25 (\"say\") appears 1 time.\n",
      "Word 26 (\"trump\") appears 1 time.\n"
     ]
    }
   ],
   "source": [
    "'''\n",
    "Apply `doc2bow` to each headline, which createst a Bag of Words dictionary that reports how many words \n",
    "are in the headline and how many times each word appears.\n",
    "\n",
    "Save this to an array, then check the example headline from above.\n",
    "'''\n",
    "\n",
    "bow_corpus = [dictionary.doc2bow(headline) for headline in cleaned_headlines]\n",
    "print(bow_corpus[2])\n",
    "\n",
    "bow_doc_2 = bow_corpus[2]\n",
    "\n",
    "for i in range(len(bow_doc_2)):\n",
    "    print(\"Word {} (\\\"{}\\\") appears {} time.\".format(bow_doc_2[i][0], \n",
    "                                            dictionary[bow_doc_2[i][0]], \n",
    "                                            bow_doc_2[i][1]))"
   ]
  },
  {
   "cell_type": "markdown",
   "metadata": {},
   "source": [
    "## Count the word occurences using TF-IDF\n",
    "We'll also test whether TF-IDF works better than Bag of Words for creating a corpus that, when fed into our LDA model, will produce coherent and accurate topics. \n",
    "\n",
    "In `gensim`, TF-IDF builds on Bag of Words, taking in processed BoW corpus data and returning a number that reflects how important a word is to each headline in the overall corpus. Conversely, the scikit-learn implementation of TF-IDF handles this all in one step."
   ]
  },
  {
   "cell_type": "code",
   "execution_count": 21,
   "metadata": {},
   "outputs": [
    {
     "data": {
      "text/plain": [
       "[(21, 0.5271930944921088),\n",
       " (22, 0.5289685708527566),\n",
       " (23, 0.3076906708092066),\n",
       " (24, 0.25211992539378436),\n",
       " (25, 0.18133987533447585),\n",
       " (26, 0.5011362450471095)]"
      ]
     },
     "execution_count": 21,
     "metadata": {},
     "output_type": "execute_result"
    }
   ],
   "source": [
    "from gensim import corpora, models\n",
    "\n",
    "# Create the model\n",
    "tfidf = models.TfidfModel(bow_corpus)\n",
    "\n",
    "# Feed in the BoW corpus to the TF-IDF model\n",
    "corpus_tfidf = tfidf[bow_corpus]\n",
    "\n",
    "# Print the same headline from above\n",
    "corpus_tfidf[2]"
   ]
  },
  {
   "cell_type": "markdown",
   "metadata": {},
   "source": [
    "## Running LDA using Bag of Words\n",
    "We'll first run `LdaMulticore` using our `bow_corpus` and limiting our number of topics to 10. We're also going to print out the resulting topics and how the dominant words score in each topic. The parameter `id2word` helps us pass the numeric indices in our dictionary back into human-readable words."
   ]
  },
  {
   "cell_type": "code",
   "execution_count": 28,
   "metadata": {},
   "outputs": [],
   "source": [
    "# We have to play around with how many passes to take over the corpus in order to make the topics coherent\n",
    "lda_model_bow = gensim.models.LdaMulticore(bow_corpus, num_topics=10, id2word=dictionary, passes=2)"
   ]
  },
  {
   "cell_type": "code",
   "execution_count": 29,
   "metadata": {},
   "outputs": [
    {
     "name": "stdout",
     "output_type": "stream",
     "text": [
      "Topic: 0 \n",
      "Words: 0.012*\"court\" + 0.010*\"police\" + 0.008*\"torture\" + 0.008*\"abuse\" + 0.007*\"german\" + 0.006*\"pirate\" + 0.006*\"say\" + 0.006*\"kill\" + 0.006*\"pope\" + 0.006*\"rule\"\n",
      "Topic: 1 \n",
      "Words: 0.020*\"drug\" + 0.019*\"kill\" + 0.012*\"mexico\" + 0.010*\"president\" + 0.009*\"year\" + 0.007*\"say\" + 0.007*\"afghanistan\" + 0.007*\"afghan\" + 0.007*\"zimbabwe\" + 0.007*\"mugabe\"\n",
      "Topic: 2 \n",
      "Words: 0.021*\"china\" + 0.013*\"years\" + 0.010*\"chinese\" + 0.010*\"kill\" + 0.008*\"pakistan\" + 0.007*\"media\" + 0.007*\"dead\" + 0.007*\"children\" + 0.007*\"internet\" + 0.007*\"attack\"\n",
      "Topic: 3 \n",
      "Words: 0.016*\"say\" + 0.014*\"attack\" + 0.012*\"russia\" + 0.009*\"government\" + 0.009*\"syria\" + 0.009*\"france\" + 0.008*\"iran\" + 0.007*\"president\" + 0.007*\"kill\" + 0.007*\"troop\"\n",
      "Topic: 4 \n",
      "Words: 0.027*\"israel\" + 0.013*\"right\" + 0.012*\"state\" + 0.012*\"israeli\" + 0.011*\"palestinian\" + 0.009*\"president\" + 0.009*\"human\" + 0.009*\"egypt\" + 0.008*\"palestinians\" + 0.006*\"egyptian\"\n",
      "Topic: 5 \n",
      "Words: 0.030*\"iran\" + 0.022*\"north\" + 0.022*\"korea\" + 0.018*\"south\" + 0.016*\"russia\" + 0.015*\"nuclear\" + 0.010*\"china\" + 0.009*\"say\" + 0.009*\"georgia\" + 0.009*\"military\"\n",
      "Topic: 6 \n",
      "Words: 0.026*\"world\" + 0.010*\"japan\" + 0.008*\"nuclear\" + 0.008*\"power\" + 0.008*\"china\" + 0.007*\"water\" + 0.006*\"people\" + 0.006*\"food\" + 0.006*\"global\" + 0.006*\"time\"\n",
      "Topic: 7 \n",
      "Words: 0.018*\"protest\" + 0.017*\"police\" + 0.016*\"government\" + 0.009*\"european\" + 0.009*\"people\" + 0.009*\"thousands\" + 0.007*\"london\" + 0.007*\"anti\" + 0.007*\"say\" + 0.006*\"protesters\"\n",
      "Topic: 8 \n",
      "Words: 0.023*\"iraq\" + 0.013*\"death\" + 0.013*\"saudi\" + 0.010*\"women\" + 0.009*\"force\" + 0.008*\"home\" + 0.008*\"kill\" + 0.007*\"woman\" + 0.007*\"arabia\" + 0.006*\"muslim\"\n",
      "Topic: 9 \n",
      "Words: 0.028*\"gaza\" + 0.022*\"israel\" + 0.018*\"minister\" + 0.013*\"israeli\" + 0.011*\"say\" + 0.010*\"prime\" + 0.010*\"kill\" + 0.009*\"hamas\" + 0.008*\"bomb\" + 0.007*\"arab\"\n"
     ]
    }
   ],
   "source": [
    "# Print each topic and how the words in those topics score (their relative weight)\n",
    "for idx, topic in lda_model_bow.print_topics(-1):\n",
    "    print('Topic: {} \\nWords: {}'.format(idx, topic))"
   ]
  },
  {
   "cell_type": "markdown",
   "metadata": {},
   "source": [
    "## Running LDA using TF-IDF\n",
    "We'll run the same LDA model on the corpus processed using TF-IDF, to see if the topics generated here are any more meaningful. We'll use the same other parameters in our `LdaMulticore` model, for consistency."
   ]
  },
  {
   "cell_type": "code",
   "execution_count": 30,
   "metadata": {},
   "outputs": [
    {
     "name": "stdout",
     "output_type": "stream",
     "text": [
      "Topic: 0 Word: 0.014*\"korea\" + 0.014*\"nuclear\" + 0.012*\"north\" + 0.011*\"iran\" + 0.007*\"china\" + 0.005*\"missile\" + 0.005*\"ahmadinejad\" + 0.005*\"russia\" + 0.005*\"israel\" + 0.005*\"world\"\n",
      "Topic: 1 Word: 0.006*\"sentence\" + 0.005*\"prison\" + 0.005*\"jail\" + 0.005*\"iran\" + 0.004*\"years\" + 0.004*\"death\" + 0.004*\"court\" + 0.004*\"internet\" + 0.003*\"mumbai\" + 0.003*\"torture\"\n",
      "Topic: 2 Word: 0.014*\"gaza\" + 0.011*\"israel\" + 0.007*\"israeli\" + 0.006*\"drug\" + 0.006*\"mugabe\" + 0.005*\"chavez\" + 0.005*\"mexico\" + 0.005*\"police\" + 0.005*\"zimbabwe\" + 0.004*\"attack\"\n",
      "Topic: 3 Word: 0.004*\"ossetia\" + 0.004*\"pirate\" + 0.004*\"minister\" + 0.004*\"police\" + 0.004*\"kill\" + 0.003*\"israel\" + 0.003*\"world\" + 0.003*\"mubarak\" + 0.003*\"dead\" + 0.003*\"attack\"\n",
      "Topic: 4 Word: 0.007*\"china\" + 0.006*\"world\" + 0.006*\"olympics\" + 0.006*\"olympic\" + 0.006*\"protest\" + 0.005*\"russia\" + 0.005*\"iran\" + 0.005*\"bank\" + 0.005*\"putin\" + 0.004*\"billion\"\n",
      "Topic: 5 Word: 0.008*\"georgia\" + 0.006*\"world\" + 0.006*\"food\" + 0.004*\"price\" + 0.004*\"assange\" + 0.004*\"china\" + 0.004*\"people\" + 0.003*\"water\" + 0.003*\"say\" + 0.003*\"russia\"\n",
      "Topic: 6 Word: 0.010*\"bush\" + 0.004*\"right\" + 0.004*\"government\" + 0.004*\"berlusconi\" + 0.004*\"police\" + 0.004*\"iraq\" + 0.004*\"haiti\" + 0.004*\"murdoch\" + 0.004*\"arrest\" + 0.004*\"british\"\n",
      "Topic: 7 Word: 0.005*\"israeli\" + 0.004*\"israel\" + 0.004*\"abuse\" + 0.004*\"year\" + 0.004*\"church\" + 0.004*\"earthquake\" + 0.004*\"child\" + 0.004*\"dubai\" + 0.004*\"china\" + 0.004*\"police\"\n",
      "Topic: 8 Word: 0.006*\"israel\" + 0.005*\"vote\" + 0.004*\"right\" + 0.004*\"iran\" + 0.004*\"riot\" + 0.004*\"say\" + 0.004*\"israeli\" + 0.004*\"state\" + 0.004*\"parliament\" + 0.003*\"party\"\n",
      "Topic: 9 Word: 0.017*\"kill\" + 0.010*\"pakistan\" + 0.009*\"afghanistan\" + 0.009*\"bomb\" + 0.008*\"troop\" + 0.008*\"iraq\" + 0.008*\"taliban\" + 0.007*\"attack\" + 0.007*\"afghan\" + 0.006*\"force\"\n"
     ]
    }
   ],
   "source": [
    "lda_model_tfidf = gensim.models.LdaMulticore(corpus_tfidf, num_topics=10, id2word=dictionary, passes=2)\n",
    "\n",
    "for idx, topic in lda_model_tfidf.print_topics(-1):\n",
    "    print('Topic: {} Word: {}'.format(idx, topic))"
   ]
  },
  {
   "cell_type": "markdown",
   "metadata": {},
   "source": [
    "## Compare the performance of the two preprocessing steps in the LDA model"
   ]
  },
  {
   "cell_type": "code",
   "execution_count": 42,
   "metadata": {},
   "outputs": [
    {
     "data": {
      "text/plain": [
       "['president', 'france', 'say', 'brexit', 'donald', 'trump']"
      ]
     },
     "execution_count": 42,
     "metadata": {},
     "output_type": "execute_result"
    }
   ],
   "source": [
    "# our test headline from above\n",
    "cleaned_headlines[2]"
   ]
  },
  {
   "cell_type": "markdown",
   "metadata": {},
   "source": [
    "### Bag of Words LDA model scores"
   ]
  },
  {
   "cell_type": "code",
   "execution_count": 34,
   "metadata": {},
   "outputs": [
    {
     "name": "stdout",
     "output_type": "stream",
     "text": [
      "\n",
      "Score: 0.5333513021469116\t \n",
      "Topic: 0.030*\"iran\" + 0.022*\"north\" + 0.022*\"korea\" + 0.018*\"south\" + 0.016*\"russia\" + 0.015*\"nuclear\" + 0.010*\"china\" + 0.009*\"say\" + 0.009*\"georgia\" + 0.009*\"military\"\n",
      "\n",
      "Score: 0.35183143615722656\t \n",
      "Topic: 0.016*\"say\" + 0.014*\"attack\" + 0.012*\"russia\" + 0.009*\"government\" + 0.009*\"syria\" + 0.009*\"france\" + 0.008*\"iran\" + 0.007*\"president\" + 0.007*\"kill\" + 0.007*\"troop\"\n",
      "\n",
      "Score: 0.01435746531933546\t \n",
      "Topic: 0.020*\"drug\" + 0.019*\"kill\" + 0.012*\"mexico\" + 0.010*\"president\" + 0.009*\"year\" + 0.007*\"say\" + 0.007*\"afghanistan\" + 0.007*\"afghan\" + 0.007*\"zimbabwe\" + 0.007*\"mugabe\"\n",
      "\n",
      "Score: 0.014355541206896305\t \n",
      "Topic: 0.023*\"iraq\" + 0.013*\"death\" + 0.013*\"saudi\" + 0.010*\"women\" + 0.009*\"force\" + 0.008*\"home\" + 0.008*\"kill\" + 0.007*\"woman\" + 0.007*\"arabia\" + 0.006*\"muslim\"\n",
      "\n",
      "Score: 0.014352452009916306\t \n",
      "Topic: 0.012*\"court\" + 0.010*\"police\" + 0.008*\"torture\" + 0.008*\"abuse\" + 0.007*\"german\" + 0.006*\"pirate\" + 0.006*\"say\" + 0.006*\"kill\" + 0.006*\"pope\" + 0.006*\"rule\"\n",
      "\n",
      "Score: 0.014351281337440014\t \n",
      "Topic: 0.018*\"protest\" + 0.017*\"police\" + 0.016*\"government\" + 0.009*\"european\" + 0.009*\"people\" + 0.009*\"thousands\" + 0.007*\"london\" + 0.007*\"anti\" + 0.007*\"say\" + 0.006*\"protesters\"\n",
      "\n",
      "Score: 0.014350738376379013\t \n",
      "Topic: 0.027*\"israel\" + 0.013*\"right\" + 0.012*\"state\" + 0.012*\"israeli\" + 0.011*\"palestinian\" + 0.009*\"president\" + 0.009*\"human\" + 0.009*\"egypt\" + 0.008*\"palestinians\" + 0.006*\"egyptian\"\n",
      "\n",
      "Score: 0.014350738376379013\t \n",
      "Topic: 0.028*\"gaza\" + 0.022*\"israel\" + 0.018*\"minister\" + 0.013*\"israeli\" + 0.011*\"say\" + 0.010*\"prime\" + 0.010*\"kill\" + 0.009*\"hamas\" + 0.008*\"bomb\" + 0.007*\"arab\"\n",
      "\n",
      "Score: 0.014350607059895992\t \n",
      "Topic: 0.026*\"world\" + 0.010*\"japan\" + 0.008*\"nuclear\" + 0.008*\"power\" + 0.008*\"china\" + 0.007*\"water\" + 0.006*\"people\" + 0.006*\"food\" + 0.006*\"global\" + 0.006*\"time\"\n",
      "\n",
      "Score: 0.014348436146974564\t \n",
      "Topic: 0.021*\"china\" + 0.013*\"years\" + 0.010*\"chinese\" + 0.010*\"kill\" + 0.008*\"pakistan\" + 0.007*\"media\" + 0.007*\"dead\" + 0.007*\"children\" + 0.007*\"internet\" + 0.007*\"attack\"\n"
     ]
    }
   ],
   "source": [
    "for index, score in sorted(lda_model_bow[bow_corpus[2]], key=lambda tup: -1*tup[1]):\n",
    "    print(\"\\nScore: {}\\t \\nTopic: {}\".format(score, lda_model_bow.print_topic(index, 10)))"
   ]
  },
  {
   "cell_type": "markdown",
   "metadata": {},
   "source": [
    "### TF-IDF LDA model scores"
   ]
  },
  {
   "cell_type": "code",
   "execution_count": 35,
   "metadata": {},
   "outputs": [
    {
     "name": "stdout",
     "output_type": "stream",
     "text": [
      "\n",
      "Score: 0.8712913990020752\t \n",
      "Topic: 0.014*\"gaza\" + 0.011*\"israel\" + 0.007*\"israeli\" + 0.006*\"drug\" + 0.006*\"mugabe\" + 0.005*\"chavez\" + 0.005*\"mexico\" + 0.005*\"police\" + 0.005*\"zimbabwe\" + 0.004*\"attack\"\n",
      "\n",
      "Score: 0.01430324837565422\t \n",
      "Topic: 0.006*\"israel\" + 0.005*\"vote\" + 0.004*\"right\" + 0.004*\"iran\" + 0.004*\"riot\" + 0.004*\"say\" + 0.004*\"israeli\" + 0.004*\"state\" + 0.004*\"parliament\" + 0.003*\"party\"\n",
      "\n",
      "Score: 0.014301725663244724\t \n",
      "Topic: 0.007*\"china\" + 0.006*\"world\" + 0.006*\"olympics\" + 0.006*\"olympic\" + 0.006*\"protest\" + 0.005*\"russia\" + 0.005*\"iran\" + 0.005*\"bank\" + 0.005*\"putin\" + 0.004*\"billion\"\n",
      "\n",
      "Score: 0.014301386661827564\t \n",
      "Topic: 0.014*\"korea\" + 0.014*\"nuclear\" + 0.012*\"north\" + 0.011*\"iran\" + 0.007*\"china\" + 0.005*\"missile\" + 0.005*\"ahmadinejad\" + 0.005*\"russia\" + 0.005*\"israel\" + 0.005*\"world\"\n",
      "\n",
      "Score: 0.0143008166924119\t \n",
      "Topic: 0.017*\"kill\" + 0.010*\"pakistan\" + 0.009*\"afghanistan\" + 0.009*\"bomb\" + 0.008*\"troop\" + 0.008*\"iraq\" + 0.008*\"taliban\" + 0.007*\"attack\" + 0.007*\"afghan\" + 0.006*\"force\"\n",
      "\n",
      "Score: 0.014300542883574963\t \n",
      "Topic: 0.005*\"israeli\" + 0.004*\"israel\" + 0.004*\"abuse\" + 0.004*\"year\" + 0.004*\"church\" + 0.004*\"earthquake\" + 0.004*\"child\" + 0.004*\"dubai\" + 0.004*\"china\" + 0.004*\"police\"\n",
      "\n",
      "Score: 0.014300413429737091\t \n",
      "Topic: 0.004*\"ossetia\" + 0.004*\"pirate\" + 0.004*\"minister\" + 0.004*\"police\" + 0.004*\"kill\" + 0.003*\"israel\" + 0.003*\"world\" + 0.003*\"mubarak\" + 0.003*\"dead\" + 0.003*\"attack\"\n",
      "\n",
      "Score: 0.01430036686360836\t \n",
      "Topic: 0.010*\"bush\" + 0.004*\"right\" + 0.004*\"government\" + 0.004*\"berlusconi\" + 0.004*\"police\" + 0.004*\"iraq\" + 0.004*\"haiti\" + 0.004*\"murdoch\" + 0.004*\"arrest\" + 0.004*\"british\"\n",
      "\n",
      "Score: 0.014300351962447166\t \n",
      "Topic: 0.006*\"sentence\" + 0.005*\"prison\" + 0.005*\"jail\" + 0.005*\"iran\" + 0.004*\"years\" + 0.004*\"death\" + 0.004*\"court\" + 0.004*\"internet\" + 0.003*\"mumbai\" + 0.003*\"torture\"\n",
      "\n",
      "Score: 0.014299778267741203\t \n",
      "Topic: 0.008*\"georgia\" + 0.006*\"world\" + 0.006*\"food\" + 0.004*\"price\" + 0.004*\"assange\" + 0.004*\"china\" + 0.004*\"people\" + 0.003*\"water\" + 0.003*\"say\" + 0.003*\"russia\"\n"
     ]
    }
   ],
   "source": [
    "for index, score in sorted(lda_model_tfidf[bow_corpus[2]], key=lambda tup: -1*tup[1]):\n",
    "    print(\"\\nScore: {}\\t \\nTopic: {}\".format(score, lda_model_tfidf.print_topic(index)))"
   ]
  },
  {
   "cell_type": "markdown",
   "metadata": {},
   "source": [
    "Both approaches have relatively high accuracy with classification (> .80), and mostly make sense when reviewed by a human. What if we predicted topics for a headline that does not appear in our training set?\n",
    "\n",
    "### Testing models on a new headline\n",
    "When using an unseen headline, the Bag of Words-trained LDA model appears to classify the headline's topic more accurately.\n",
    "\n",
    "* Bag of Words top topic: `Topic: 0.030*\"iran\" + 0.022*\"north\" + 0.022*\"korea\" + 0.018*\"south\" + 0.016*\"russia\"`\n",
    "* TF-IDF top topic: `Topic: 0.014*\"gaza\" + 0.011*\"israel\" + 0.007*\"israeli\" + 0.006*\"drug\" + 0.006*\"mugabe\"`"
   ]
  },
  {
   "cell_type": "code",
   "execution_count": 40,
   "metadata": {
    "scrolled": true
   },
   "outputs": [
    {
     "name": "stdout",
     "output_type": "stream",
     "text": [
      "BoW approach\n",
      "\n",
      "Score: 0.7748793959617615\t Topic: 0.030*\"iran\" + 0.022*\"north\" + 0.022*\"korea\" + 0.018*\"south\" + 0.016*\"russia\"\n",
      "Score: 0.0250187199562788\t Topic: 0.021*\"china\" + 0.013*\"years\" + 0.010*\"chinese\" + 0.010*\"kill\" + 0.008*\"pakistan\"\n",
      "Score: 0.02501658909022808\t Topic: 0.023*\"iraq\" + 0.013*\"death\" + 0.013*\"saudi\" + 0.010*\"women\" + 0.009*\"force\"\n",
      "Score: 0.025015806779265404\t Topic: 0.012*\"court\" + 0.010*\"police\" + 0.008*\"torture\" + 0.008*\"abuse\" + 0.007*\"german\"\n",
      "Score: 0.025015080347657204\t Topic: 0.028*\"gaza\" + 0.022*\"israel\" + 0.018*\"minister\" + 0.013*\"israeli\" + 0.011*\"say\"\n",
      "Score: 0.02501382865011692\t Topic: 0.018*\"protest\" + 0.017*\"police\" + 0.016*\"government\" + 0.009*\"european\" + 0.009*\"people\"\n",
      "Score: 0.025012344121932983\t Topic: 0.026*\"world\" + 0.010*\"japan\" + 0.008*\"nuclear\" + 0.008*\"power\" + 0.008*\"china\"\n",
      "Score: 0.02500961162149906\t Topic: 0.027*\"israel\" + 0.013*\"right\" + 0.012*\"state\" + 0.012*\"israeli\" + 0.011*\"palestinian\"\n",
      "Score: 0.02500947378575802\t Topic: 0.020*\"drug\" + 0.019*\"kill\" + 0.012*\"mexico\" + 0.010*\"president\" + 0.009*\"year\"\n",
      "Score: 0.025009144097566605\t Topic: 0.016*\"say\" + 0.014*\"attack\" + 0.012*\"russia\" + 0.009*\"government\" + 0.009*\"syria\"\n",
      "\n",
      "TF-IDF approach\n",
      "Score: 0.7749046683311462\t Topic: 0.014*\"gaza\" + 0.011*\"israel\" + 0.007*\"israeli\" + 0.006*\"drug\" + 0.006*\"mugabe\"\n",
      "Score: 0.025017712265253067\t Topic: 0.007*\"china\" + 0.006*\"world\" + 0.006*\"olympics\" + 0.006*\"olympic\" + 0.006*\"protest\"\n",
      "Score: 0.025012053549289703\t Topic: 0.014*\"korea\" + 0.014*\"nuclear\" + 0.012*\"north\" + 0.011*\"iran\" + 0.007*\"china\"\n",
      "Score: 0.025011157616972923\t Topic: 0.005*\"israeli\" + 0.004*\"israel\" + 0.004*\"abuse\" + 0.004*\"year\" + 0.004*\"church\"\n",
      "Score: 0.025010721758008003\t Topic: 0.017*\"kill\" + 0.010*\"pakistan\" + 0.009*\"afghanistan\" + 0.009*\"bomb\" + 0.008*\"troop\"\n",
      "Score: 0.025010522454977036\t Topic: 0.006*\"israel\" + 0.005*\"vote\" + 0.004*\"right\" + 0.004*\"iran\" + 0.004*\"riot\"\n",
      "Score: 0.025009172037243843\t Topic: 0.008*\"georgia\" + 0.006*\"world\" + 0.006*\"food\" + 0.004*\"price\" + 0.004*\"assange\"\n",
      "Score: 0.025008346885442734\t Topic: 0.004*\"ossetia\" + 0.004*\"pirate\" + 0.004*\"minister\" + 0.004*\"police\" + 0.004*\"kill\"\n",
      "Score: 0.025008227676153183\t Topic: 0.010*\"bush\" + 0.004*\"right\" + 0.004*\"government\" + 0.004*\"berlusconi\" + 0.004*\"police\"\n",
      "Score: 0.025007372722029686\t Topic: 0.006*\"sentence\" + 0.005*\"prison\" + 0.005*\"jail\" + 0.005*\"iran\" + 0.004*\"years\"\n"
     ]
    }
   ],
   "source": [
    "unseen_document = 'Trump finally broke with Fauci'\n",
    "bow_vector = dictionary.doc2bow(preprocess(unseen_document))\n",
    "\n",
    "print(\"BoW approach\\n\")\n",
    "for index, score in sorted(lda_model_bow[bow_vector], key=lambda tup: -1*tup[1]):\n",
    "    print(\"Score: {}\\t Topic: {}\".format(score, lda_model_bow.print_topic(index, 5)))\n",
    "    \n",
    "print(\"\\nTF-IDF approach\")\n",
    "for index, score in sorted(lda_model_tfidf[bow_vector], key=lambda tup: -1*tup[1]):\n",
    "    print(\"Score: {}\\t Topic: {}\".format(score, lda_model_tfidf.print_topic(index, 5)))"
   ]
  },
  {
   "cell_type": "markdown",
   "metadata": {},
   "source": [
    "## Export the model\n",
    "We'll use the LDA-Bag of words model, which appears to be more accurate (based on our test documents)."
   ]
  },
  {
   "cell_type": "code",
   "execution_count": 41,
   "metadata": {},
   "outputs": [
    {
     "data": {
      "text/plain": [
       "['lda_bow.gz']"
      ]
     },
     "execution_count": 41,
     "metadata": {},
     "output_type": "execute_result"
    }
   ],
   "source": [
    "import joblib\n",
    "joblib.dump(lda_model_bow, \"lda_bow.gz\")"
   ]
  },
  {
   "cell_type": "markdown",
   "metadata": {},
   "source": [
    "## Append topics and scores to cleaned dataset"
   ]
  },
  {
   "cell_type": "code",
   "execution_count": 42,
   "metadata": {},
   "outputs": [
    {
     "data": {
      "text/plain": [
       "[5, 0.77487856]"
      ]
     },
     "execution_count": 42,
     "metadata": {},
     "output_type": "execute_result"
    }
   ],
   "source": [
    "# This function returns the best-scoring topic and score assocated with a headline\n",
    "def topic_getter(headline):\n",
    "    if headline == np.nan:\n",
    "        return [np.nan,np.nan]\n",
    "    else:\n",
    "        processed_headline = dictionary.doc2bow(preprocess(headline))\n",
    "        topic_scores = sorted(lda_model_bow[processed_headline], key=lambda tup: -1*tup[1])\n",
    "        topic = topic_scores[0][0]\n",
    "        score = topic_scores[0][1]\n",
    "        return [topic, score]\n",
    "\n",
    "topic_getter(unseen_document)"
   ]
  },
  {
   "cell_type": "code",
   "execution_count": 48,
   "metadata": {},
   "outputs": [
    {
     "data": {
      "text/html": [
       "<div>\n",
       "<style scoped>\n",
       "    .dataframe tbody tr th:only-of-type {\n",
       "        vertical-align: middle;\n",
       "    }\n",
       "\n",
       "    .dataframe tbody tr th {\n",
       "        vertical-align: top;\n",
       "    }\n",
       "\n",
       "    .dataframe thead th {\n",
       "        text-align: right;\n",
       "    }\n",
       "</style>\n",
       "<table border=\"1\" class=\"dataframe\">\n",
       "  <thead>\n",
       "    <tr style=\"text-align: right;\">\n",
       "      <th></th>\n",
       "      <th>Date</th>\n",
       "      <th>Label</th>\n",
       "      <th>Top1</th>\n",
       "      <th>Top2</th>\n",
       "      <th>Top3</th>\n",
       "      <th>Top4</th>\n",
       "      <th>Top5</th>\n",
       "      <th>Top6</th>\n",
       "      <th>Top7</th>\n",
       "      <th>Top8</th>\n",
       "      <th>...</th>\n",
       "      <th>Top16</th>\n",
       "      <th>Top17</th>\n",
       "      <th>Top18</th>\n",
       "      <th>Top19</th>\n",
       "      <th>Top20</th>\n",
       "      <th>Top21</th>\n",
       "      <th>Top22</th>\n",
       "      <th>Top23</th>\n",
       "      <th>Top24</th>\n",
       "      <th>Top25</th>\n",
       "    </tr>\n",
       "  </thead>\n",
       "  <tbody>\n",
       "    <tr>\n",
       "      <th>0</th>\n",
       "      <td>2008-08-08</td>\n",
       "      <td>0</td>\n",
       "      <td>b\"Georgia 'downs two Russian warplanes' as cou...</td>\n",
       "      <td>b'BREAKING: Musharraf to be impeached.'</td>\n",
       "      <td>b'Russia Today: Columns of troops roll into So...</td>\n",
       "      <td>b'Russian tanks are moving towards the capital...</td>\n",
       "      <td>b\"Afghan children raped with 'impunity,' U.N. ...</td>\n",
       "      <td>b'150 Russian tanks have entered South Ossetia...</td>\n",
       "      <td>b\"Breaking: Georgia invades South Ossetia, Rus...</td>\n",
       "      <td>b\"The 'enemy combatent' trials are nothing but...</td>\n",
       "      <td>...</td>\n",
       "      <td>b'Georgia Invades South Ossetia - if Russia ge...</td>\n",
       "      <td>b'Al-Qaeda Faces Islamist Backlash'</td>\n",
       "      <td>b'Condoleezza Rice: \"The US would not act to p...</td>\n",
       "      <td>b'This is a busy day:  The European Union has ...</td>\n",
       "      <td>b\"Georgia will withdraw 1,000 soldiers from Ir...</td>\n",
       "      <td>b'Why the Pentagon Thinks Attacking Iran is a ...</td>\n",
       "      <td>b'Caucasus in crisis: Georgia invades South Os...</td>\n",
       "      <td>b'Indian shoe manufactory  - And again in a se...</td>\n",
       "      <td>b'Visitors Suffering from Mental Illnesses Ban...</td>\n",
       "      <td>b\"No Help for Mexico's Kidnapping Surge\"</td>\n",
       "    </tr>\n",
       "    <tr>\n",
       "      <th>1</th>\n",
       "      <td>2008-08-11</td>\n",
       "      <td>1</td>\n",
       "      <td>b'Why wont America and Nato help us? If they w...</td>\n",
       "      <td>b'Bush puts foot down on Georgian conflict'</td>\n",
       "      <td>b\"Jewish Georgian minister: Thanks to Israeli ...</td>\n",
       "      <td>b'Georgian army flees in disarray as Russians ...</td>\n",
       "      <td>b\"Olympic opening ceremony fireworks 'faked'\"</td>\n",
       "      <td>b'What were the Mossad with fraudulent New Zea...</td>\n",
       "      <td>b'Russia angered by Israeli military sale to G...</td>\n",
       "      <td>b'An American citizen living in S.Ossetia blam...</td>\n",
       "      <td>...</td>\n",
       "      <td>b'Israel and the US behind the Georgian aggres...</td>\n",
       "      <td>b'\"Do not believe TV, neither Russian nor Geor...</td>\n",
       "      <td>b'Riots are still going on in Montreal (Canada...</td>\n",
       "      <td>b'China to overtake US as largest manufacturer'</td>\n",
       "      <td>b'War in South Ossetia [PICS]'</td>\n",
       "      <td>b'Israeli Physicians Group Condemns State Tort...</td>\n",
       "      <td>b' Russia has just beaten the United States ov...</td>\n",
       "      <td>b'Perhaps *the* question about the Georgia - R...</td>\n",
       "      <td>b'Russia is so much better at war'</td>\n",
       "      <td>b\"So this is what it's come to: trading sex fo...</td>\n",
       "    </tr>\n",
       "    <tr>\n",
       "      <th>2</th>\n",
       "      <td>2008-08-12</td>\n",
       "      <td>0</td>\n",
       "      <td>b'Remember that adorable 9-year-old who sang a...</td>\n",
       "      <td>b\"Russia 'ends Georgia operation'\"</td>\n",
       "      <td>b'\"If we had no sexual harassment we would hav...</td>\n",
       "      <td>b\"Al-Qa'eda is losing support in Iraq because ...</td>\n",
       "      <td>b'Ceasefire in Georgia: Putin Outmaneuvers the...</td>\n",
       "      <td>b'Why Microsoft and Intel tried to kill the XO...</td>\n",
       "      <td>b'Stratfor: The Russo-Georgian War and the Bal...</td>\n",
       "      <td>b\"I'm Trying to Get a Sense of This Whole Geor...</td>\n",
       "      <td>...</td>\n",
       "      <td>b'U.S. troops still in Georgia (did you know t...</td>\n",
       "      <td>b'Why Russias response to Georgia was right'</td>\n",
       "      <td>b'Gorbachev accuses U.S. of making a \"serious ...</td>\n",
       "      <td>b'Russia, Georgia, and NATO: Cold War Two'</td>\n",
       "      <td>b'Remember that adorable 62-year-old who led y...</td>\n",
       "      <td>b'War in Georgia: The Israeli connection'</td>\n",
       "      <td>b'All signs point to the US encouraging Georgi...</td>\n",
       "      <td>b'Christopher King argues that the US and NATO...</td>\n",
       "      <td>b'America: The New Mexico?'</td>\n",
       "      <td>b\"BBC NEWS | Asia-Pacific | Extinction 'by man...</td>\n",
       "    </tr>\n",
       "    <tr>\n",
       "      <th>3</th>\n",
       "      <td>2008-08-13</td>\n",
       "      <td>0</td>\n",
       "      <td>b' U.S. refuses Israel weapons to attack Iran:...</td>\n",
       "      <td>b\"When the president ordered to attack Tskhinv...</td>\n",
       "      <td>b' Israel clears troops who killed Reuters cam...</td>\n",
       "      <td>b'Britain\\'s policy of being tough on drugs is...</td>\n",
       "      <td>b'Body of 14 year old found in trunk; Latest (...</td>\n",
       "      <td>b'China has moved 10 *million* quake survivors...</td>\n",
       "      <td>b\"Bush announces Operation Get All Up In Russi...</td>\n",
       "      <td>b'Russian forces sink Georgian ships '</td>\n",
       "      <td>...</td>\n",
       "      <td>b'Elephants extinct by 2020?'</td>\n",
       "      <td>b'US humanitarian missions soon in Georgia - i...</td>\n",
       "      <td>b\"Georgia's DDOS came from US sources\"</td>\n",
       "      <td>b'Russian convoy heads into Georgia, violating...</td>\n",
       "      <td>b'Israeli defence minister: US against strike ...</td>\n",
       "      <td>b'Gorbachev: We Had No Choice'</td>\n",
       "      <td>b'Witness: Russian forces head towards Tbilisi...</td>\n",
       "      <td>b' Quarter of Russians blame U.S. for conflict...</td>\n",
       "      <td>b'Georgian president  says US military will ta...</td>\n",
       "      <td>b'2006: Nobel laureate Aleksander Solzhenitsyn...</td>\n",
       "    </tr>\n",
       "    <tr>\n",
       "      <th>4</th>\n",
       "      <td>2008-08-14</td>\n",
       "      <td>1</td>\n",
       "      <td>b'All the experts admit that we should legalis...</td>\n",
       "      <td>b'War in South Osetia - 89 pictures made by a ...</td>\n",
       "      <td>b'Swedish wrestler Ara Abrahamian throws away ...</td>\n",
       "      <td>b'Russia exaggerated the death toll in South O...</td>\n",
       "      <td>b'Missile That Killed 9 Inside Pakistan May Ha...</td>\n",
       "      <td>b\"Rushdie Condemns Random House's Refusal to P...</td>\n",
       "      <td>b'Poland and US agree to missle defense deal. ...</td>\n",
       "      <td>b'Will the Russians conquer Tblisi? Bet on it,...</td>\n",
       "      <td>...</td>\n",
       "      <td>b'Bank analyst forecast Georgian crisis 2 days...</td>\n",
       "      <td>b\"Georgia confict could set back Russia's US r...</td>\n",
       "      <td>b'War in the Caucasus is as much the product o...</td>\n",
       "      <td>b'\"Non-media\" photos of South Ossetia/Georgia ...</td>\n",
       "      <td>b'Georgian TV reporter shot by Russian sniper ...</td>\n",
       "      <td>b'Saudi Arabia: Mother moves to block child ma...</td>\n",
       "      <td>b'Taliban wages war on humanitarian aid workers'</td>\n",
       "      <td>b'Russia: World  \"can forget about\" Georgia\\'s...</td>\n",
       "      <td>b'Darfur rebels accuse Sudan of mounting major...</td>\n",
       "      <td>b'Philippines : Peace Advocate say Muslims nee...</td>\n",
       "    </tr>\n",
       "  </tbody>\n",
       "</table>\n",
       "<p>5 rows × 27 columns</p>\n",
       "</div>"
      ],
      "text/plain": [
       "         Date  Label                                               Top1  \\\n",
       "0  2008-08-08      0  b\"Georgia 'downs two Russian warplanes' as cou...   \n",
       "1  2008-08-11      1  b'Why wont America and Nato help us? If they w...   \n",
       "2  2008-08-12      0  b'Remember that adorable 9-year-old who sang a...   \n",
       "3  2008-08-13      0  b' U.S. refuses Israel weapons to attack Iran:...   \n",
       "4  2008-08-14      1  b'All the experts admit that we should legalis...   \n",
       "\n",
       "                                                Top2  \\\n",
       "0            b'BREAKING: Musharraf to be impeached.'   \n",
       "1        b'Bush puts foot down on Georgian conflict'   \n",
       "2                 b\"Russia 'ends Georgia operation'\"   \n",
       "3  b\"When the president ordered to attack Tskhinv...   \n",
       "4  b'War in South Osetia - 89 pictures made by a ...   \n",
       "\n",
       "                                                Top3  \\\n",
       "0  b'Russia Today: Columns of troops roll into So...   \n",
       "1  b\"Jewish Georgian minister: Thanks to Israeli ...   \n",
       "2  b'\"If we had no sexual harassment we would hav...   \n",
       "3  b' Israel clears troops who killed Reuters cam...   \n",
       "4  b'Swedish wrestler Ara Abrahamian throws away ...   \n",
       "\n",
       "                                                Top4  \\\n",
       "0  b'Russian tanks are moving towards the capital...   \n",
       "1  b'Georgian army flees in disarray as Russians ...   \n",
       "2  b\"Al-Qa'eda is losing support in Iraq because ...   \n",
       "3  b'Britain\\'s policy of being tough on drugs is...   \n",
       "4  b'Russia exaggerated the death toll in South O...   \n",
       "\n",
       "                                                Top5  \\\n",
       "0  b\"Afghan children raped with 'impunity,' U.N. ...   \n",
       "1      b\"Olympic opening ceremony fireworks 'faked'\"   \n",
       "2  b'Ceasefire in Georgia: Putin Outmaneuvers the...   \n",
       "3  b'Body of 14 year old found in trunk; Latest (...   \n",
       "4  b'Missile That Killed 9 Inside Pakistan May Ha...   \n",
       "\n",
       "                                                Top6  \\\n",
       "0  b'150 Russian tanks have entered South Ossetia...   \n",
       "1  b'What were the Mossad with fraudulent New Zea...   \n",
       "2  b'Why Microsoft and Intel tried to kill the XO...   \n",
       "3  b'China has moved 10 *million* quake survivors...   \n",
       "4  b\"Rushdie Condemns Random House's Refusal to P...   \n",
       "\n",
       "                                                Top7  \\\n",
       "0  b\"Breaking: Georgia invades South Ossetia, Rus...   \n",
       "1  b'Russia angered by Israeli military sale to G...   \n",
       "2  b'Stratfor: The Russo-Georgian War and the Bal...   \n",
       "3  b\"Bush announces Operation Get All Up In Russi...   \n",
       "4  b'Poland and US agree to missle defense deal. ...   \n",
       "\n",
       "                                                Top8  ...  \\\n",
       "0  b\"The 'enemy combatent' trials are nothing but...  ...   \n",
       "1  b'An American citizen living in S.Ossetia blam...  ...   \n",
       "2  b\"I'm Trying to Get a Sense of This Whole Geor...  ...   \n",
       "3             b'Russian forces sink Georgian ships '  ...   \n",
       "4  b'Will the Russians conquer Tblisi? Bet on it,...  ...   \n",
       "\n",
       "                                               Top16  \\\n",
       "0  b'Georgia Invades South Ossetia - if Russia ge...   \n",
       "1  b'Israel and the US behind the Georgian aggres...   \n",
       "2  b'U.S. troops still in Georgia (did you know t...   \n",
       "3                      b'Elephants extinct by 2020?'   \n",
       "4  b'Bank analyst forecast Georgian crisis 2 days...   \n",
       "\n",
       "                                               Top17  \\\n",
       "0                b'Al-Qaeda Faces Islamist Backlash'   \n",
       "1  b'\"Do not believe TV, neither Russian nor Geor...   \n",
       "2       b'Why Russias response to Georgia was right'   \n",
       "3  b'US humanitarian missions soon in Georgia - i...   \n",
       "4  b\"Georgia confict could set back Russia's US r...   \n",
       "\n",
       "                                               Top18  \\\n",
       "0  b'Condoleezza Rice: \"The US would not act to p...   \n",
       "1  b'Riots are still going on in Montreal (Canada...   \n",
       "2  b'Gorbachev accuses U.S. of making a \"serious ...   \n",
       "3             b\"Georgia's DDOS came from US sources\"   \n",
       "4  b'War in the Caucasus is as much the product o...   \n",
       "\n",
       "                                               Top19  \\\n",
       "0  b'This is a busy day:  The European Union has ...   \n",
       "1    b'China to overtake US as largest manufacturer'   \n",
       "2         b'Russia, Georgia, and NATO: Cold War Two'   \n",
       "3  b'Russian convoy heads into Georgia, violating...   \n",
       "4  b'\"Non-media\" photos of South Ossetia/Georgia ...   \n",
       "\n",
       "                                               Top20  \\\n",
       "0  b\"Georgia will withdraw 1,000 soldiers from Ir...   \n",
       "1                     b'War in South Ossetia [PICS]'   \n",
       "2  b'Remember that adorable 62-year-old who led y...   \n",
       "3  b'Israeli defence minister: US against strike ...   \n",
       "4  b'Georgian TV reporter shot by Russian sniper ...   \n",
       "\n",
       "                                               Top21  \\\n",
       "0  b'Why the Pentagon Thinks Attacking Iran is a ...   \n",
       "1  b'Israeli Physicians Group Condemns State Tort...   \n",
       "2          b'War in Georgia: The Israeli connection'   \n",
       "3                     b'Gorbachev: We Had No Choice'   \n",
       "4  b'Saudi Arabia: Mother moves to block child ma...   \n",
       "\n",
       "                                               Top22  \\\n",
       "0  b'Caucasus in crisis: Georgia invades South Os...   \n",
       "1  b' Russia has just beaten the United States ov...   \n",
       "2  b'All signs point to the US encouraging Georgi...   \n",
       "3  b'Witness: Russian forces head towards Tbilisi...   \n",
       "4   b'Taliban wages war on humanitarian aid workers'   \n",
       "\n",
       "                                               Top23  \\\n",
       "0  b'Indian shoe manufactory  - And again in a se...   \n",
       "1  b'Perhaps *the* question about the Georgia - R...   \n",
       "2  b'Christopher King argues that the US and NATO...   \n",
       "3  b' Quarter of Russians blame U.S. for conflict...   \n",
       "4  b'Russia: World  \"can forget about\" Georgia\\'s...   \n",
       "\n",
       "                                               Top24  \\\n",
       "0  b'Visitors Suffering from Mental Illnesses Ban...   \n",
       "1                 b'Russia is so much better at war'   \n",
       "2                        b'America: The New Mexico?'   \n",
       "3  b'Georgian president  says US military will ta...   \n",
       "4  b'Darfur rebels accuse Sudan of mounting major...   \n",
       "\n",
       "                                               Top25  \n",
       "0           b\"No Help for Mexico's Kidnapping Surge\"  \n",
       "1  b\"So this is what it's come to: trading sex fo...  \n",
       "2  b\"BBC NEWS | Asia-Pacific | Extinction 'by man...  \n",
       "3  b'2006: Nobel laureate Aleksander Solzhenitsyn...  \n",
       "4  b'Philippines : Peace Advocate say Muslims nee...  \n",
       "\n",
       "[5 rows x 27 columns]"
      ]
     },
     "execution_count": 48,
     "metadata": {},
     "output_type": "execute_result"
    }
   ],
   "source": [
    "# Load dataset with combined data\n",
    "all_data = pd.read_csv('../Data/Combined_News_DJIA.csv')\n",
    "all_data.head()"
   ]
  },
  {
   "cell_type": "code",
   "execution_count": 49,
   "metadata": {},
   "outputs": [],
   "source": [
    "all_data.dropna(how='any', inplace=True)"
   ]
  },
  {
   "cell_type": "code",
   "execution_count": 50,
   "metadata": {},
   "outputs": [],
   "source": [
    "# Loop through the columns containing headlines and apply `topic_getter` to each headline, to retrieve topic\n",
    "# Assign that data to a new column\n",
    "\n",
    "for x in range(1,26): # for each column\n",
    "    col = \"Top\" + str(x)\n",
    "    new_col = col + \"_topic_score\"\n",
    "    \n",
    "    # for each row in column\n",
    "    # get the headline, feed it into the lda_model_bow to get the topic and score\n",
    "    all_data[new_col] = all_data[col].apply(topic_getter)"
   ]
  },
  {
   "cell_type": "code",
   "execution_count": 51,
   "metadata": {},
   "outputs": [
    {
     "data": {
      "text/html": [
       "<div>\n",
       "<style scoped>\n",
       "    .dataframe tbody tr th:only-of-type {\n",
       "        vertical-align: middle;\n",
       "    }\n",
       "\n",
       "    .dataframe tbody tr th {\n",
       "        vertical-align: top;\n",
       "    }\n",
       "\n",
       "    .dataframe thead th {\n",
       "        text-align: right;\n",
       "    }\n",
       "</style>\n",
       "<table border=\"1\" class=\"dataframe\">\n",
       "  <thead>\n",
       "    <tr style=\"text-align: right;\">\n",
       "      <th></th>\n",
       "      <th>Date</th>\n",
       "      <th>Label</th>\n",
       "      <th>Top1</th>\n",
       "      <th>Top2</th>\n",
       "      <th>Top3</th>\n",
       "      <th>Top4</th>\n",
       "      <th>Top5</th>\n",
       "      <th>Top6</th>\n",
       "      <th>Top7</th>\n",
       "      <th>Top8</th>\n",
       "      <th>...</th>\n",
       "      <th>Top16_topic_score</th>\n",
       "      <th>Top17_topic_score</th>\n",
       "      <th>Top18_topic_score</th>\n",
       "      <th>Top19_topic_score</th>\n",
       "      <th>Top20_topic_score</th>\n",
       "      <th>Top21_topic_score</th>\n",
       "      <th>Top22_topic_score</th>\n",
       "      <th>Top23_topic_score</th>\n",
       "      <th>Top24_topic_score</th>\n",
       "      <th>Top25_topic_score</th>\n",
       "    </tr>\n",
       "  </thead>\n",
       "  <tbody>\n",
       "    <tr>\n",
       "      <th>0</th>\n",
       "      <td>2008-08-08</td>\n",
       "      <td>0</td>\n",
       "      <td>b\"Georgia 'downs two Russian warplanes' as cou...</td>\n",
       "      <td>b'BREAKING: Musharraf to be impeached.'</td>\n",
       "      <td>b'Russia Today: Columns of troops roll into So...</td>\n",
       "      <td>b'Russian tanks are moving towards the capital...</td>\n",
       "      <td>b\"Afghan children raped with 'impunity,' U.N. ...</td>\n",
       "      <td>b'150 Russian tanks have entered South Ossetia...</td>\n",
       "      <td>b\"Breaking: Georgia invades South Ossetia, Rus...</td>\n",
       "      <td>b\"The 'enemy combatent' trials are nothing but...</td>\n",
       "      <td>...</td>\n",
       "      <td>[5, 0.6031984]</td>\n",
       "      <td>[2, 0.47149044]</td>\n",
       "      <td>[3, 0.36061332]</td>\n",
       "      <td>[5, 0.45405966]</td>\n",
       "      <td>[5, 0.5703015]</td>\n",
       "      <td>[5, 0.54791677]</td>\n",
       "      <td>[5, 0.49842814]</td>\n",
       "      <td>[1, 0.8499608]</td>\n",
       "      <td>[6, 0.43135294]</td>\n",
       "      <td>[1, 0.81994975]</td>\n",
       "    </tr>\n",
       "    <tr>\n",
       "      <th>1</th>\n",
       "      <td>2008-08-11</td>\n",
       "      <td>1</td>\n",
       "      <td>b'Why wont America and Nato help us? If they w...</td>\n",
       "      <td>b'Bush puts foot down on Georgian conflict'</td>\n",
       "      <td>b\"Jewish Georgian minister: Thanks to Israeli ...</td>\n",
       "      <td>b'Georgian army flees in disarray as Russians ...</td>\n",
       "      <td>b\"Olympic opening ceremony fireworks 'faked'\"</td>\n",
       "      <td>b'What were the Mossad with fraudulent New Zea...</td>\n",
       "      <td>b'Russia angered by Israeli military sale to G...</td>\n",
       "      <td>b'An American citizen living in S.Ossetia blam...</td>\n",
       "      <td>...</td>\n",
       "      <td>[9, 0.53071535]</td>\n",
       "      <td>[9, 0.611838]</td>\n",
       "      <td>[7, 0.5506175]</td>\n",
       "      <td>[6, 0.81994605]</td>\n",
       "      <td>[0, 0.57922643]</td>\n",
       "      <td>[4, 0.6275869]</td>\n",
       "      <td>[4, 0.6561521]</td>\n",
       "      <td>[5, 0.51787627]</td>\n",
       "      <td>[6, 0.37684822]</td>\n",
       "      <td>[6, 0.7749493]</td>\n",
       "    </tr>\n",
       "    <tr>\n",
       "      <th>2</th>\n",
       "      <td>2008-08-12</td>\n",
       "      <td>0</td>\n",
       "      <td>b'Remember that adorable 9-year-old who sang a...</td>\n",
       "      <td>b\"Russia 'ends Georgia operation'\"</td>\n",
       "      <td>b'\"If we had no sexual harassment we would hav...</td>\n",
       "      <td>b\"Al-Qa'eda is losing support in Iraq because ...</td>\n",
       "      <td>b'Ceasefire in Georgia: Putin Outmaneuvers the...</td>\n",
       "      <td>b'Why Microsoft and Intel tried to kill the XO...</td>\n",
       "      <td>b'Stratfor: The Russo-Georgian War and the Bal...</td>\n",
       "      <td>b\"I'm Trying to Get a Sense of This Whole Geor...</td>\n",
       "      <td>...</td>\n",
       "      <td>[5, 0.8499421]</td>\n",
       "      <td>[5, 0.6254238]</td>\n",
       "      <td>[8, 0.44398957]</td>\n",
       "      <td>[5, 0.8199832]</td>\n",
       "      <td>[1, 0.52361417]</td>\n",
       "      <td>[5, 0.7748322]</td>\n",
       "      <td>[5, 0.573867]</td>\n",
       "      <td>[5, 0.28484675]</td>\n",
       "      <td>[1, 0.69997424]</td>\n",
       "      <td>[6, 0.8499552]</td>\n",
       "    </tr>\n",
       "    <tr>\n",
       "      <th>3</th>\n",
       "      <td>2008-08-13</td>\n",
       "      <td>0</td>\n",
       "      <td>b' U.S. refuses Israel weapons to attack Iran:...</td>\n",
       "      <td>b\"When the president ordered to attack Tskhinv...</td>\n",
       "      <td>b' Israel clears troops who killed Reuters cam...</td>\n",
       "      <td>b'Britain\\'s policy of being tough on drugs is...</td>\n",
       "      <td>b'Body of 14 year old found in trunk; Latest (...</td>\n",
       "      <td>b'China has moved 10 *million* quake survivors...</td>\n",
       "      <td>b\"Bush announces Operation Get All Up In Russi...</td>\n",
       "      <td>b'Russian forces sink Georgian ships '</td>\n",
       "      <td>...</td>\n",
       "      <td>[2, 0.69973093]</td>\n",
       "      <td>[5, 0.35203508]</td>\n",
       "      <td>[3, 0.48795778]</td>\n",
       "      <td>[3, 0.5979013]</td>\n",
       "      <td>[5, 0.46311668]</td>\n",
       "      <td>[5, 0.3666421]</td>\n",
       "      <td>[3, 0.5055619]</td>\n",
       "      <td>[8, 0.3956947]</td>\n",
       "      <td>[3, 0.71894366]</td>\n",
       "      <td>[3, 0.6346879]</td>\n",
       "    </tr>\n",
       "    <tr>\n",
       "      <th>4</th>\n",
       "      <td>2008-08-14</td>\n",
       "      <td>1</td>\n",
       "      <td>b'All the experts admit that we should legalis...</td>\n",
       "      <td>b'War in South Osetia - 89 pictures made by a ...</td>\n",
       "      <td>b'Swedish wrestler Ara Abrahamian throws away ...</td>\n",
       "      <td>b'Russia exaggerated the death toll in South O...</td>\n",
       "      <td>b'Missile That Killed 9 Inside Pakistan May Ha...</td>\n",
       "      <td>b\"Rushdie Condemns Random House's Refusal to P...</td>\n",
       "      <td>b'Poland and US agree to missle defense deal. ...</td>\n",
       "      <td>b'Will the Russians conquer Tblisi? Bet on it,...</td>\n",
       "      <td>...</td>\n",
       "      <td>[6, 0.5339442]</td>\n",
       "      <td>[5, 0.49618754]</td>\n",
       "      <td>[3, 0.43610215]</td>\n",
       "      <td>[5, 0.42683432]</td>\n",
       "      <td>[9, 0.5254859]</td>\n",
       "      <td>[8, 0.88747185]</td>\n",
       "      <td>[7, 0.574972]</td>\n",
       "      <td>[8, 0.4857589]</td>\n",
       "      <td>[2, 0.46074417]</td>\n",
       "      <td>[8, 0.6320944]</td>\n",
       "    </tr>\n",
       "  </tbody>\n",
       "</table>\n",
       "<p>5 rows × 52 columns</p>\n",
       "</div>"
      ],
      "text/plain": [
       "         Date  Label                                               Top1  \\\n",
       "0  2008-08-08      0  b\"Georgia 'downs two Russian warplanes' as cou...   \n",
       "1  2008-08-11      1  b'Why wont America and Nato help us? If they w...   \n",
       "2  2008-08-12      0  b'Remember that adorable 9-year-old who sang a...   \n",
       "3  2008-08-13      0  b' U.S. refuses Israel weapons to attack Iran:...   \n",
       "4  2008-08-14      1  b'All the experts admit that we should legalis...   \n",
       "\n",
       "                                                Top2  \\\n",
       "0            b'BREAKING: Musharraf to be impeached.'   \n",
       "1        b'Bush puts foot down on Georgian conflict'   \n",
       "2                 b\"Russia 'ends Georgia operation'\"   \n",
       "3  b\"When the president ordered to attack Tskhinv...   \n",
       "4  b'War in South Osetia - 89 pictures made by a ...   \n",
       "\n",
       "                                                Top3  \\\n",
       "0  b'Russia Today: Columns of troops roll into So...   \n",
       "1  b\"Jewish Georgian minister: Thanks to Israeli ...   \n",
       "2  b'\"If we had no sexual harassment we would hav...   \n",
       "3  b' Israel clears troops who killed Reuters cam...   \n",
       "4  b'Swedish wrestler Ara Abrahamian throws away ...   \n",
       "\n",
       "                                                Top4  \\\n",
       "0  b'Russian tanks are moving towards the capital...   \n",
       "1  b'Georgian army flees in disarray as Russians ...   \n",
       "2  b\"Al-Qa'eda is losing support in Iraq because ...   \n",
       "3  b'Britain\\'s policy of being tough on drugs is...   \n",
       "4  b'Russia exaggerated the death toll in South O...   \n",
       "\n",
       "                                                Top5  \\\n",
       "0  b\"Afghan children raped with 'impunity,' U.N. ...   \n",
       "1      b\"Olympic opening ceremony fireworks 'faked'\"   \n",
       "2  b'Ceasefire in Georgia: Putin Outmaneuvers the...   \n",
       "3  b'Body of 14 year old found in trunk; Latest (...   \n",
       "4  b'Missile That Killed 9 Inside Pakistan May Ha...   \n",
       "\n",
       "                                                Top6  \\\n",
       "0  b'150 Russian tanks have entered South Ossetia...   \n",
       "1  b'What were the Mossad with fraudulent New Zea...   \n",
       "2  b'Why Microsoft and Intel tried to kill the XO...   \n",
       "3  b'China has moved 10 *million* quake survivors...   \n",
       "4  b\"Rushdie Condemns Random House's Refusal to P...   \n",
       "\n",
       "                                                Top7  \\\n",
       "0  b\"Breaking: Georgia invades South Ossetia, Rus...   \n",
       "1  b'Russia angered by Israeli military sale to G...   \n",
       "2  b'Stratfor: The Russo-Georgian War and the Bal...   \n",
       "3  b\"Bush announces Operation Get All Up In Russi...   \n",
       "4  b'Poland and US agree to missle defense deal. ...   \n",
       "\n",
       "                                                Top8  ... Top16_topic_score  \\\n",
       "0  b\"The 'enemy combatent' trials are nothing but...  ...    [5, 0.6031984]   \n",
       "1  b'An American citizen living in S.Ossetia blam...  ...   [9, 0.53071535]   \n",
       "2  b\"I'm Trying to Get a Sense of This Whole Geor...  ...    [5, 0.8499421]   \n",
       "3             b'Russian forces sink Georgian ships '  ...   [2, 0.69973093]   \n",
       "4  b'Will the Russians conquer Tblisi? Bet on it,...  ...    [6, 0.5339442]   \n",
       "\n",
       "  Top17_topic_score Top18_topic_score Top19_topic_score Top20_topic_score  \\\n",
       "0   [2, 0.47149044]   [3, 0.36061332]   [5, 0.45405966]    [5, 0.5703015]   \n",
       "1     [9, 0.611838]    [7, 0.5506175]   [6, 0.81994605]   [0, 0.57922643]   \n",
       "2    [5, 0.6254238]   [8, 0.44398957]    [5, 0.8199832]   [1, 0.52361417]   \n",
       "3   [5, 0.35203508]   [3, 0.48795778]    [3, 0.5979013]   [5, 0.46311668]   \n",
       "4   [5, 0.49618754]   [3, 0.43610215]   [5, 0.42683432]    [9, 0.5254859]   \n",
       "\n",
       "  Top21_topic_score Top22_topic_score Top23_topic_score Top24_topic_score  \\\n",
       "0   [5, 0.54791677]   [5, 0.49842814]    [1, 0.8499608]   [6, 0.43135294]   \n",
       "1    [4, 0.6275869]    [4, 0.6561521]   [5, 0.51787627]   [6, 0.37684822]   \n",
       "2    [5, 0.7748322]     [5, 0.573867]   [5, 0.28484675]   [1, 0.69997424]   \n",
       "3    [5, 0.3666421]    [3, 0.5055619]    [8, 0.3956947]   [3, 0.71894366]   \n",
       "4   [8, 0.88747185]     [7, 0.574972]    [8, 0.4857589]   [2, 0.46074417]   \n",
       "\n",
       "  Top25_topic_score  \n",
       "0   [1, 0.81994975]  \n",
       "1    [6, 0.7749493]  \n",
       "2    [6, 0.8499552]  \n",
       "3    [3, 0.6346879]  \n",
       "4    [8, 0.6320944]  \n",
       "\n",
       "[5 rows x 52 columns]"
      ]
     },
     "execution_count": 51,
     "metadata": {},
     "output_type": "execute_result"
    }
   ],
   "source": [
    "# Check the output\n",
    "all_data.head()"
   ]
  },
  {
   "cell_type": "code",
   "execution_count": 52,
   "metadata": {},
   "outputs": [],
   "source": [
    "# Save updated data\n",
    "all_data.to_csv(\"../Data/Combined_News_DJIA_topics.csv\")"
   ]
  }
 ],
 "metadata": {
  "kernelspec": {
   "display_name": "Python 3",
   "language": "python",
   "name": "python3"
  },
  "language_info": {
   "codemirror_mode": {
    "name": "ipython",
    "version": 3
   },
   "file_extension": ".py",
   "mimetype": "text/x-python",
   "name": "python",
   "nbconvert_exporter": "python",
   "pygments_lexer": "ipython3",
   "version": "3.6.10"
  }
 },
 "nbformat": 4,
 "nbformat_minor": 2
}
