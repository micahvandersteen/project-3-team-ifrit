{
 "cells": [
  {
   "cell_type": "markdown",
   "metadata": {},
   "source": [
    "# News headline topic analysis with LDA\n",
    "The purpose of this analysis is to find dominant topics across news headlines (25 per day, over 1 year). These topics will later be correlated with daily stock market loss/gain to understand if certain topics influence the stock market.\n",
    "\n",
    "This work borrows heavily from Susan Li's [\"Topic Modeling and LDA in Python\"](https://towardsdatascience.com/topic-modeling-and-latent-dirichlet-allocation-in-python-9bf156893c24) article."
   ]
  },
  {
   "cell_type": "code",
   "execution_count": 1,
   "metadata": {},
   "outputs": [
    {
     "name": "stderr",
     "output_type": "stream",
     "text": [
      "[nltk_data] Downloading package wordnet to /Users/stacy/nltk_data...\n",
      "[nltk_data]   Package wordnet is already up-to-date!\n"
     ]
    }
   ],
   "source": [
    "# import dependencies\n",
    "import pandas as pd\n",
    "\n",
    "import gensim\n",
    "from gensim.utils import simple_preprocess\n",
    "from gensim.parsing.preprocessing import STOPWORDS\n",
    "\n",
    "import nltk\n",
    "nltk.download('wordnet')\n",
    "from nltk.stem import WordNetLemmatizer, SnowballStemmer\n",
    "from nltk.stem.porter import *\n",
    "\n",
    "import numpy as np\n",
    "np.random.seed(22)"
   ]
  },
  {
   "cell_type": "code",
   "execution_count": 2,
   "metadata": {},
   "outputs": [],
   "source": [
    "# Import the data\n",
    "data = pd.read_csv(\"../Data/RedditNews.csv\")"
   ]
  },
  {
   "cell_type": "code",
   "execution_count": 3,
   "metadata": {},
   "outputs": [
    {
     "data": {
      "text/html": [
       "<div>\n",
       "<style scoped>\n",
       "    .dataframe tbody tr th:only-of-type {\n",
       "        vertical-align: middle;\n",
       "    }\n",
       "\n",
       "    .dataframe tbody tr th {\n",
       "        vertical-align: top;\n",
       "    }\n",
       "\n",
       "    .dataframe thead th {\n",
       "        text-align: right;\n",
       "    }\n",
       "</style>\n",
       "<table border=\"1\" class=\"dataframe\">\n",
       "  <thead>\n",
       "    <tr style=\"text-align: right;\">\n",
       "      <th></th>\n",
       "      <th>Date</th>\n",
       "      <th>News</th>\n",
       "    </tr>\n",
       "  </thead>\n",
       "  <tbody>\n",
       "    <tr>\n",
       "      <th>0</th>\n",
       "      <td>2016-07-01</td>\n",
       "      <td>A 117-year-old woman in Mexico City finally re...</td>\n",
       "    </tr>\n",
       "    <tr>\n",
       "      <th>1</th>\n",
       "      <td>2016-07-01</td>\n",
       "      <td>IMF chief backs Athens as permanent Olympic host</td>\n",
       "    </tr>\n",
       "    <tr>\n",
       "      <th>2</th>\n",
       "      <td>2016-07-01</td>\n",
       "      <td>The president of France says if Brexit won, so...</td>\n",
       "    </tr>\n",
       "    <tr>\n",
       "      <th>3</th>\n",
       "      <td>2016-07-01</td>\n",
       "      <td>British Man Who Must Give Police 24 Hours' Not...</td>\n",
       "    </tr>\n",
       "    <tr>\n",
       "      <th>4</th>\n",
       "      <td>2016-07-01</td>\n",
       "      <td>100+ Nobel laureates urge Greenpeace to stop o...</td>\n",
       "    </tr>\n",
       "  </tbody>\n",
       "</table>\n",
       "</div>"
      ],
      "text/plain": [
       "         Date                                               News\n",
       "0  2016-07-01  A 117-year-old woman in Mexico City finally re...\n",
       "1  2016-07-01   IMF chief backs Athens as permanent Olympic host\n",
       "2  2016-07-01  The president of France says if Brexit won, so...\n",
       "3  2016-07-01  British Man Who Must Give Police 24 Hours' Not...\n",
       "4  2016-07-01  100+ Nobel laureates urge Greenpeace to stop o..."
      ]
     },
     "execution_count": 3,
     "metadata": {},
     "output_type": "execute_result"
    }
   ],
   "source": [
    "data.head()\n",
    "\n",
    "# 73,608 records from 2016-2018"
   ]
  },
  {
   "cell_type": "code",
   "execution_count": 4,
   "metadata": {},
   "outputs": [
    {
     "data": {
      "text/html": [
       "<div>\n",
       "<style scoped>\n",
       "    .dataframe tbody tr th:only-of-type {\n",
       "        vertical-align: middle;\n",
       "    }\n",
       "\n",
       "    .dataframe tbody tr th {\n",
       "        vertical-align: top;\n",
       "    }\n",
       "\n",
       "    .dataframe thead th {\n",
       "        text-align: right;\n",
       "    }\n",
       "</style>\n",
       "<table border=\"1\" class=\"dataframe\">\n",
       "  <thead>\n",
       "    <tr style=\"text-align: right;\">\n",
       "      <th></th>\n",
       "      <th>News</th>\n",
       "    </tr>\n",
       "  </thead>\n",
       "  <tbody>\n",
       "    <tr>\n",
       "      <th>0</th>\n",
       "      <td>A 117-year-old woman in Mexico City finally re...</td>\n",
       "    </tr>\n",
       "    <tr>\n",
       "      <th>1</th>\n",
       "      <td>IMF chief backs Athens as permanent Olympic host</td>\n",
       "    </tr>\n",
       "    <tr>\n",
       "      <th>2</th>\n",
       "      <td>The president of France says if Brexit won, so...</td>\n",
       "    </tr>\n",
       "    <tr>\n",
       "      <th>3</th>\n",
       "      <td>British Man Who Must Give Police 24 Hours' Not...</td>\n",
       "    </tr>\n",
       "    <tr>\n",
       "      <th>4</th>\n",
       "      <td>100+ Nobel laureates urge Greenpeace to stop o...</td>\n",
       "    </tr>\n",
       "  </tbody>\n",
       "</table>\n",
       "</div>"
      ],
      "text/plain": [
       "                                                News\n",
       "0  A 117-year-old woman in Mexico City finally re...\n",
       "1   IMF chief backs Athens as permanent Olympic host\n",
       "2  The president of France says if Brexit won, so...\n",
       "3  British Man Who Must Give Police 24 Hours' Not...\n",
       "4  100+ Nobel laureates urge Greenpeace to stop o..."
      ]
     },
     "execution_count": 4,
     "metadata": {},
     "output_type": "execute_result"
    }
   ],
   "source": [
    "# Getting just the headlines for our corpus\n",
    "headlines = data[['News']]\n",
    "headlines.head()"
   ]
  },
  {
   "cell_type": "markdown",
   "metadata": {},
   "source": [
    "## Data pre-processing\n",
    "### Lemmitize"
   ]
  },
  {
   "cell_type": "code",
   "execution_count": 5,
   "metadata": {},
   "outputs": [],
   "source": [
    "# Lemmatize the words keeping the context (stemming is \"dumb\" so we won't)\n",
    "# However if we have a much larger corpus, we might consider stemming (as it is faster)\n",
    "def lemmatize(text):\n",
    "    return WordNetLemmatizer().lemmatize(text, pos='v') # pos='v' means it peforms stemming with context"
   ]
  },
  {
   "cell_type": "markdown",
   "metadata": {},
   "source": [
    "### Remove stopwords and words shorter than 3 chars"
   ]
  },
  {
   "cell_type": "code",
   "execution_count": 6,
   "metadata": {},
   "outputs": [],
   "source": [
    "# Remove stopwords and words shorter than 3 characters, then lemmatize\n",
    "def preprocess(text):\n",
    "    result = []\n",
    "    for token in gensim.utils.simple_preprocess(text):\n",
    "        if token not in gensim.parsing.preprocessing.STOPWORDS and len(token) > 3:\n",
    "            result.append(lemmatize(token))\n",
    "    return result"
   ]
  },
  {
   "cell_type": "markdown",
   "metadata": {},
   "source": [
    "### Check outputs"
   ]
  },
  {
   "cell_type": "code",
   "execution_count": 7,
   "metadata": {},
   "outputs": [
    {
     "name": "stdout",
     "output_type": "stream",
     "text": [
      "original document: \n",
      "['The', 'president', 'of', 'France', 'says', 'if', 'Brexit', 'won,', 'so', 'can', 'Donald', 'Trump']\n",
      "\n",
      "\n",
      " tokenized and lemmatized document: \n",
      "['president', 'france', 'say', 'brexit', 'donald', 'trump']\n"
     ]
    }
   ],
   "source": [
    "sample = headlines['News'][2]\n",
    "\n",
    "print('original document: ')\n",
    "words = []\n",
    "for word in sample.split(' '):\n",
    "    words.append(word)\n",
    "print(words)\n",
    "print('\\n\\n tokenized and lemmatized document: ')\n",
    "print(preprocess(sample))"
   ]
  },
  {
   "cell_type": "markdown",
   "metadata": {},
   "source": [
    "### Preprocess the headlines and save the results"
   ]
  },
  {
   "cell_type": "code",
   "execution_count": 8,
   "metadata": {},
   "outputs": [
    {
     "data": {
      "text/plain": [
       "0    [year, woman, mexico, city, finally, receive, ...\n",
       "1      [chief, back, athens, permanent, olympic, host]\n",
       "2      [president, france, say, brexit, donald, trump]\n",
       "3    [british, police, hours, notice, threaten, hun...\n",
       "4    [nobel, laureates, urge, greenpeace, stop, opp...\n",
       "Name: News, dtype: object"
      ]
     },
     "execution_count": 8,
     "metadata": {},
     "output_type": "execute_result"
    }
   ],
   "source": [
    "cleaned_headlines = headlines['News'].map(preprocess)\n",
    "cleaned_headlines[:5] # Check the results"
   ]
  },
  {
   "cell_type": "markdown",
   "metadata": {},
   "source": [
    "## Count the word occurences using Bag of Words"
   ]
  },
  {
   "cell_type": "code",
   "execution_count": 9,
   "metadata": {},
   "outputs": [
    {
     "name": "stdout",
     "output_type": "stream",
     "text": [
      "0 alvarez\n",
      "1 bear\n",
      "2 birth\n",
      "3 certificate\n",
      "4 city\n",
      "5 die\n",
      "6 finally\n",
      "7 hours\n",
      "8 later\n",
      "9 lira\n",
      "10 mexico\n"
     ]
    }
   ],
   "source": [
    "# corpora.Dictionary implements the concept of a Dictionary – a mapping between words and their integer ids.\n",
    "# https://radimrehurek.com/gensim/corpora/dictionary.html\n",
    "dictionary = gensim.corpora.Dictionary(cleaned_headlines)\n",
    "\n",
    "count = 0\n",
    "for k, v in dictionary.iteritems():\n",
    "    print(k, v)\n",
    "    count += 1\n",
    "    if count > 10:\n",
    "        break"
   ]
  },
  {
   "cell_type": "code",
   "execution_count": 10,
   "metadata": {},
   "outputs": [],
   "source": [
    "# Filter out irrelevant words\n",
    "'''\n",
    "    less than 15 documents (absolute number) or\n",
    "    more than 0.5 documents (fraction of total corpus size, not absolute number).\n",
    "    after the above two steps, keep only the first 100000 most frequent tokens.\n",
    "'''\n",
    "\n",
    "dictionary.filter_extremes(no_below=15, no_above=0.5, keep_n=100000)"
   ]
  },
  {
   "cell_type": "code",
   "execution_count": 11,
   "metadata": {},
   "outputs": [
    {
     "data": {
      "text/plain": [
       "[(21, 1), (22, 1), (23, 1), (24, 1), (25, 1), (26, 1)]"
      ]
     },
     "execution_count": 11,
     "metadata": {},
     "output_type": "execute_result"
    }
   ],
   "source": [
    "'''\n",
    "For each document we create a dictionary reporting how many\n",
    "words and how many times those words appear. Save this to ‘bow_corpus’, then check our selected document earlier.\n",
    "'''\n",
    "\n",
    "bow_corpus = [dictionary.doc2bow(doc) for doc in cleaned_headlines]\n",
    "bow_corpus[2]"
   ]
  },
  {
   "cell_type": "code",
   "execution_count": 12,
   "metadata": {},
   "outputs": [
    {
     "name": "stdout",
     "output_type": "stream",
     "text": [
      "Word 21 (\"brexit\") appears 1 time.\n",
      "Word 22 (\"donald\") appears 1 time.\n",
      "Word 23 (\"france\") appears 1 time.\n",
      "Word 24 (\"president\") appears 1 time.\n",
      "Word 25 (\"say\") appears 1 time.\n",
      "Word 26 (\"trump\") appears 1 time.\n"
     ]
    }
   ],
   "source": [
    "bow_doc_2 = bow_corpus[2]\n",
    "\n",
    "for i in range(len(bow_doc_2)):\n",
    "    print(\"Word {} (\\\"{}\\\") appears {} time.\".format(bow_doc_2[i][0], \n",
    "                                            dictionary[bow_doc_2[i][0]], \n",
    "                                            bow_doc_2[i][1]))"
   ]
  },
  {
   "cell_type": "markdown",
   "metadata": {},
   "source": [
    "## TD-IDF\n",
    "Create tf-idf model object using models.TfidfModel on ‘bow_corpus’ and save it to ‘tfidf’, then apply transformation to the entire corpus and call it ‘corpus_tfidf’. Finally we preview TF-IDF scores for our first document."
   ]
  },
  {
   "cell_type": "code",
   "execution_count": 13,
   "metadata": {},
   "outputs": [
    {
     "name": "stdout",
     "output_type": "stream",
     "text": [
      "[(0, 0.2600564898594514),\n",
      " (1, 0.28994526204184407),\n",
      " (2, 0.3744826130954538),\n",
      " (3, 0.2051174112907887),\n",
      " (4, 0.21074667376840217),\n",
      " (5, 0.2818126498910203),\n",
      " (6, 0.24752380792284462),\n",
      " (7, 0.2842753904922502),\n",
      " (8, 0.2101120460560261),\n",
      " (9, 0.32010680937189695),\n",
      " (10, 0.253807102500421),\n",
      " (11, 0.3026294517497535),\n",
      " (12, 0.20803861949214233),\n",
      " (13, 0.16333461952636777),\n",
      " (14, 0.16583903979070258)]\n"
     ]
    }
   ],
   "source": [
    "from gensim import corpora, models\n",
    "\n",
    "tfidf = models.TfidfModel(bow_corpus)\n",
    "corpus_tfidf = tfidf[bow_corpus]\n",
    "\n",
    "from pprint import pprint\n",
    "\n",
    "for doc in corpus_tfidf:\n",
    "    pprint(doc)\n",
    "    break"
   ]
  },
  {
   "cell_type": "markdown",
   "metadata": {},
   "source": [
    "## Running LDA using Bag of Words\n",
    "\n",
    "Train our lda model using gensim.models.LdaMulticore and save it to ‘lda_model’."
   ]
  },
  {
   "cell_type": "code",
   "execution_count": 34,
   "metadata": {},
   "outputs": [],
   "source": [
    "lda_model_bow = gensim.models.LdaMulticore(bow_corpus, num_topics=10, id2word=dictionary, passes=2, workers=2)"
   ]
  },
  {
   "cell_type": "code",
   "execution_count": 35,
   "metadata": {},
   "outputs": [
    {
     "name": "stdout",
     "output_type": "stream",
     "text": [
      "Topic: 0 \n",
      "Words: 0.019*\"court\" + 0.012*\"rule\" + 0.011*\"government\" + 0.007*\"earthquake\" + 0.006*\"judge\" + 0.006*\"case\" + 0.006*\"crimes\" + 0.005*\"company\" + 0.005*\"british\" + 0.005*\"canadian\"\n",
      "Topic: 1 \n",
      "Words: 0.011*\"world\" + 0.011*\"saudi\" + 0.011*\"israeli\" + 0.009*\"bank\" + 0.009*\"russian\" + 0.007*\"crash\" + 0.006*\"women\" + 0.006*\"plane\" + 0.006*\"arabia\" + 0.006*\"land\"\n",
      "Topic: 2 \n",
      "Words: 0.029*\"right\" + 0.029*\"gaza\" + 0.023*\"israel\" + 0.016*\"human\" + 0.010*\"internet\" + 0.009*\"palestinian\" + 0.008*\"say\" + 0.007*\"palestinians\" + 0.006*\"hamas\" + 0.006*\"minister\"\n",
      "Topic: 3 \n",
      "Words: 0.029*\"kill\" + 0.021*\"bomb\" + 0.012*\"water\" + 0.012*\"people\" + 0.012*\"japan\" + 0.008*\"civilians\" + 0.008*\"china\" + 0.007*\"dead\" + 0.006*\"world\" + 0.006*\"japanese\"\n",
      "Topic: 4 \n",
      "Words: 0.026*\"china\" + 0.020*\"north\" + 0.019*\"korea\" + 0.017*\"nuclear\" + 0.012*\"south\" + 0.011*\"world\" + 0.009*\"power\" + 0.008*\"bank\" + 0.008*\"billion\" + 0.008*\"russia\"\n",
      "Topic: 5 \n",
      "Words: 0.026*\"kill\" + 0.020*\"pakistan\" + 0.019*\"attack\" + 0.017*\"afghanistan\" + 0.016*\"police\" + 0.014*\"troop\" + 0.014*\"shoot\" + 0.012*\"soldier\" + 0.011*\"force\" + 0.011*\"taliban\"\n",
      "Topic: 6 \n",
      "Words: 0.015*\"protest\" + 0.015*\"world\" + 0.012*\"government\" + 0.012*\"people\" + 0.010*\"drug\" + 0.009*\"thousands\" + 0.008*\"mexico\" + 0.006*\"vote\" + 0.006*\"change\" + 0.006*\"chinese\"\n",
      "Topic: 7 \n",
      "Words: 0.019*\"russia\" + 0.013*\"pirate\" + 0.012*\"georgia\" + 0.010*\"russian\" + 0.010*\"like\" + 0.010*\"east\" + 0.009*\"egypt\" + 0.008*\"middle\" + 0.008*\"look\" + 0.008*\"egyptian\"\n",
      "Topic: 8 \n",
      "Words: 0.033*\"iran\" + 0.032*\"israel\" + 0.020*\"say\" + 0.020*\"israeli\" + 0.018*\"president\" + 0.014*\"state\" + 0.011*\"iraq\" + 0.011*\"minister\" + 0.008*\"obama\" + 0.007*\"unite\"\n",
      "Topic: 9 \n",
      "Words: 0.021*\"police\" + 0.018*\"arrest\" + 0.017*\"year\" + 0.014*\"death\" + 0.012*\"woman\" + 0.011*\"jail\" + 0.011*\"years\" + 0.009*\"murder\" + 0.009*\"women\" + 0.009*\"sentence\"\n"
     ]
    }
   ],
   "source": [
    "# For each topic, we will explore the words occuring in that topic and its relative weight.\n",
    "\n",
    "for idx, topic in lda_model_bow.print_topics(-1):\n",
    "    print('Topic: {} \\nWords: {}'.format(idx, topic))"
   ]
  },
  {
   "cell_type": "markdown",
   "metadata": {},
   "source": [
    "## Running LDA using TF-IDF"
   ]
  },
  {
   "cell_type": "code",
   "execution_count": 41,
   "metadata": {},
   "outputs": [
    {
     "name": "stdout",
     "output_type": "stream",
     "text": [
      "Topic: 0 Word: 0.008*\"kill\" + 0.005*\"nuclear\" + 0.005*\"iran\" + 0.005*\"iraq\" + 0.005*\"bomb\" + 0.004*\"attack\" + 0.004*\"gaddafi\" + 0.004*\"say\" + 0.003*\"syrian\" + 0.003*\"israel\"\n",
      "Topic: 1 Word: 0.015*\"korea\" + 0.013*\"north\" + 0.007*\"south\" + 0.006*\"nuclear\" + 0.006*\"iran\" + 0.005*\"missile\" + 0.005*\"china\" + 0.005*\"russia\" + 0.004*\"korean\" + 0.004*\"israel\"\n",
      "Topic: 2 Word: 0.005*\"china\" + 0.005*\"japan\" + 0.004*\"internet\" + 0.004*\"world\" + 0.004*\"pope\" + 0.004*\"water\" + 0.004*\"mumbai\" + 0.003*\"people\" + 0.003*\"tsunami\" + 0.003*\"church\"\n",
      "Topic: 3 Word: 0.008*\"drug\" + 0.006*\"georgia\" + 0.005*\"russia\" + 0.005*\"world\" + 0.004*\"bank\" + 0.004*\"say\" + 0.004*\"mexico\" + 0.004*\"israel\" + 0.003*\"billion\" + 0.003*\"global\"\n",
      "Topic: 4 Word: 0.006*\"assange\" + 0.005*\"wikileaks\" + 0.004*\"world\" + 0.004*\"julian\" + 0.004*\"earthquake\" + 0.003*\"boycott\" + 0.003*\"government\" + 0.003*\"china\" + 0.003*\"police\" + 0.003*\"olympics\"\n",
      "Topic: 5 Word: 0.005*\"bush\" + 0.005*\"say\" + 0.005*\"right\" + 0.004*\"ahmadinejad\" + 0.004*\"chavez\" + 0.004*\"human\" + 0.004*\"china\" + 0.003*\"president\" + 0.003*\"death\" + 0.003*\"pakistan\"\n",
      "Topic: 6 Word: 0.011*\"gaza\" + 0.009*\"israel\" + 0.008*\"kill\" + 0.006*\"israeli\" + 0.005*\"attack\" + 0.005*\"troop\" + 0.004*\"strike\" + 0.004*\"say\" + 0.004*\"pakistan\" + 0.004*\"hamas\"\n",
      "Topic: 7 Word: 0.005*\"egypt\" + 0.004*\"death\" + 0.004*\"year\" + 0.004*\"kill\" + 0.003*\"israel\" + 0.003*\"years\" + 0.003*\"police\" + 0.003*\"die\" + 0.003*\"rape\" + 0.003*\"congo\"\n",
      "Topic: 8 Word: 0.007*\"israel\" + 0.007*\"police\" + 0.006*\"israeli\" + 0.006*\"gaza\" + 0.005*\"kill\" + 0.005*\"palestinian\" + 0.005*\"protest\" + 0.004*\"protesters\" + 0.004*\"palestinians\" + 0.004*\"iran\"\n",
      "Topic: 9 Word: 0.005*\"government\" + 0.004*\"say\" + 0.003*\"minister\" + 0.003*\"world\" + 0.003*\"israel\" + 0.003*\"police\" + 0.003*\"german\" + 0.003*\"china\" + 0.003*\"iran\" + 0.003*\"internet\"\n"
     ]
    }
   ],
   "source": [
    "lda_model_tfidf = gensim.models.LdaMulticore(corpus_tfidf, num_topics=10, id2word=dictionary, passes=2, workers=4)\n",
    "\n",
    "for idx, topic in lda_model_tfidf.print_topics(-1):\n",
    "    print('Topic: {} Word: {}'.format(idx, topic))"
   ]
  },
  {
   "cell_type": "code",
   "execution_count": 42,
   "metadata": {},
   "outputs": [
    {
     "data": {
      "text/plain": [
       "['president', 'france', 'say', 'brexit', 'donald', 'trump']"
      ]
     },
     "execution_count": 42,
     "metadata": {},
     "output_type": "execute_result"
    }
   ],
   "source": [
    "# Performance evaluation by classifying sample document using LDA Bag of Words model\n",
    "\n",
    "# We will check where our test document would be classified.\n",
    "\n",
    "cleaned_headlines[2]"
   ]
  },
  {
   "cell_type": "code",
   "execution_count": 43,
   "metadata": {},
   "outputs": [
    {
     "name": "stdout",
     "output_type": "stream",
     "text": [
      "0\n",
      "\n",
      "Score: 0.4510440230369568\t \n",
      "Topic: 0.045*\"israel\" + 0.020*\"israeli\" + 0.018*\"china\" + 0.018*\"state\" + 0.015*\"right\" + 0.014*\"say\" + 0.014*\"human\" + 0.011*\"palestinian\" + 0.010*\"unite\" + 0.010*\"iran\"\n",
      "0 0.45104402\n",
      "8\n",
      "\n",
      "Score: 0.4335630238056183\t \n",
      "Topic: 0.009*\"internet\" + 0.008*\"government\" + 0.007*\"right\" + 0.006*\"say\" + 0.006*\"house\" + 0.006*\"muslim\" + 0.006*\"people\" + 0.006*\"israelis\" + 0.006*\"demand\" + 0.005*\"church\"\n",
      "8 0.43356302\n",
      "1\n",
      "\n",
      "Score: 0.014427188783884048\t \n",
      "Topic: 0.018*\"bank\" + 0.013*\"government\" + 0.010*\"protest\" + 0.009*\"court\" + 0.008*\"chinese\" + 0.008*\"china\" + 0.008*\"million\" + 0.008*\"police\" + 0.006*\"people\" + 0.006*\"billion\"\n",
      "1 0.014427189\n",
      "4\n",
      "\n",
      "Score: 0.01442678365856409\t \n",
      "Topic: 0.036*\"gaza\" + 0.020*\"israel\" + 0.013*\"ship\" + 0.013*\"hamas\" + 0.009*\"israeli\" + 0.007*\"children\" + 0.006*\"say\" + 0.006*\"georgia\" + 0.006*\"sell\" + 0.006*\"report\"\n",
      "4 0.014426784\n",
      "2\n",
      "\n",
      "Score: 0.014426068402826786\t \n",
      "Topic: 0.034*\"kill\" + 0.021*\"attack\" + 0.016*\"bomb\" + 0.014*\"force\" + 0.010*\"army\" + 0.010*\"soldier\" + 0.010*\"troop\" + 0.009*\"pakistan\" + 0.008*\"taliban\" + 0.008*\"police\"\n",
      "2 0.014426068\n",
      "6\n",
      "\n",
      "Score: 0.014424415305256844\t \n",
      "Topic: 0.026*\"police\" + 0.013*\"president\" + 0.013*\"russian\" + 0.009*\"russia\" + 0.009*\"protest\" + 0.008*\"woman\" + 0.008*\"protesters\" + 0.008*\"sentence\" + 0.008*\"year\" + 0.008*\"women\"\n",
      "6 0.014424415\n",
      "5\n",
      "\n",
      "Score: 0.014422740787267685\t \n",
      "Topic: 0.017*\"world\" + 0.010*\"india\" + 0.009*\"power\" + 0.009*\"water\" + 0.008*\"japan\" + 0.007*\"plant\" + 0.007*\"food\" + 0.007*\"global\" + 0.007*\"years\" + 0.006*\"saudi\"\n",
      "5 0.014422741\n",
      "9\n",
      "\n",
      "Score: 0.014422394335269928\t \n",
      "Topic: 0.010*\"election\" + 0.009*\"say\" + 0.009*\"drug\" + 0.009*\"party\" + 0.009*\"vote\" + 0.008*\"government\" + 0.007*\"german\" + 0.007*\"mexico\" + 0.006*\"people\" + 0.006*\"country\"\n",
      "9 0.014422394\n",
      "7\n",
      "\n",
      "Score: 0.014421931467950344\t \n",
      "Topic: 0.037*\"iran\" + 0.018*\"nuclear\" + 0.018*\"russia\" + 0.014*\"iraq\" + 0.014*\"world\" + 0.008*\"say\" + 0.007*\"china\" + 0.007*\"missile\" + 0.007*\"obama\" + 0.006*\"weapons\"\n",
      "7 0.0144219315\n",
      "3\n",
      "\n",
      "Score: 0.014421427622437477\t \n",
      "Topic: 0.023*\"north\" + 0.022*\"korea\" + 0.021*\"kill\" + 0.019*\"south\" + 0.015*\"pakistan\" + 0.011*\"strike\" + 0.008*\"year\" + 0.008*\"death\" + 0.008*\"children\" + 0.007*\"say\"\n",
      "3 0.014421428\n"
     ]
    }
   ],
   "source": [
    "for index, score in sorted(lda_model_bow[bow_corpus[2]], key=lambda tup: -1*tup[1]):\n",
    "    topic = index\n",
    "    score = score\n",
    "    print(index)\n",
    "    print(\"\\nScore: {}\\t \\nTopic: {}\".format(score, lda_model.print_topic(index, 10)))\n",
    "    print(topic, score)"
   ]
  },
  {
   "cell_type": "code",
   "execution_count": 44,
   "metadata": {},
   "outputs": [
    {
     "name": "stdout",
     "output_type": "stream",
     "text": [
      "\n",
      "Score: 0.8713290691375732\t \n",
      "Topic: 0.007*\"israel\" + 0.007*\"police\" + 0.006*\"israeli\" + 0.006*\"gaza\" + 0.005*\"kill\" + 0.005*\"palestinian\" + 0.005*\"protest\" + 0.004*\"protesters\" + 0.004*\"palestinians\" + 0.004*\"iran\"\n",
      "\n",
      "Score: 0.014297603629529476\t \n",
      "Topic: 0.015*\"korea\" + 0.013*\"north\" + 0.007*\"south\" + 0.006*\"nuclear\" + 0.006*\"iran\" + 0.005*\"missile\" + 0.005*\"china\" + 0.005*\"russia\" + 0.004*\"korean\" + 0.004*\"israel\"\n",
      "\n",
      "Score: 0.014297451823949814\t \n",
      "Topic: 0.011*\"gaza\" + 0.009*\"israel\" + 0.008*\"kill\" + 0.006*\"israeli\" + 0.005*\"attack\" + 0.005*\"troop\" + 0.004*\"strike\" + 0.004*\"say\" + 0.004*\"pakistan\" + 0.004*\"hamas\"\n",
      "\n",
      "Score: 0.01429729163646698\t \n",
      "Topic: 0.008*\"kill\" + 0.005*\"nuclear\" + 0.005*\"iran\" + 0.005*\"iraq\" + 0.005*\"bomb\" + 0.004*\"attack\" + 0.004*\"gaddafi\" + 0.004*\"say\" + 0.003*\"syrian\" + 0.003*\"israel\"\n",
      "\n",
      "Score: 0.014296866953372955\t \n",
      "Topic: 0.005*\"bush\" + 0.005*\"say\" + 0.005*\"right\" + 0.004*\"ahmadinejad\" + 0.004*\"chavez\" + 0.004*\"human\" + 0.004*\"china\" + 0.003*\"president\" + 0.003*\"death\" + 0.003*\"pakistan\"\n",
      "\n",
      "Score: 0.014296694658696651\t \n",
      "Topic: 0.006*\"assange\" + 0.005*\"wikileaks\" + 0.004*\"world\" + 0.004*\"julian\" + 0.004*\"earthquake\" + 0.003*\"boycott\" + 0.003*\"government\" + 0.003*\"china\" + 0.003*\"police\" + 0.003*\"olympics\"\n",
      "\n",
      "Score: 0.014296622946858406\t \n",
      "Topic: 0.005*\"egypt\" + 0.004*\"death\" + 0.004*\"year\" + 0.004*\"kill\" + 0.003*\"israel\" + 0.003*\"years\" + 0.003*\"police\" + 0.003*\"die\" + 0.003*\"rape\" + 0.003*\"congo\"\n",
      "\n",
      "Score: 0.01429628487676382\t \n",
      "Topic: 0.005*\"china\" + 0.005*\"japan\" + 0.004*\"internet\" + 0.004*\"world\" + 0.004*\"pope\" + 0.004*\"water\" + 0.004*\"mumbai\" + 0.003*\"people\" + 0.003*\"tsunami\" + 0.003*\"church\"\n",
      "\n",
      "Score: 0.014296219684183598\t \n",
      "Topic: 0.008*\"drug\" + 0.006*\"georgia\" + 0.005*\"russia\" + 0.005*\"world\" + 0.004*\"bank\" + 0.004*\"say\" + 0.004*\"mexico\" + 0.004*\"israel\" + 0.003*\"billion\" + 0.003*\"global\"\n",
      "\n",
      "Score: 0.014295930042862892\t \n",
      "Topic: 0.005*\"government\" + 0.004*\"say\" + 0.003*\"minister\" + 0.003*\"world\" + 0.003*\"israel\" + 0.003*\"police\" + 0.003*\"german\" + 0.003*\"china\" + 0.003*\"iran\" + 0.003*\"internet\"\n"
     ]
    }
   ],
   "source": [
    "# Performance evaluation by classifying sample document using LDA TF-IDF model.\n",
    "\n",
    "for index, score in sorted(lda_model_tfidf[bow_corpus[2]], key=lambda tup: -1*tup[1]):\n",
    "#     print(\"\\nScore: {}\\t \\nTopic: {}\".format(score, lda_model_tfidf.print_topic(index, 10)))\n",
    "    print(\"\\nScore: {}\\t \\nTopic: {}\".format(score, lda_model_tfidf.print_topic(index)))"
   ]
  },
  {
   "cell_type": "code",
   "execution_count": 45,
   "metadata": {
    "scrolled": true
   },
   "outputs": [
    {
     "name": "stdout",
     "output_type": "stream",
     "text": [
      "Score: 0.8499320149421692\t Topic: 0.009*\"internet\" + 0.008*\"government\" + 0.007*\"right\" + 0.006*\"say\" + 0.006*\"house\"\n",
      "Score: 0.016680601984262466\t Topic: 0.045*\"israel\" + 0.020*\"israeli\" + 0.018*\"china\" + 0.018*\"state\" + 0.015*\"right\"\n",
      "Score: 0.016679517924785614\t Topic: 0.036*\"gaza\" + 0.020*\"israel\" + 0.013*\"ship\" + 0.013*\"hamas\" + 0.009*\"israeli\"\n",
      "Score: 0.016676833853125572\t Topic: 0.037*\"iran\" + 0.018*\"nuclear\" + 0.018*\"russia\" + 0.014*\"iraq\" + 0.014*\"world\"\n",
      "Score: 0.016672994941473007\t Topic: 0.026*\"police\" + 0.013*\"president\" + 0.013*\"russian\" + 0.009*\"russia\" + 0.009*\"protest\"\n",
      "Score: 0.016672952100634575\t Topic: 0.034*\"kill\" + 0.021*\"attack\" + 0.016*\"bomb\" + 0.014*\"force\" + 0.010*\"army\"\n",
      "Score: 0.016671812161803246\t Topic: 0.023*\"north\" + 0.022*\"korea\" + 0.021*\"kill\" + 0.019*\"south\" + 0.015*\"pakistan\"\n",
      "Score: 0.016671642661094666\t Topic: 0.018*\"bank\" + 0.013*\"government\" + 0.010*\"protest\" + 0.009*\"court\" + 0.008*\"chinese\"\n",
      "Score: 0.01667155511677265\t Topic: 0.017*\"world\" + 0.010*\"india\" + 0.009*\"power\" + 0.009*\"water\" + 0.008*\"japan\"\n",
      "Score: 0.016670074313879013\t Topic: 0.010*\"election\" + 0.009*\"say\" + 0.009*\"drug\" + 0.009*\"party\" + 0.009*\"vote\"\n",
      "Score: 0.5207449197769165\t Topic: 0.045*\"israel\" + 0.020*\"israeli\" + 0.018*\"china\" + 0.018*\"state\" + 0.015*\"right\"\n",
      "Score: 0.34583643078804016\t Topic: 0.034*\"kill\" + 0.021*\"attack\" + 0.016*\"bomb\" + 0.014*\"force\" + 0.010*\"army\"\n",
      "Score: 0.016679255291819572\t Topic: 0.036*\"gaza\" + 0.020*\"israel\" + 0.013*\"ship\" + 0.013*\"hamas\" + 0.009*\"israeli\"\n",
      "Score: 0.01667863130569458\t Topic: 0.010*\"election\" + 0.009*\"say\" + 0.009*\"drug\" + 0.009*\"party\" + 0.009*\"vote\"\n",
      "Score: 0.016678525134921074\t Topic: 0.018*\"bank\" + 0.013*\"government\" + 0.010*\"protest\" + 0.009*\"court\" + 0.008*\"chinese\"\n",
      "Score: 0.016677703708410263\t Topic: 0.023*\"north\" + 0.022*\"korea\" + 0.021*\"kill\" + 0.019*\"south\" + 0.015*\"pakistan\"\n",
      "Score: 0.016676805913448334\t Topic: 0.017*\"world\" + 0.010*\"india\" + 0.009*\"power\" + 0.009*\"water\" + 0.008*\"japan\"\n",
      "Score: 0.0166764073073864\t Topic: 0.026*\"police\" + 0.013*\"president\" + 0.013*\"russian\" + 0.009*\"russia\" + 0.009*\"protest\"\n",
      "Score: 0.016675777733325958\t Topic: 0.037*\"iran\" + 0.018*\"nuclear\" + 0.018*\"russia\" + 0.014*\"iraq\" + 0.014*\"world\"\n",
      "Score: 0.016675544902682304\t Topic: 0.009*\"internet\" + 0.008*\"government\" + 0.007*\"right\" + 0.006*\"say\" + 0.006*\"house\"\n"
     ]
    }
   ],
   "source": [
    "# Testing model on unseen document\n",
    "\n",
    "unseen_document = 'How a Pentagon deal became an identity crisis for Google'\n",
    "bow_vector = dictionary.doc2bow(preprocess(unseen_document))\n",
    "\n",
    "# lda_model[bow_vector] # Gets topic probabilities for unseen document \n",
    "# # (7, 0.66596633) is the highest score\n",
    "\n",
    "# for topic in lda_model[bow_vector]:\n",
    "#     print(topic)\n",
    "\n",
    "# lda_model.print_topic(index, 7)\n",
    "\n",
    "for index, score in sorted(lda_model_bow[bow_vector], key=lambda tup: -1*tup[1]):\n",
    "    print(\"Score: {}\\t Topic: {}\".format(score, lda_model.print_topic(index, 5)))\n",
    "    \n",
    "for index, score in sorted(lda_model_tfidf[bow_vector], key=lambda tup: -1*tup[1]):\n",
    "    print(\"Score: {}\\t Topic: {}\".format(score, lda_model.print_topic(index, 5)))\n",
    "    \n"
   ]
  },
  {
   "cell_type": "markdown",
   "metadata": {},
   "source": [
    "## Export the model\n",
    "We'll use the LDA-Bag of words model, which appears to be more accurate (based on our test documents)."
   ]
  },
  {
   "cell_type": "code",
   "execution_count": 46,
   "metadata": {},
   "outputs": [
    {
     "data": {
      "text/plain": [
       "['lda_bow.gz']"
      ]
     },
     "execution_count": 46,
     "metadata": {},
     "output_type": "execute_result"
    }
   ],
   "source": [
    "import joblib\n",
    "joblib.dump(lda_model_bow, \"lda_bow.gz\")"
   ]
  },
  {
   "cell_type": "markdown",
   "metadata": {},
   "source": [
    "## Append topics and scores to cleaned dataset"
   ]
  },
  {
   "cell_type": "code",
   "execution_count": 91,
   "metadata": {},
   "outputs": [
    {
     "data": {
      "text/plain": [
       "[8, 0.849932]"
      ]
     },
     "execution_count": 91,
     "metadata": {},
     "output_type": "execute_result"
    }
   ],
   "source": [
    "# This function returns the best-scoring topic and score assocated with a headline\n",
    "def topic_getter(headline):\n",
    "    if headline == np.nan:\n",
    "        return [np.nan,np.nan]\n",
    "    else:\n",
    "        processed_headline = dictionary.doc2bow(preprocess(headline))\n",
    "        topic_scores = sorted(lda_model_bow[processed_headline], key=lambda tup: -1*tup[1])\n",
    "        topic = topic_scores[0][0]\n",
    "        score = topic_scores[0][1]\n",
    "        return [topic, score]\n",
    "\n",
    "topic_getter(unseen_document)\n",
    "# (8, 0.8499303)"
   ]
  },
  {
   "cell_type": "code",
   "execution_count": 97,
   "metadata": {},
   "outputs": [
    {
     "data": {
      "text/html": [
       "<div>\n",
       "<style scoped>\n",
       "    .dataframe tbody tr th:only-of-type {\n",
       "        vertical-align: middle;\n",
       "    }\n",
       "\n",
       "    .dataframe tbody tr th {\n",
       "        vertical-align: top;\n",
       "    }\n",
       "\n",
       "    .dataframe thead th {\n",
       "        text-align: right;\n",
       "    }\n",
       "</style>\n",
       "<table border=\"1\" class=\"dataframe\">\n",
       "  <thead>\n",
       "    <tr style=\"text-align: right;\">\n",
       "      <th></th>\n",
       "      <th>Date</th>\n",
       "      <th>Label</th>\n",
       "      <th>Top1</th>\n",
       "      <th>Top2</th>\n",
       "      <th>Top3</th>\n",
       "      <th>Top4</th>\n",
       "      <th>Top5</th>\n",
       "      <th>Top6</th>\n",
       "      <th>Top7</th>\n",
       "      <th>Top8</th>\n",
       "      <th>...</th>\n",
       "      <th>Top16</th>\n",
       "      <th>Top17</th>\n",
       "      <th>Top18</th>\n",
       "      <th>Top19</th>\n",
       "      <th>Top20</th>\n",
       "      <th>Top21</th>\n",
       "      <th>Top22</th>\n",
       "      <th>Top23</th>\n",
       "      <th>Top24</th>\n",
       "      <th>Top25</th>\n",
       "    </tr>\n",
       "  </thead>\n",
       "  <tbody>\n",
       "    <tr>\n",
       "      <th>0</th>\n",
       "      <td>2008-08-08</td>\n",
       "      <td>0</td>\n",
       "      <td>b\"Georgia 'downs two Russian warplanes' as cou...</td>\n",
       "      <td>b'BREAKING: Musharraf to be impeached.'</td>\n",
       "      <td>b'Russia Today: Columns of troops roll into So...</td>\n",
       "      <td>b'Russian tanks are moving towards the capital...</td>\n",
       "      <td>b\"Afghan children raped with 'impunity,' U.N. ...</td>\n",
       "      <td>b'150 Russian tanks have entered South Ossetia...</td>\n",
       "      <td>b\"Breaking: Georgia invades South Ossetia, Rus...</td>\n",
       "      <td>b\"The 'enemy combatent' trials are nothing but...</td>\n",
       "      <td>...</td>\n",
       "      <td>b'Georgia Invades South Ossetia - if Russia ge...</td>\n",
       "      <td>b'Al-Qaeda Faces Islamist Backlash'</td>\n",
       "      <td>b'Condoleezza Rice: \"The US would not act to p...</td>\n",
       "      <td>b'This is a busy day:  The European Union has ...</td>\n",
       "      <td>b\"Georgia will withdraw 1,000 soldiers from Ir...</td>\n",
       "      <td>b'Why the Pentagon Thinks Attacking Iran is a ...</td>\n",
       "      <td>b'Caucasus in crisis: Georgia invades South Os...</td>\n",
       "      <td>b'Indian shoe manufactory  - And again in a se...</td>\n",
       "      <td>b'Visitors Suffering from Mental Illnesses Ban...</td>\n",
       "      <td>b\"No Help for Mexico's Kidnapping Surge\"</td>\n",
       "    </tr>\n",
       "    <tr>\n",
       "      <th>1</th>\n",
       "      <td>2008-08-11</td>\n",
       "      <td>1</td>\n",
       "      <td>b'Why wont America and Nato help us? If they w...</td>\n",
       "      <td>b'Bush puts foot down on Georgian conflict'</td>\n",
       "      <td>b\"Jewish Georgian minister: Thanks to Israeli ...</td>\n",
       "      <td>b'Georgian army flees in disarray as Russians ...</td>\n",
       "      <td>b\"Olympic opening ceremony fireworks 'faked'\"</td>\n",
       "      <td>b'What were the Mossad with fraudulent New Zea...</td>\n",
       "      <td>b'Russia angered by Israeli military sale to G...</td>\n",
       "      <td>b'An American citizen living in S.Ossetia blam...</td>\n",
       "      <td>...</td>\n",
       "      <td>b'Israel and the US behind the Georgian aggres...</td>\n",
       "      <td>b'\"Do not believe TV, neither Russian nor Geor...</td>\n",
       "      <td>b'Riots are still going on in Montreal (Canada...</td>\n",
       "      <td>b'China to overtake US as largest manufacturer'</td>\n",
       "      <td>b'War in South Ossetia [PICS]'</td>\n",
       "      <td>b'Israeli Physicians Group Condemns State Tort...</td>\n",
       "      <td>b' Russia has just beaten the United States ov...</td>\n",
       "      <td>b'Perhaps *the* question about the Georgia - R...</td>\n",
       "      <td>b'Russia is so much better at war'</td>\n",
       "      <td>b\"So this is what it's come to: trading sex fo...</td>\n",
       "    </tr>\n",
       "    <tr>\n",
       "      <th>2</th>\n",
       "      <td>2008-08-12</td>\n",
       "      <td>0</td>\n",
       "      <td>b'Remember that adorable 9-year-old who sang a...</td>\n",
       "      <td>b\"Russia 'ends Georgia operation'\"</td>\n",
       "      <td>b'\"If we had no sexual harassment we would hav...</td>\n",
       "      <td>b\"Al-Qa'eda is losing support in Iraq because ...</td>\n",
       "      <td>b'Ceasefire in Georgia: Putin Outmaneuvers the...</td>\n",
       "      <td>b'Why Microsoft and Intel tried to kill the XO...</td>\n",
       "      <td>b'Stratfor: The Russo-Georgian War and the Bal...</td>\n",
       "      <td>b\"I'm Trying to Get a Sense of This Whole Geor...</td>\n",
       "      <td>...</td>\n",
       "      <td>b'U.S. troops still in Georgia (did you know t...</td>\n",
       "      <td>b'Why Russias response to Georgia was right'</td>\n",
       "      <td>b'Gorbachev accuses U.S. of making a \"serious ...</td>\n",
       "      <td>b'Russia, Georgia, and NATO: Cold War Two'</td>\n",
       "      <td>b'Remember that adorable 62-year-old who led y...</td>\n",
       "      <td>b'War in Georgia: The Israeli connection'</td>\n",
       "      <td>b'All signs point to the US encouraging Georgi...</td>\n",
       "      <td>b'Christopher King argues that the US and NATO...</td>\n",
       "      <td>b'America: The New Mexico?'</td>\n",
       "      <td>b\"BBC NEWS | Asia-Pacific | Extinction 'by man...</td>\n",
       "    </tr>\n",
       "    <tr>\n",
       "      <th>3</th>\n",
       "      <td>2008-08-13</td>\n",
       "      <td>0</td>\n",
       "      <td>b' U.S. refuses Israel weapons to attack Iran:...</td>\n",
       "      <td>b\"When the president ordered to attack Tskhinv...</td>\n",
       "      <td>b' Israel clears troops who killed Reuters cam...</td>\n",
       "      <td>b'Britain\\'s policy of being tough on drugs is...</td>\n",
       "      <td>b'Body of 14 year old found in trunk; Latest (...</td>\n",
       "      <td>b'China has moved 10 *million* quake survivors...</td>\n",
       "      <td>b\"Bush announces Operation Get All Up In Russi...</td>\n",
       "      <td>b'Russian forces sink Georgian ships '</td>\n",
       "      <td>...</td>\n",
       "      <td>b'Elephants extinct by 2020?'</td>\n",
       "      <td>b'US humanitarian missions soon in Georgia - i...</td>\n",
       "      <td>b\"Georgia's DDOS came from US sources\"</td>\n",
       "      <td>b'Russian convoy heads into Georgia, violating...</td>\n",
       "      <td>b'Israeli defence minister: US against strike ...</td>\n",
       "      <td>b'Gorbachev: We Had No Choice'</td>\n",
       "      <td>b'Witness: Russian forces head towards Tbilisi...</td>\n",
       "      <td>b' Quarter of Russians blame U.S. for conflict...</td>\n",
       "      <td>b'Georgian president  says US military will ta...</td>\n",
       "      <td>b'2006: Nobel laureate Aleksander Solzhenitsyn...</td>\n",
       "    </tr>\n",
       "    <tr>\n",
       "      <th>4</th>\n",
       "      <td>2008-08-14</td>\n",
       "      <td>1</td>\n",
       "      <td>b'All the experts admit that we should legalis...</td>\n",
       "      <td>b'War in South Osetia - 89 pictures made by a ...</td>\n",
       "      <td>b'Swedish wrestler Ara Abrahamian throws away ...</td>\n",
       "      <td>b'Russia exaggerated the death toll in South O...</td>\n",
       "      <td>b'Missile That Killed 9 Inside Pakistan May Ha...</td>\n",
       "      <td>b\"Rushdie Condemns Random House's Refusal to P...</td>\n",
       "      <td>b'Poland and US agree to missle defense deal. ...</td>\n",
       "      <td>b'Will the Russians conquer Tblisi? Bet on it,...</td>\n",
       "      <td>...</td>\n",
       "      <td>b'Bank analyst forecast Georgian crisis 2 days...</td>\n",
       "      <td>b\"Georgia confict could set back Russia's US r...</td>\n",
       "      <td>b'War in the Caucasus is as much the product o...</td>\n",
       "      <td>b'\"Non-media\" photos of South Ossetia/Georgia ...</td>\n",
       "      <td>b'Georgian TV reporter shot by Russian sniper ...</td>\n",
       "      <td>b'Saudi Arabia: Mother moves to block child ma...</td>\n",
       "      <td>b'Taliban wages war on humanitarian aid workers'</td>\n",
       "      <td>b'Russia: World  \"can forget about\" Georgia\\'s...</td>\n",
       "      <td>b'Darfur rebels accuse Sudan of mounting major...</td>\n",
       "      <td>b'Philippines : Peace Advocate say Muslims nee...</td>\n",
       "    </tr>\n",
       "  </tbody>\n",
       "</table>\n",
       "<p>5 rows × 27 columns</p>\n",
       "</div>"
      ],
      "text/plain": [
       "         Date  Label                                               Top1  \\\n",
       "0  2008-08-08      0  b\"Georgia 'downs two Russian warplanes' as cou...   \n",
       "1  2008-08-11      1  b'Why wont America and Nato help us? If they w...   \n",
       "2  2008-08-12      0  b'Remember that adorable 9-year-old who sang a...   \n",
       "3  2008-08-13      0  b' U.S. refuses Israel weapons to attack Iran:...   \n",
       "4  2008-08-14      1  b'All the experts admit that we should legalis...   \n",
       "\n",
       "                                                Top2  \\\n",
       "0            b'BREAKING: Musharraf to be impeached.'   \n",
       "1        b'Bush puts foot down on Georgian conflict'   \n",
       "2                 b\"Russia 'ends Georgia operation'\"   \n",
       "3  b\"When the president ordered to attack Tskhinv...   \n",
       "4  b'War in South Osetia - 89 pictures made by a ...   \n",
       "\n",
       "                                                Top3  \\\n",
       "0  b'Russia Today: Columns of troops roll into So...   \n",
       "1  b\"Jewish Georgian minister: Thanks to Israeli ...   \n",
       "2  b'\"If we had no sexual harassment we would hav...   \n",
       "3  b' Israel clears troops who killed Reuters cam...   \n",
       "4  b'Swedish wrestler Ara Abrahamian throws away ...   \n",
       "\n",
       "                                                Top4  \\\n",
       "0  b'Russian tanks are moving towards the capital...   \n",
       "1  b'Georgian army flees in disarray as Russians ...   \n",
       "2  b\"Al-Qa'eda is losing support in Iraq because ...   \n",
       "3  b'Britain\\'s policy of being tough on drugs is...   \n",
       "4  b'Russia exaggerated the death toll in South O...   \n",
       "\n",
       "                                                Top5  \\\n",
       "0  b\"Afghan children raped with 'impunity,' U.N. ...   \n",
       "1      b\"Olympic opening ceremony fireworks 'faked'\"   \n",
       "2  b'Ceasefire in Georgia: Putin Outmaneuvers the...   \n",
       "3  b'Body of 14 year old found in trunk; Latest (...   \n",
       "4  b'Missile That Killed 9 Inside Pakistan May Ha...   \n",
       "\n",
       "                                                Top6  \\\n",
       "0  b'150 Russian tanks have entered South Ossetia...   \n",
       "1  b'What were the Mossad with fraudulent New Zea...   \n",
       "2  b'Why Microsoft and Intel tried to kill the XO...   \n",
       "3  b'China has moved 10 *million* quake survivors...   \n",
       "4  b\"Rushdie Condemns Random House's Refusal to P...   \n",
       "\n",
       "                                                Top7  \\\n",
       "0  b\"Breaking: Georgia invades South Ossetia, Rus...   \n",
       "1  b'Russia angered by Israeli military sale to G...   \n",
       "2  b'Stratfor: The Russo-Georgian War and the Bal...   \n",
       "3  b\"Bush announces Operation Get All Up In Russi...   \n",
       "4  b'Poland and US agree to missle defense deal. ...   \n",
       "\n",
       "                                                Top8  ...  \\\n",
       "0  b\"The 'enemy combatent' trials are nothing but...  ...   \n",
       "1  b'An American citizen living in S.Ossetia blam...  ...   \n",
       "2  b\"I'm Trying to Get a Sense of This Whole Geor...  ...   \n",
       "3             b'Russian forces sink Georgian ships '  ...   \n",
       "4  b'Will the Russians conquer Tblisi? Bet on it,...  ...   \n",
       "\n",
       "                                               Top16  \\\n",
       "0  b'Georgia Invades South Ossetia - if Russia ge...   \n",
       "1  b'Israel and the US behind the Georgian aggres...   \n",
       "2  b'U.S. troops still in Georgia (did you know t...   \n",
       "3                      b'Elephants extinct by 2020?'   \n",
       "4  b'Bank analyst forecast Georgian crisis 2 days...   \n",
       "\n",
       "                                               Top17  \\\n",
       "0                b'Al-Qaeda Faces Islamist Backlash'   \n",
       "1  b'\"Do not believe TV, neither Russian nor Geor...   \n",
       "2       b'Why Russias response to Georgia was right'   \n",
       "3  b'US humanitarian missions soon in Georgia - i...   \n",
       "4  b\"Georgia confict could set back Russia's US r...   \n",
       "\n",
       "                                               Top18  \\\n",
       "0  b'Condoleezza Rice: \"The US would not act to p...   \n",
       "1  b'Riots are still going on in Montreal (Canada...   \n",
       "2  b'Gorbachev accuses U.S. of making a \"serious ...   \n",
       "3             b\"Georgia's DDOS came from US sources\"   \n",
       "4  b'War in the Caucasus is as much the product o...   \n",
       "\n",
       "                                               Top19  \\\n",
       "0  b'This is a busy day:  The European Union has ...   \n",
       "1    b'China to overtake US as largest manufacturer'   \n",
       "2         b'Russia, Georgia, and NATO: Cold War Two'   \n",
       "3  b'Russian convoy heads into Georgia, violating...   \n",
       "4  b'\"Non-media\" photos of South Ossetia/Georgia ...   \n",
       "\n",
       "                                               Top20  \\\n",
       "0  b\"Georgia will withdraw 1,000 soldiers from Ir...   \n",
       "1                     b'War in South Ossetia [PICS]'   \n",
       "2  b'Remember that adorable 62-year-old who led y...   \n",
       "3  b'Israeli defence minister: US against strike ...   \n",
       "4  b'Georgian TV reporter shot by Russian sniper ...   \n",
       "\n",
       "                                               Top21  \\\n",
       "0  b'Why the Pentagon Thinks Attacking Iran is a ...   \n",
       "1  b'Israeli Physicians Group Condemns State Tort...   \n",
       "2          b'War in Georgia: The Israeli connection'   \n",
       "3                     b'Gorbachev: We Had No Choice'   \n",
       "4  b'Saudi Arabia: Mother moves to block child ma...   \n",
       "\n",
       "                                               Top22  \\\n",
       "0  b'Caucasus in crisis: Georgia invades South Os...   \n",
       "1  b' Russia has just beaten the United States ov...   \n",
       "2  b'All signs point to the US encouraging Georgi...   \n",
       "3  b'Witness: Russian forces head towards Tbilisi...   \n",
       "4   b'Taliban wages war on humanitarian aid workers'   \n",
       "\n",
       "                                               Top23  \\\n",
       "0  b'Indian shoe manufactory  - And again in a se...   \n",
       "1  b'Perhaps *the* question about the Georgia - R...   \n",
       "2  b'Christopher King argues that the US and NATO...   \n",
       "3  b' Quarter of Russians blame U.S. for conflict...   \n",
       "4  b'Russia: World  \"can forget about\" Georgia\\'s...   \n",
       "\n",
       "                                               Top24  \\\n",
       "0  b'Visitors Suffering from Mental Illnesses Ban...   \n",
       "1                 b'Russia is so much better at war'   \n",
       "2                        b'America: The New Mexico?'   \n",
       "3  b'Georgian president  says US military will ta...   \n",
       "4  b'Darfur rebels accuse Sudan of mounting major...   \n",
       "\n",
       "                                               Top25  \n",
       "0           b\"No Help for Mexico's Kidnapping Surge\"  \n",
       "1  b\"So this is what it's come to: trading sex fo...  \n",
       "2  b\"BBC NEWS | Asia-Pacific | Extinction 'by man...  \n",
       "3  b'2006: Nobel laureate Aleksander Solzhenitsyn...  \n",
       "4  b'Philippines : Peace Advocate say Muslims nee...  \n",
       "\n",
       "[5 rows x 27 columns]"
      ]
     },
     "execution_count": 97,
     "metadata": {},
     "output_type": "execute_result"
    }
   ],
   "source": [
    "# Load dataset with combined data\n",
    "all_data = pd.read_csv('../Data/Combined_News_DJIA.csv')\n",
    "all_data.head()"
   ]
  },
  {
   "cell_type": "code",
   "execution_count": 98,
   "metadata": {},
   "outputs": [],
   "source": [
    "all_data.dropna(how='any', inplace=True)"
   ]
  },
  {
   "cell_type": "code",
   "execution_count": 99,
   "metadata": {},
   "outputs": [],
   "source": [
    "for x in range(1,26): # for each column\n",
    "    col = \"Top\" + str(x)\n",
    "    new_col = col + \"_topic_score\"\n",
    "    \n",
    "    col_data = []\n",
    "    \n",
    "    # for each row in column\n",
    "    # get the headline, feed it into the lda_model_bow to get the topic and score\n",
    "    for index, row in all_data.iterrows():\n",
    "        headline_topic = row[col]\n",
    "        try: \n",
    "            col_data.append(topic_getter(headline_topic))\n",
    "        except:\n",
    "            print(headline_topic)\n",
    "            continue\n",
    "    # pass the topic and score into a new column in df\n",
    "    all_data[new_col] = col_data"
   ]
  },
  {
   "cell_type": "code",
   "execution_count": 106,
   "metadata": {},
   "outputs": [
    {
     "data": {
      "text/html": [
       "<div>\n",
       "<style scoped>\n",
       "    .dataframe tbody tr th:only-of-type {\n",
       "        vertical-align: middle;\n",
       "    }\n",
       "\n",
       "    .dataframe tbody tr th {\n",
       "        vertical-align: top;\n",
       "    }\n",
       "\n",
       "    .dataframe thead th {\n",
       "        text-align: right;\n",
       "    }\n",
       "</style>\n",
       "<table border=\"1\" class=\"dataframe\">\n",
       "  <thead>\n",
       "    <tr style=\"text-align: right;\">\n",
       "      <th></th>\n",
       "      <th>Date</th>\n",
       "      <th>Label</th>\n",
       "      <th>Top1</th>\n",
       "      <th>Top2</th>\n",
       "      <th>Top3</th>\n",
       "      <th>Top4</th>\n",
       "      <th>Top5</th>\n",
       "      <th>Top6</th>\n",
       "      <th>Top7</th>\n",
       "      <th>Top8</th>\n",
       "      <th>...</th>\n",
       "      <th>Top16_topic_score</th>\n",
       "      <th>Top17_topic_score</th>\n",
       "      <th>Top18_topic_score</th>\n",
       "      <th>Top19_topic_score</th>\n",
       "      <th>Top20_topic_score</th>\n",
       "      <th>Top21_topic_score</th>\n",
       "      <th>Top22_topic_score</th>\n",
       "      <th>Top23_topic_score</th>\n",
       "      <th>Top24_topic_score</th>\n",
       "      <th>Top25_topic_score</th>\n",
       "    </tr>\n",
       "  </thead>\n",
       "  <tbody>\n",
       "    <tr>\n",
       "      <th>0</th>\n",
       "      <td>2008-08-08</td>\n",
       "      <td>0</td>\n",
       "      <td>b\"Georgia 'downs two Russian warplanes' as cou...</td>\n",
       "      <td>b'BREAKING: Musharraf to be impeached.'</td>\n",
       "      <td>b'Russia Today: Columns of troops roll into So...</td>\n",
       "      <td>b'Russian tanks are moving towards the capital...</td>\n",
       "      <td>b\"Afghan children raped with 'impunity,' U.N. ...</td>\n",
       "      <td>b'150 Russian tanks have entered South Ossetia...</td>\n",
       "      <td>b\"Breaking: Georgia invades South Ossetia, Rus...</td>\n",
       "      <td>b\"The 'enemy combatent' trials are nothing but...</td>\n",
       "      <td>...</td>\n",
       "      <td>[7, 0.54839784]</td>\n",
       "      <td>[5, 0.49373335]</td>\n",
       "      <td>[8, 0.7479067]</td>\n",
       "      <td>[4, 0.5546607]</td>\n",
       "      <td>[5, 0.6731857]</td>\n",
       "      <td>[8, 0.8999648]</td>\n",
       "      <td>[4, 0.42172644]</td>\n",
       "      <td>[3, 0.84993804]</td>\n",
       "      <td>[2, 0.51924974]</td>\n",
       "      <td>[6, 0.52812487]</td>\n",
       "    </tr>\n",
       "    <tr>\n",
       "      <th>1</th>\n",
       "      <td>2008-08-11</td>\n",
       "      <td>1</td>\n",
       "      <td>b'Why wont America and Nato help us? If they w...</td>\n",
       "      <td>b'Bush puts foot down on Georgian conflict'</td>\n",
       "      <td>b\"Jewish Georgian minister: Thanks to Israeli ...</td>\n",
       "      <td>b'Georgian army flees in disarray as Russians ...</td>\n",
       "      <td>b\"Olympic opening ceremony fireworks 'faked'\"</td>\n",
       "      <td>b'What were the Mossad with fraudulent New Zea...</td>\n",
       "      <td>b'Russia angered by Israeli military sale to G...</td>\n",
       "      <td>b'An American citizen living in S.Ossetia blam...</td>\n",
       "      <td>...</td>\n",
       "      <td>[8, 0.5204197]</td>\n",
       "      <td>[1, 0.81994945]</td>\n",
       "      <td>[9, 0.6280556]</td>\n",
       "      <td>[1, 0.34079245]</td>\n",
       "      <td>[5, 0.33000782]</td>\n",
       "      <td>[8, 0.84992933]</td>\n",
       "      <td>[8, 0.3987812]</td>\n",
       "      <td>[7, 0.8199619]</td>\n",
       "      <td>[7, 0.45951775]</td>\n",
       "      <td>[4, 0.7749679]</td>\n",
       "    </tr>\n",
       "    <tr>\n",
       "      <th>2</th>\n",
       "      <td>2008-08-12</td>\n",
       "      <td>0</td>\n",
       "      <td>b'Remember that adorable 9-year-old who sang a...</td>\n",
       "      <td>b\"Russia 'ends Georgia operation'\"</td>\n",
       "      <td>b'\"If we had no sexual harassment we would hav...</td>\n",
       "      <td>b\"Al-Qa'eda is losing support in Iraq because ...</td>\n",
       "      <td>b'Ceasefire in Georgia: Putin Outmaneuvers the...</td>\n",
       "      <td>b'Why Microsoft and Intel tried to kill the XO...</td>\n",
       "      <td>b'Stratfor: The Russo-Georgian War and the Bal...</td>\n",
       "      <td>b\"I'm Trying to Get a Sense of This Whole Geor...</td>\n",
       "      <td>...</td>\n",
       "      <td>[7, 0.6842205]</td>\n",
       "      <td>[7, 0.49105403]</td>\n",
       "      <td>[7, 0.3169475]</td>\n",
       "      <td>[7, 0.81998307]</td>\n",
       "      <td>[4, 0.6680585]</td>\n",
       "      <td>[7, 0.29200497]</td>\n",
       "      <td>[8, 0.3772373]</td>\n",
       "      <td>[1, 0.33793223]</td>\n",
       "      <td>[6, 0.37801707]</td>\n",
       "      <td>[3, 0.70385313]</td>\n",
       "    </tr>\n",
       "    <tr>\n",
       "      <th>3</th>\n",
       "      <td>2008-08-13</td>\n",
       "      <td>0</td>\n",
       "      <td>b' U.S. refuses Israel weapons to attack Iran:...</td>\n",
       "      <td>b\"When the president ordered to attack Tskhinv...</td>\n",
       "      <td>b' Israel clears troops who killed Reuters cam...</td>\n",
       "      <td>b'Britain\\'s policy of being tough on drugs is...</td>\n",
       "      <td>b'Body of 14 year old found in trunk; Latest (...</td>\n",
       "      <td>b'China has moved 10 *million* quake survivors...</td>\n",
       "      <td>b\"Bush announces Operation Get All Up In Russi...</td>\n",
       "      <td>b'Russian forces sink Georgian ships '</td>\n",
       "      <td>...</td>\n",
       "      <td>[3, 0.36663938]</td>\n",
       "      <td>[7, 0.60835826]</td>\n",
       "      <td>[0, 0.5265882]</td>\n",
       "      <td>[7, 0.36622435]</td>\n",
       "      <td>[8, 0.8499715]</td>\n",
       "      <td>[7, 0.3666452]</td>\n",
       "      <td>[5, 0.6786247]</td>\n",
       "      <td>[7, 0.8497919]</td>\n",
       "      <td>[8, 0.3896271]</td>\n",
       "      <td>[7, 0.40924603]</td>\n",
       "    </tr>\n",
       "    <tr>\n",
       "      <th>4</th>\n",
       "      <td>2008-08-14</td>\n",
       "      <td>1</td>\n",
       "      <td>b'All the experts admit that we should legalis...</td>\n",
       "      <td>b'War in South Osetia - 89 pictures made by a ...</td>\n",
       "      <td>b'Swedish wrestler Ara Abrahamian throws away ...</td>\n",
       "      <td>b'Russia exaggerated the death toll in South O...</td>\n",
       "      <td>b'Missile That Killed 9 Inside Pakistan May Ha...</td>\n",
       "      <td>b\"Rushdie Condemns Random House's Refusal to P...</td>\n",
       "      <td>b'Poland and US agree to missle defense deal. ...</td>\n",
       "      <td>b'Will the Russians conquer Tblisi? Bet on it,...</td>\n",
       "      <td>...</td>\n",
       "      <td>[6, 0.50975776]</td>\n",
       "      <td>[7, 0.4164804]</td>\n",
       "      <td>[3, 0.60738546]</td>\n",
       "      <td>[7, 0.5090185]</td>\n",
       "      <td>[1, 0.34263086]</td>\n",
       "      <td>[9, 0.45443296]</td>\n",
       "      <td>[5, 0.8199477]</td>\n",
       "      <td>[7, 0.48615962]</td>\n",
       "      <td>[5, 0.47404864]</td>\n",
       "      <td>[2, 0.53765625]</td>\n",
       "    </tr>\n",
       "  </tbody>\n",
       "</table>\n",
       "<p>5 rows × 52 columns</p>\n",
       "</div>"
      ],
      "text/plain": [
       "         Date  Label                                               Top1  \\\n",
       "0  2008-08-08      0  b\"Georgia 'downs two Russian warplanes' as cou...   \n",
       "1  2008-08-11      1  b'Why wont America and Nato help us? If they w...   \n",
       "2  2008-08-12      0  b'Remember that adorable 9-year-old who sang a...   \n",
       "3  2008-08-13      0  b' U.S. refuses Israel weapons to attack Iran:...   \n",
       "4  2008-08-14      1  b'All the experts admit that we should legalis...   \n",
       "\n",
       "                                                Top2  \\\n",
       "0            b'BREAKING: Musharraf to be impeached.'   \n",
       "1        b'Bush puts foot down on Georgian conflict'   \n",
       "2                 b\"Russia 'ends Georgia operation'\"   \n",
       "3  b\"When the president ordered to attack Tskhinv...   \n",
       "4  b'War in South Osetia - 89 pictures made by a ...   \n",
       "\n",
       "                                                Top3  \\\n",
       "0  b'Russia Today: Columns of troops roll into So...   \n",
       "1  b\"Jewish Georgian minister: Thanks to Israeli ...   \n",
       "2  b'\"If we had no sexual harassment we would hav...   \n",
       "3  b' Israel clears troops who killed Reuters cam...   \n",
       "4  b'Swedish wrestler Ara Abrahamian throws away ...   \n",
       "\n",
       "                                                Top4  \\\n",
       "0  b'Russian tanks are moving towards the capital...   \n",
       "1  b'Georgian army flees in disarray as Russians ...   \n",
       "2  b\"Al-Qa'eda is losing support in Iraq because ...   \n",
       "3  b'Britain\\'s policy of being tough on drugs is...   \n",
       "4  b'Russia exaggerated the death toll in South O...   \n",
       "\n",
       "                                                Top5  \\\n",
       "0  b\"Afghan children raped with 'impunity,' U.N. ...   \n",
       "1      b\"Olympic opening ceremony fireworks 'faked'\"   \n",
       "2  b'Ceasefire in Georgia: Putin Outmaneuvers the...   \n",
       "3  b'Body of 14 year old found in trunk; Latest (...   \n",
       "4  b'Missile That Killed 9 Inside Pakistan May Ha...   \n",
       "\n",
       "                                                Top6  \\\n",
       "0  b'150 Russian tanks have entered South Ossetia...   \n",
       "1  b'What were the Mossad with fraudulent New Zea...   \n",
       "2  b'Why Microsoft and Intel tried to kill the XO...   \n",
       "3  b'China has moved 10 *million* quake survivors...   \n",
       "4  b\"Rushdie Condemns Random House's Refusal to P...   \n",
       "\n",
       "                                                Top7  \\\n",
       "0  b\"Breaking: Georgia invades South Ossetia, Rus...   \n",
       "1  b'Russia angered by Israeli military sale to G...   \n",
       "2  b'Stratfor: The Russo-Georgian War and the Bal...   \n",
       "3  b\"Bush announces Operation Get All Up In Russi...   \n",
       "4  b'Poland and US agree to missle defense deal. ...   \n",
       "\n",
       "                                                Top8  ... Top16_topic_score  \\\n",
       "0  b\"The 'enemy combatent' trials are nothing but...  ...   [7, 0.54839784]   \n",
       "1  b'An American citizen living in S.Ossetia blam...  ...    [8, 0.5204197]   \n",
       "2  b\"I'm Trying to Get a Sense of This Whole Geor...  ...    [7, 0.6842205]   \n",
       "3             b'Russian forces sink Georgian ships '  ...   [3, 0.36663938]   \n",
       "4  b'Will the Russians conquer Tblisi? Bet on it,...  ...   [6, 0.50975776]   \n",
       "\n",
       "  Top17_topic_score Top18_topic_score Top19_topic_score Top20_topic_score  \\\n",
       "0   [5, 0.49373335]    [8, 0.7479067]    [4, 0.5546607]    [5, 0.6731857]   \n",
       "1   [1, 0.81994945]    [9, 0.6280556]   [1, 0.34079245]   [5, 0.33000782]   \n",
       "2   [7, 0.49105403]    [7, 0.3169475]   [7, 0.81998307]    [4, 0.6680585]   \n",
       "3   [7, 0.60835826]    [0, 0.5265882]   [7, 0.36622435]    [8, 0.8499715]   \n",
       "4    [7, 0.4164804]   [3, 0.60738546]    [7, 0.5090185]   [1, 0.34263086]   \n",
       "\n",
       "  Top21_topic_score Top22_topic_score Top23_topic_score Top24_topic_score  \\\n",
       "0    [8, 0.8999648]   [4, 0.42172644]   [3, 0.84993804]   [2, 0.51924974]   \n",
       "1   [8, 0.84992933]    [8, 0.3987812]    [7, 0.8199619]   [7, 0.45951775]   \n",
       "2   [7, 0.29200497]    [8, 0.3772373]   [1, 0.33793223]   [6, 0.37801707]   \n",
       "3    [7, 0.3666452]    [5, 0.6786247]    [7, 0.8497919]    [8, 0.3896271]   \n",
       "4   [9, 0.45443296]    [5, 0.8199477]   [7, 0.48615962]   [5, 0.47404864]   \n",
       "\n",
       "  Top25_topic_score  \n",
       "0   [6, 0.52812487]  \n",
       "1    [4, 0.7749679]  \n",
       "2   [3, 0.70385313]  \n",
       "3   [7, 0.40924603]  \n",
       "4   [2, 0.53765625]  \n",
       "\n",
       "[5 rows x 52 columns]"
      ]
     },
     "execution_count": 106,
     "metadata": {},
     "output_type": "execute_result"
    }
   ],
   "source": [
    "all_data.head()"
   ]
  },
  {
   "cell_type": "code",
   "execution_count": 108,
   "metadata": {},
   "outputs": [],
   "source": [
    "# Save updated data\n",
    "all_data.to_csv(\"../Data/Combined_News_DJIA_topics.csv\")"
   ]
  },
  {
   "cell_type": "code",
   "execution_count": null,
   "metadata": {},
   "outputs": [],
   "source": []
  }
 ],
 "metadata": {
  "kernelspec": {
   "display_name": "Python 3",
   "language": "python",
   "name": "python3"
  },
  "language_info": {
   "codemirror_mode": {
    "name": "ipython",
    "version": 3
   },
   "file_extension": ".py",
   "mimetype": "text/x-python",
   "name": "python",
   "nbconvert_exporter": "python",
   "pygments_lexer": "ipython3",
   "version": "3.6.10"
  }
 },
 "nbformat": 4,
 "nbformat_minor": 2
}
