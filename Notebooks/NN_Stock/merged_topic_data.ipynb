{
 "cells": [
  {
   "cell_type": "code",
   "execution_count": null,
   "metadata": {},
   "outputs": [],
   "source": [
    "import pandas as pd"
   ]
  },
  {
   "cell_type": "code",
   "execution_count": null,
   "metadata": {},
   "outputs": [],
   "source": [
    "DJIA_df1 = pd.read_csv(\"upload_DJIA_table.csv\")\n",
    "DJIA_df1[\"Date\"] = pd.to_datetime(DJIA_df1.Date)\n",
    "DJIA_df1.head()"
   ]
  },
  {
   "cell_type": "code",
   "execution_count": null,
   "metadata": {},
   "outputs": [],
   "source": [
    "DJIA_df2 = pd.read_csv(\"Combined_News_DJIA_single_topic.csv\")\n",
    "DJIA_df2[\"Date\"] = pd.to_datetime(DJIA_df2.Date)\n",
    "DJIA_df3 = DJIA_df2[[\"Date\", \"Label\", \"daily_topic\"]]\n",
    "DJIA_df3.head()"
   ]
  },
  {
   "cell_type": "code",
   "execution_count": null,
   "metadata": {},
   "outputs": [],
   "source": [
    "DJIA_merged = DJIA_df1.merge(DJIA_df3, on=\"Date\")\n",
    "DJIA_merged.sort_values(by=[\"Date\"], inplace=True, ascending=True)\n",
    "DJIA_merged.head()"
   ]
  },
  {
   "cell_type": "code",
   "execution_count": null,
   "metadata": {},
   "outputs": [],
   "source": [
    "DJIA_merged.to_csv(\"DJIA_w_topic.csv\")"
   ]
  },
  {
   "cell_type": "code",
   "execution_count": null,
   "metadata": {},
   "outputs": [],
   "source": []
  }
 ],
 "metadata": {
  "kernelspec": {
   "display_name": "Python 3",
   "language": "python",
   "name": "python3"
  },
  "language_info": {
   "codemirror_mode": {
    "name": "ipython",
    "version": 3
   },
   "file_extension": ".py",
   "mimetype": "text/x-python",
   "name": "python",
   "nbconvert_exporter": "python",
   "pygments_lexer": "ipython3",
   "version": "3.6.9"
  }
 },
 "nbformat": 4,
 "nbformat_minor": 2
}
