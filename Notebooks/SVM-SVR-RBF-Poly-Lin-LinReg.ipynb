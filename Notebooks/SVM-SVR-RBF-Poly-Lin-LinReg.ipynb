{
 "cells": [
  {
   "cell_type": "code",
   "execution_count": 13,
   "metadata": {},
   "outputs": [],
   "source": [
    "import pandas as pd\n",
    "import numpy as np\n",
    "import pandas_datareader as web\n",
    "from sklearn.svm import SVR\n",
    "from sklearn.linear_model import LinearRegression\n",
    "import matplotlib.pyplot as plt\n",
    "import datetime as dt\n",
    "from datetime import timedelta"
   ]
  },
  {
   "cell_type": "code",
   "execution_count": 14,
   "metadata": {},
   "outputs": [],
   "source": [
    "#We will predict the next market close\n",
    "#First get the last 100 days of full data\n",
    "#today's date\n",
    "today = dt.datetime.today()\n",
    "#set up params for start and end date\n",
    "end = today\n",
    "start = today - timedelta(100)"
   ]
  },
  {
   "cell_type": "code",
   "execution_count": 16,
   "metadata": {},
   "outputs": [
    {
     "data": {
      "text/html": [
       "<div>\n",
       "<style scoped>\n",
       "    .dataframe tbody tr th:only-of-type {\n",
       "        vertical-align: middle;\n",
       "    }\n",
       "\n",
       "    .dataframe tbody tr th {\n",
       "        vertical-align: top;\n",
       "    }\n",
       "\n",
       "    .dataframe thead th {\n",
       "        text-align: right;\n",
       "    }\n",
       "</style>\n",
       "<table border=\"1\" class=\"dataframe\">\n",
       "  <thead>\n",
       "    <tr style=\"text-align: right;\">\n",
       "      <th></th>\n",
       "      <th>Date</th>\n",
       "      <th>High</th>\n",
       "      <th>Low</th>\n",
       "      <th>Open</th>\n",
       "      <th>Close</th>\n",
       "      <th>Volume</th>\n",
       "      <th>Adj Close</th>\n",
       "      <th>next_day_close</th>\n",
       "      <th>next_day_performance</th>\n",
       "      <th>is_positive</th>\n",
       "      <th>datarow</th>\n",
       "    </tr>\n",
       "  </thead>\n",
       "  <tbody>\n",
       "    <tr>\n",
       "      <th>64</th>\n",
       "      <td>2020-05-08</td>\n",
       "      <td>824.000000</td>\n",
       "      <td>787.010010</td>\n",
       "      <td>793.770020</td>\n",
       "      <td>819.419983</td>\n",
       "      <td>16130100</td>\n",
       "      <td>819.419983</td>\n",
       "      <td>811.289978</td>\n",
       "      <td>-0.009922</td>\n",
       "      <td>0</td>\n",
       "      <td>65</td>\n",
       "    </tr>\n",
       "    <tr>\n",
       "      <th>65</th>\n",
       "      <td>2020-05-11</td>\n",
       "      <td>824.000000</td>\n",
       "      <td>785.000000</td>\n",
       "      <td>790.510010</td>\n",
       "      <td>811.289978</td>\n",
       "      <td>16471100</td>\n",
       "      <td>811.289978</td>\n",
       "      <td>809.409973</td>\n",
       "      <td>-0.002317</td>\n",
       "      <td>0</td>\n",
       "      <td>66</td>\n",
       "    </tr>\n",
       "    <tr>\n",
       "      <th>66</th>\n",
       "      <td>2020-05-12</td>\n",
       "      <td>843.289978</td>\n",
       "      <td>808.000000</td>\n",
       "      <td>827.000000</td>\n",
       "      <td>809.409973</td>\n",
       "      <td>15906900</td>\n",
       "      <td>809.409973</td>\n",
       "      <td>790.960022</td>\n",
       "      <td>-0.022794</td>\n",
       "      <td>0</td>\n",
       "      <td>67</td>\n",
       "    </tr>\n",
       "    <tr>\n",
       "      <th>67</th>\n",
       "      <td>2020-05-13</td>\n",
       "      <td>826.000000</td>\n",
       "      <td>763.299988</td>\n",
       "      <td>820.830017</td>\n",
       "      <td>790.960022</td>\n",
       "      <td>19065500</td>\n",
       "      <td>790.960022</td>\n",
       "      <td>803.330017</td>\n",
       "      <td>0.015639</td>\n",
       "      <td>1</td>\n",
       "      <td>68</td>\n",
       "    </tr>\n",
       "    <tr>\n",
       "      <th>68</th>\n",
       "      <td>2020-05-14</td>\n",
       "      <td>803.359985</td>\n",
       "      <td>764.000000</td>\n",
       "      <td>780.000000</td>\n",
       "      <td>803.330017</td>\n",
       "      <td>13637500</td>\n",
       "      <td>803.330017</td>\n",
       "      <td>799.169983</td>\n",
       "      <td>-0.005178</td>\n",
       "      <td>0</td>\n",
       "      <td>69</td>\n",
       "    </tr>\n",
       "  </tbody>\n",
       "</table>\n",
       "</div>"
      ],
      "text/plain": [
       "         Date        High         Low        Open       Close    Volume  \\\n",
       "64 2020-05-08  824.000000  787.010010  793.770020  819.419983  16130100   \n",
       "65 2020-05-11  824.000000  785.000000  790.510010  811.289978  16471100   \n",
       "66 2020-05-12  843.289978  808.000000  827.000000  809.409973  15906900   \n",
       "67 2020-05-13  826.000000  763.299988  820.830017  790.960022  19065500   \n",
       "68 2020-05-14  803.359985  764.000000  780.000000  803.330017  13637500   \n",
       "\n",
       "     Adj Close  next_day_close  next_day_performance  is_positive  datarow  \n",
       "64  819.419983      811.289978             -0.009922            0       65  \n",
       "65  811.289978      809.409973             -0.002317            0       66  \n",
       "66  809.409973      790.960022             -0.022794            0       67  \n",
       "67  790.960022      803.330017              0.015639            1       68  \n",
       "68  803.330017      799.169983             -0.005178            0       69  "
      ]
     },
     "execution_count": 16,
     "metadata": {},
     "output_type": "execute_result"
    }
   ],
   "source": [
    "#get apple stock price info for last 100 days\n",
    "df = web.DataReader('TSLA', data_source='yahoo', start=start, end=end)\n",
    "df[\"next_day_close\"] = df[\"Close\"].shift(-1)\n",
    "df[\"next_day_performance\"] = (df[\"next_day_close\"] - df[\"Close\"])/df[\"Close\"]\n",
    "df = df.dropna()\n",
    "df['is_positive'] = np.where(df['next_day_performance'] > 0, 1, 0)\n",
    "df['datarow'] = np.arange(len(df))+1\n",
    "df = df.reset_index()\n",
    "df.tail()"
   ]
  },
  {
   "cell_type": "code",
   "execution_count": 4,
   "metadata": {},
   "outputs": [],
   "source": [
    "#Create the variables for independent and dependent variables\n",
    "dates = []\n",
    "prices = []"
   ]
  },
  {
   "cell_type": "code",
   "execution_count": 5,
   "metadata": {},
   "outputs": [
    {
     "data": {
      "text/plain": [
       "(69, 11)"
      ]
     },
     "execution_count": 5,
     "metadata": {},
     "output_type": "execute_result"
    }
   ],
   "source": [
    "df.shape"
   ]
  },
  {
   "cell_type": "code",
   "execution_count": 6,
   "metadata": {},
   "outputs": [
    {
     "data": {
      "text/html": [
       "<div>\n",
       "<style scoped>\n",
       "    .dataframe tbody tr th:only-of-type {\n",
       "        vertical-align: middle;\n",
       "    }\n",
       "\n",
       "    .dataframe tbody tr th {\n",
       "        vertical-align: top;\n",
       "    }\n",
       "\n",
       "    .dataframe thead th {\n",
       "        text-align: right;\n",
       "    }\n",
       "</style>\n",
       "<table border=\"1\" class=\"dataframe\">\n",
       "  <thead>\n",
       "    <tr style=\"text-align: right;\">\n",
       "      <th></th>\n",
       "      <th>Date</th>\n",
       "      <th>High</th>\n",
       "      <th>Low</th>\n",
       "      <th>Open</th>\n",
       "      <th>Close</th>\n",
       "      <th>Volume</th>\n",
       "      <th>Adj Close</th>\n",
       "      <th>next_day_close</th>\n",
       "      <th>next_day_performance</th>\n",
       "      <th>is_positive</th>\n",
       "      <th>datarow</th>\n",
       "    </tr>\n",
       "  </thead>\n",
       "  <tbody>\n",
       "    <tr>\n",
       "      <th>68</th>\n",
       "      <td>2020-05-14</td>\n",
       "      <td>803.359985</td>\n",
       "      <td>764.0</td>\n",
       "      <td>780.0</td>\n",
       "      <td>803.330017</td>\n",
       "      <td>13637500</td>\n",
       "      <td>803.330017</td>\n",
       "      <td>799.169983</td>\n",
       "      <td>-0.005178</td>\n",
       "      <td>0</td>\n",
       "      <td>69</td>\n",
       "    </tr>\n",
       "  </tbody>\n",
       "</table>\n",
       "</div>"
      ],
      "text/plain": [
       "         Date        High    Low   Open       Close    Volume   Adj Close  \\\n",
       "68 2020-05-14  803.359985  764.0  780.0  803.330017  13637500  803.330017   \n",
       "\n",
       "    next_day_close  next_day_performance  is_positive  datarow  \n",
       "68      799.169983             -0.005178            0       69  "
      ]
     },
     "execution_count": 6,
     "metadata": {},
     "output_type": "execute_result"
    }
   ],
   "source": [
    "#Get the last row of data - this will be the data we test on\n",
    "df.tail(1)"
   ]
  },
  {
   "cell_type": "code",
   "execution_count": 7,
   "metadata": {},
   "outputs": [
    {
     "data": {
      "text/html": [
       "<div>\n",
       "<style scoped>\n",
       "    .dataframe tbody tr th:only-of-type {\n",
       "        vertical-align: middle;\n",
       "    }\n",
       "\n",
       "    .dataframe tbody tr th {\n",
       "        vertical-align: top;\n",
       "    }\n",
       "\n",
       "    .dataframe thead th {\n",
       "        text-align: right;\n",
       "    }\n",
       "</style>\n",
       "<table border=\"1\" class=\"dataframe\">\n",
       "  <thead>\n",
       "    <tr style=\"text-align: right;\">\n",
       "      <th></th>\n",
       "      <th>Date</th>\n",
       "      <th>High</th>\n",
       "      <th>Low</th>\n",
       "      <th>Open</th>\n",
       "      <th>Close</th>\n",
       "      <th>Volume</th>\n",
       "      <th>Adj Close</th>\n",
       "      <th>next_day_close</th>\n",
       "      <th>next_day_performance</th>\n",
       "      <th>is_positive</th>\n",
       "      <th>datarow</th>\n",
       "    </tr>\n",
       "  </thead>\n",
       "  <tbody>\n",
       "    <tr>\n",
       "      <th>0</th>\n",
       "      <td>2020-02-06</td>\n",
       "      <td>795.830017</td>\n",
       "      <td>687.000000</td>\n",
       "      <td>699.919983</td>\n",
       "      <td>748.960022</td>\n",
       "      <td>39880800</td>\n",
       "      <td>748.960022</td>\n",
       "      <td>748.070007</td>\n",
       "      <td>-0.001188</td>\n",
       "      <td>0</td>\n",
       "      <td>1</td>\n",
       "    </tr>\n",
       "    <tr>\n",
       "      <th>1</th>\n",
       "      <td>2020-02-07</td>\n",
       "      <td>769.750000</td>\n",
       "      <td>730.000000</td>\n",
       "      <td>730.549988</td>\n",
       "      <td>748.070007</td>\n",
       "      <td>17063500</td>\n",
       "      <td>748.070007</td>\n",
       "      <td>771.280029</td>\n",
       "      <td>0.031027</td>\n",
       "      <td>1</td>\n",
       "      <td>2</td>\n",
       "    </tr>\n",
       "    <tr>\n",
       "      <th>2</th>\n",
       "      <td>2020-02-10</td>\n",
       "      <td>819.989990</td>\n",
       "      <td>752.400024</td>\n",
       "      <td>800.000000</td>\n",
       "      <td>771.280029</td>\n",
       "      <td>24689200</td>\n",
       "      <td>771.280029</td>\n",
       "      <td>774.380005</td>\n",
       "      <td>0.004019</td>\n",
       "      <td>1</td>\n",
       "      <td>3</td>\n",
       "    </tr>\n",
       "    <tr>\n",
       "      <th>3</th>\n",
       "      <td>2020-02-11</td>\n",
       "      <td>783.510010</td>\n",
       "      <td>758.000000</td>\n",
       "      <td>768.789978</td>\n",
       "      <td>774.380005</td>\n",
       "      <td>11697500</td>\n",
       "      <td>774.380005</td>\n",
       "      <td>767.289978</td>\n",
       "      <td>-0.009156</td>\n",
       "      <td>0</td>\n",
       "      <td>4</td>\n",
       "    </tr>\n",
       "    <tr>\n",
       "      <th>4</th>\n",
       "      <td>2020-02-12</td>\n",
       "      <td>789.750000</td>\n",
       "      <td>763.369995</td>\n",
       "      <td>777.869995</td>\n",
       "      <td>767.289978</td>\n",
       "      <td>12022500</td>\n",
       "      <td>767.289978</td>\n",
       "      <td>804.000000</td>\n",
       "      <td>0.047844</td>\n",
       "      <td>1</td>\n",
       "      <td>5</td>\n",
       "    </tr>\n",
       "    <tr>\n",
       "      <th>...</th>\n",
       "      <td>...</td>\n",
       "      <td>...</td>\n",
       "      <td>...</td>\n",
       "      <td>...</td>\n",
       "      <td>...</td>\n",
       "      <td>...</td>\n",
       "      <td>...</td>\n",
       "      <td>...</td>\n",
       "      <td>...</td>\n",
       "      <td>...</td>\n",
       "      <td>...</td>\n",
       "    </tr>\n",
       "    <tr>\n",
       "      <th>63</th>\n",
       "      <td>2020-05-07</td>\n",
       "      <td>796.400024</td>\n",
       "      <td>772.349976</td>\n",
       "      <td>777.210022</td>\n",
       "      <td>780.039978</td>\n",
       "      <td>11527700</td>\n",
       "      <td>780.039978</td>\n",
       "      <td>819.419983</td>\n",
       "      <td>0.050485</td>\n",
       "      <td>1</td>\n",
       "      <td>64</td>\n",
       "    </tr>\n",
       "    <tr>\n",
       "      <th>64</th>\n",
       "      <td>2020-05-08</td>\n",
       "      <td>824.000000</td>\n",
       "      <td>787.010010</td>\n",
       "      <td>793.770020</td>\n",
       "      <td>819.419983</td>\n",
       "      <td>16130100</td>\n",
       "      <td>819.419983</td>\n",
       "      <td>811.289978</td>\n",
       "      <td>-0.009922</td>\n",
       "      <td>0</td>\n",
       "      <td>65</td>\n",
       "    </tr>\n",
       "    <tr>\n",
       "      <th>65</th>\n",
       "      <td>2020-05-11</td>\n",
       "      <td>824.000000</td>\n",
       "      <td>785.000000</td>\n",
       "      <td>790.510010</td>\n",
       "      <td>811.289978</td>\n",
       "      <td>16471100</td>\n",
       "      <td>811.289978</td>\n",
       "      <td>809.409973</td>\n",
       "      <td>-0.002317</td>\n",
       "      <td>0</td>\n",
       "      <td>66</td>\n",
       "    </tr>\n",
       "    <tr>\n",
       "      <th>66</th>\n",
       "      <td>2020-05-12</td>\n",
       "      <td>843.289978</td>\n",
       "      <td>808.000000</td>\n",
       "      <td>827.000000</td>\n",
       "      <td>809.409973</td>\n",
       "      <td>15906900</td>\n",
       "      <td>809.409973</td>\n",
       "      <td>790.960022</td>\n",
       "      <td>-0.022794</td>\n",
       "      <td>0</td>\n",
       "      <td>67</td>\n",
       "    </tr>\n",
       "    <tr>\n",
       "      <th>67</th>\n",
       "      <td>2020-05-13</td>\n",
       "      <td>826.000000</td>\n",
       "      <td>763.299988</td>\n",
       "      <td>820.830017</td>\n",
       "      <td>790.960022</td>\n",
       "      <td>19065500</td>\n",
       "      <td>790.960022</td>\n",
       "      <td>803.330017</td>\n",
       "      <td>0.015639</td>\n",
       "      <td>1</td>\n",
       "      <td>68</td>\n",
       "    </tr>\n",
       "  </tbody>\n",
       "</table>\n",
       "<p>68 rows × 11 columns</p>\n",
       "</div>"
      ],
      "text/plain": [
       "         Date        High         Low        Open       Close    Volume  \\\n",
       "0  2020-02-06  795.830017  687.000000  699.919983  748.960022  39880800   \n",
       "1  2020-02-07  769.750000  730.000000  730.549988  748.070007  17063500   \n",
       "2  2020-02-10  819.989990  752.400024  800.000000  771.280029  24689200   \n",
       "3  2020-02-11  783.510010  758.000000  768.789978  774.380005  11697500   \n",
       "4  2020-02-12  789.750000  763.369995  777.869995  767.289978  12022500   \n",
       "..        ...         ...         ...         ...         ...       ...   \n",
       "63 2020-05-07  796.400024  772.349976  777.210022  780.039978  11527700   \n",
       "64 2020-05-08  824.000000  787.010010  793.770020  819.419983  16130100   \n",
       "65 2020-05-11  824.000000  785.000000  790.510010  811.289978  16471100   \n",
       "66 2020-05-12  843.289978  808.000000  827.000000  809.409973  15906900   \n",
       "67 2020-05-13  826.000000  763.299988  820.830017  790.960022  19065500   \n",
       "\n",
       "     Adj Close  next_day_close  next_day_performance  is_positive  datarow  \n",
       "0   748.960022      748.070007             -0.001188            0        1  \n",
       "1   748.070007      771.280029              0.031027            1        2  \n",
       "2   771.280029      774.380005              0.004019            1        3  \n",
       "3   774.380005      767.289978             -0.009156            0        4  \n",
       "4   767.289978      804.000000              0.047844            1        5  \n",
       "..         ...             ...                   ...          ...      ...  \n",
       "63  780.039978      819.419983              0.050485            1       64  \n",
       "64  819.419983      811.289978             -0.009922            0       65  \n",
       "65  811.289978      809.409973             -0.002317            0       66  \n",
       "66  809.409973      790.960022             -0.022794            0       67  \n",
       "67  790.960022      803.330017              0.015639            1       68  \n",
       "\n",
       "[68 rows x 11 columns]"
      ]
     },
     "execution_count": 7,
     "metadata": {},
     "output_type": "execute_result"
    }
   ],
   "source": [
    "#Get all the data except the last row\n",
    "df2 = df.head(len(df)-1)\n",
    "df2"
   ]
  },
  {
   "cell_type": "code",
   "execution_count": 8,
   "metadata": {},
   "outputs": [
    {
     "data": {
      "text/plain": [
       "(68, 11)"
      ]
     },
     "execution_count": 8,
     "metadata": {},
     "output_type": "execute_result"
    }
   ],
   "source": [
    "#new shape of data just to check\n",
    "df2.shape"
   ]
  },
  {
   "cell_type": "code",
   "execution_count": 9,
   "metadata": {},
   "outputs": [],
   "source": [
    "#Get all the rows from the date column\n",
    "df_dates = df2.loc[:, 'datarow']\n",
    "df_close = df2.loc[:, 'Close']\n"
   ]
  },
  {
   "cell_type": "code",
   "execution_count": 10,
   "metadata": {},
   "outputs": [],
   "source": [
    "#Create the independent dataset (X)\n",
    "for date in df_dates:\n",
    "    dates.append( [date])\n",
    "    \n",
    "#Create the dependent dataset (y)\n",
    "for close_price in df_close:\n",
    "    prices.append(float(close_price))"
   ]
  },
  {
   "cell_type": "code",
   "execution_count": 11,
   "metadata": {},
   "outputs": [],
   "source": [
    "def predict_prices(dates, prices, x):\n",
    "    \n",
    "    #create the 3 support vector regression models\n",
    "    svr_lin = SVR(kernel='linear', C=1e3)\n",
    "    svr_poly= SVR(kernel='poly', C=1e3, degree=2)\n",
    "    svr_rbf = SVR(kernel='rbf', C=1e3, gamma=0.1)\n",
    "    \n",
    "    #train the SVR models\n",
    "    svr_lin.fit(dates, prices)\n",
    "    svr_poly.fit(dates, prices)\n",
    "    svr_rbf.fit(dates, prices)\n",
    "    \n",
    "    #create linear regression model\n",
    "    lin_reg = LinearRegression()\n",
    "    #train linear regression model\n",
    "    lin_reg.fit(dates, prices)\n",
    "    \n",
    "    #plot\n",
    "    plt.scatter(dates, prices, color='black', label=\"Data\")\n",
    "    plt.plot(dates, svr_rbf.predict(dates), color='red', label=\"SVR RBF\")\n",
    "    plt.plot(dates, svr_poly.predict(dates), color='blue', label=\"SVR POLY\")\n",
    "    plt.plot(dates, svr_lin.predict(dates), color='green', label=\"SVR Linear\")\n",
    "    plt.plot(dates, lin_reg.predict(dates), color='orange', label=\"Linear Reg\")\n",
    "    plt.xlabel(\"Days\")\n",
    "    plt.ylabel(\"Price\")\n",
    "    plt.title(\"Regression\")\n",
    "    plt.legend()\n",
    "    plt.show()\n",
    "    \n",
    "    return svr_rbf.predict(x)[0], svr_poly.predict(x)[0], svr_lin.predict(x)[0], lin_reg.predict(x)[0]\n",
    "\n"
   ]
  },
  {
   "cell_type": "code",
   "execution_count": 12,
   "metadata": {},
   "outputs": [
    {
     "data": {
      "image/png": "[encoded data removed]",
      "text/plain": [
       "<Figure size 432x288 with 1 Axes>"
      ]
     },
     "metadata": {
      "needs_background": "light"
     },
     "output_type": "display_data"
    },
    {
     "name": "stdout",
     "output_type": "stream",
     "text": [
      "SVR RBF Prediction: 760.17, SVR POLY Prediction: 790.26, SVR LInear Prediction: 719.25, Linear Regression Prediction: 667.62\n",
      "-------------\n",
      "Actual Close: 803.33\n"
     ]
    }
   ],
   "source": [
    "#predict day 30\n",
    "predicted_price = predict_prices(dates, prices, [[int(df.tail(1).datarow)]])\n",
    "print(f\"SVR RBF Prediction: {round(predicted_price[0],2)}, SVR POLY Prediction: {round(predicted_price[1],2)}, SVR LInear Prediction: {round(predicted_price[2],2)}, Linear Regression Prediction: {round(predicted_price[3],2)}\")\n",
    "print(\"-------------\")\n",
    "print(f\"Actual Close: {round(float(df.tail(1)['Close']),2)}\")"
   ]
  },
  {
   "cell_type": "code",
   "execution_count": 17,
   "metadata": {},
   "outputs": [],
   "source": [
    "#Make a reusable function where the only input is an array of stocks. \n",
    "def multiple_stocks(symbols):\n",
    "    for symbol in symbols:\n",
    "        df = web.DataReader(f'{symbol}', data_source='yahoo', start=start, end=end)\n",
    "        df[\"next_day_close\"] = df[\"Close\"].shift(-1)\n",
    "        df[\"next_day_performance\"] = (df[\"next_day_close\"] - df[\"Close\"])/df[\"Close\"]\n",
    "        df = df.dropna()\n",
    "        df['is_positive'] = np.where(df['next_day_performance'] > 0, 1, 0)\n",
    "        df['datarow'] = np.arange(len(df))+1\n",
    "        df = df.reset_index()\n",
    "        #Create the variables for independent and dependent variables\n",
    "        dates = []\n",
    "        prices = []\n",
    "        #Get all the data except the last row\n",
    "        df2 = df.head(len(df)-1)\n",
    "        df_dates = df2.loc[:, 'datarow']\n",
    "        df_close = df2.loc[:, 'Close']\n",
    "        #Create the independent dataset (X)\n",
    "        for date in df_dates:\n",
    "            dates.append( [date])\n",
    "        #Create the dependent dataset (y)\n",
    "        for close_price in df_close:\n",
    "            prices.append(float(close_price))\n",
    "        #predict day 30\n",
    "        predicted_price = predict_prices(dates, prices, [[int(df.tail(1).datarow)]])\n",
    "        print(f\"SVR RBF Prediction: {round(predicted_price[0],2)}, SVR POLY Prediction: {round(predicted_price[1],2)}, SVR LInear Prediction: {round(predicted_price[2],2)}, Linear Regression Prediction: {round(predicted_price[3],2)}\")\n",
    "        print(\"-------------\")\n",
    "        print(f\"Actual Close: {round(float(df.tail(1)['Close']),2)}\")"
   ]
  },
  {
   "cell_type": "code",
   "execution_count": 18,
   "metadata": {},
   "outputs": [],
   "source": [
    "#here's an example we'll just use 3 stocks, Tesla, Apple, and Pfizer\n",
    "#and using last 100 days we'll compare which stock the model best predicts for. \n",
    "symbols = [\"TSLA\", \"AAPL\", \"PFE\"]"
   ]
  },
  {
   "cell_type": "code",
   "execution_count": 19,
   "metadata": {},
   "outputs": [
    {
     "data": {
      "image/png": "[encoded data removed]",
      "text/plain": [
       "<Figure size 432x288 with 1 Axes>"
      ]
     },
     "metadata": {
      "needs_background": "light"
     },
     "output_type": "display_data"
    },
    {
     "name": "stdout",
     "output_type": "stream",
     "text": [
      "SVR RBF Prediction: 760.17, SVR POLY Prediction: 790.26, SVR LInear Prediction: 719.25, Linear Regression Prediction: 667.62\n",
      "-------------\n",
      "Actual Close: 803.33\n"
     ]
    },
    {
     "data": {
      "image/png": "[encoded data removed]",
      "text/plain": [
       "<Figure size 432x288 with 1 Axes>"
      ]
     },
     "metadata": {
      "needs_background": "light"
     },
     "output_type": "display_data"
    },
    {
     "name": "stdout",
     "output_type": "stream",
     "text": [
      "SVR RBF Prediction: 309.15, SVR POLY Prediction: 292.59, SVR LInear Prediction: 275.26, Linear Regression Prediction: 271.77\n",
      "-------------\n",
      "Actual Close: 309.54\n"
     ]
    },
    {
     "data": {
      "image/png": "[encoded data removed]",
      "text/plain": [
       "<Figure size 432x288 with 1 Axes>"
      ]
     },
     "metadata": {
      "needs_background": "light"
     },
     "output_type": "display_data"
    },
    {
     "name": "stdout",
     "output_type": "stream",
     "text": [
      "SVR RBF Prediction: 39.1, SVR POLY Prediction: 37.72, SVR LInear Prediction: 37.11, Linear Regression Prediction: 36.0\n",
      "-------------\n",
      "Actual Close: 37.92\n"
     ]
    }
   ],
   "source": [
    "#run the function\n",
    "multiple_stocks(symbols)"
   ]
  },
  {
   "cell_type": "code",
   "execution_count": null,
   "metadata": {},
   "outputs": [],
   "source": []
  }
 ],
 "metadata": {
  "kernelspec": {
   "display_name": "Python 3",
   "language": "python",
   "name": "python3"
  },
  "language_info": {
   "codemirror_mode": {
    "name": "ipython",
    "version": 3
   },
   "file_extension": ".py",
   "mimetype": "text/x-python",
   "name": "python",
   "nbconvert_exporter": "python",
   "pygments_lexer": "ipython3",
   "version": "3.8.1"
  }
 },
 "nbformat": 4,
 "nbformat_minor": 4
}
