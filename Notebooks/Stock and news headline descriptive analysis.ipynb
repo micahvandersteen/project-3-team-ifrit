{
 "cells": [
  {
   "cell_type": "markdown",
   "metadata": {},
   "source": [
    "# Descriptive analysis for news headlines and stock data\n",
    "This analysis covers the following topics:\n",
    "* Date distribution (by year)\n",
    "* Stocks\n",
    "    * What was the max closing price? Min closing price?\n",
    "    * How has trading volume for the Dow Jones Industrial Average (DJIA) changed over time?\n",
    "    * How has the DJIA changed over time (closing price)?\n",
    "    * Number of days above average and below average each year\n",
    "    * What are the main topics on days that are above mean stock price?\n",
    "    * What are the topics on days that are below mean stock price?\n",
    "* News headlines\n",
    "    * Keyword distribution\n",
    "    * Top keyword distribution over time\n",
    "    * How many keywords are used across all news headlines in our data?\n",
    "    * How do news headline topics change over time?"
   ]
  },
  {
   "cell_type": "code",
   "execution_count": 1,
   "metadata": {},
   "outputs": [],
   "source": [
    "from matplotlib import pyplot as plt\n",
    "import pandas as pd"
   ]
  },
  {
   "cell_type": "markdown",
   "metadata": {},
   "source": [
    "# Import and clean data"
   ]
  },
  {
   "cell_type": "code",
   "execution_count": 35,
   "metadata": {},
   "outputs": [],
   "source": [
    "# Headline data\n",
    "headlines = pd.read_csv(\"../Data/RedditNews.csv\")\n",
    "\n",
    "# DJIA stock data\n",
    "djia = pd.read_csv(\"../Data/upload_DJIA_table.csv\")"
   ]
  },
  {
   "cell_type": "code",
   "execution_count": 36,
   "metadata": {},
   "outputs": [
    {
     "data": {
      "text/plain": [
       "(73608, 2)"
      ]
     },
     "execution_count": 36,
     "metadata": {},
     "output_type": "execute_result"
    }
   ],
   "source": [
    "headlines.shape"
   ]
  },
  {
   "cell_type": "code",
   "execution_count": 37,
   "metadata": {},
   "outputs": [],
   "source": [
    "# Drop nulls\n",
    "djia.dropna(how=\"any\", inplace=True)\n",
    "headlines.dropna(how=\"any\", inplace=True)"
   ]
  },
  {
   "cell_type": "code",
   "execution_count": 38,
   "metadata": {},
   "outputs": [
    {
     "data": {
      "text/html": [
       "<div>\n",
       "<style scoped>\n",
       "    .dataframe tbody tr th:only-of-type {\n",
       "        vertical-align: middle;\n",
       "    }\n",
       "\n",
       "    .dataframe tbody tr th {\n",
       "        vertical-align: top;\n",
       "    }\n",
       "\n",
       "    .dataframe thead th {\n",
       "        text-align: right;\n",
       "    }\n",
       "</style>\n",
       "<table border=\"1\" class=\"dataframe\">\n",
       "  <thead>\n",
       "    <tr style=\"text-align: right;\">\n",
       "      <th></th>\n",
       "      <th>Open</th>\n",
       "      <th>High</th>\n",
       "      <th>Low</th>\n",
       "      <th>Close</th>\n",
       "      <th>Volume</th>\n",
       "      <th>Adj Close</th>\n",
       "    </tr>\n",
       "  </thead>\n",
       "  <tbody>\n",
       "    <tr>\n",
       "      <th>count</th>\n",
       "      <td>1989.000000</td>\n",
       "      <td>1989.000000</td>\n",
       "      <td>1989.000000</td>\n",
       "      <td>1989.000000</td>\n",
       "      <td>1.989000e+03</td>\n",
       "      <td>1989.000000</td>\n",
       "    </tr>\n",
       "    <tr>\n",
       "      <th>mean</th>\n",
       "      <td>13459.116048</td>\n",
       "      <td>13541.303173</td>\n",
       "      <td>13372.931728</td>\n",
       "      <td>13463.032255</td>\n",
       "      <td>1.628110e+08</td>\n",
       "      <td>13463.032255</td>\n",
       "    </tr>\n",
       "    <tr>\n",
       "      <th>std</th>\n",
       "      <td>3143.281634</td>\n",
       "      <td>3136.271725</td>\n",
       "      <td>3150.420934</td>\n",
       "      <td>3144.006996</td>\n",
       "      <td>9.392343e+07</td>\n",
       "      <td>3144.006996</td>\n",
       "    </tr>\n",
       "    <tr>\n",
       "      <th>min</th>\n",
       "      <td>6547.009766</td>\n",
       "      <td>6709.609863</td>\n",
       "      <td>6469.950195</td>\n",
       "      <td>6547.049805</td>\n",
       "      <td>8.410000e+06</td>\n",
       "      <td>6547.049805</td>\n",
       "    </tr>\n",
       "    <tr>\n",
       "      <th>25%</th>\n",
       "      <td>10907.339844</td>\n",
       "      <td>11000.980469</td>\n",
       "      <td>10824.759766</td>\n",
       "      <td>10913.379883</td>\n",
       "      <td>1.000000e+08</td>\n",
       "      <td>10913.379883</td>\n",
       "    </tr>\n",
       "    <tr>\n",
       "      <th>50%</th>\n",
       "      <td>13022.049805</td>\n",
       "      <td>13088.110352</td>\n",
       "      <td>12953.129883</td>\n",
       "      <td>13025.580078</td>\n",
       "      <td>1.351700e+08</td>\n",
       "      <td>13025.580078</td>\n",
       "    </tr>\n",
       "    <tr>\n",
       "      <th>75%</th>\n",
       "      <td>16477.699219</td>\n",
       "      <td>16550.070312</td>\n",
       "      <td>16392.769531</td>\n",
       "      <td>16478.410156</td>\n",
       "      <td>1.926000e+08</td>\n",
       "      <td>16478.410156</td>\n",
       "    </tr>\n",
       "    <tr>\n",
       "      <th>max</th>\n",
       "      <td>18315.060547</td>\n",
       "      <td>18351.359375</td>\n",
       "      <td>18272.560547</td>\n",
       "      <td>18312.390625</td>\n",
       "      <td>6.749200e+08</td>\n",
       "      <td>18312.390625</td>\n",
       "    </tr>\n",
       "  </tbody>\n",
       "</table>\n",
       "</div>"
      ],
      "text/plain": [
       "               Open          High           Low         Close        Volume  \\\n",
       "count   1989.000000   1989.000000   1989.000000   1989.000000  1.989000e+03   \n",
       "mean   13459.116048  13541.303173  13372.931728  13463.032255  1.628110e+08   \n",
       "std     3143.281634   3136.271725   3150.420934   3144.006996  9.392343e+07   \n",
       "min     6547.009766   6709.609863   6469.950195   6547.049805  8.410000e+06   \n",
       "25%    10907.339844  11000.980469  10824.759766  10913.379883  1.000000e+08   \n",
       "50%    13022.049805  13088.110352  12953.129883  13025.580078  1.351700e+08   \n",
       "75%    16477.699219  16550.070312  16392.769531  16478.410156  1.926000e+08   \n",
       "max    18315.060547  18351.359375  18272.560547  18312.390625  6.749200e+08   \n",
       "\n",
       "          Adj Close  \n",
       "count   1989.000000  \n",
       "mean   13463.032255  \n",
       "std     3144.006996  \n",
       "min     6547.049805  \n",
       "25%    10913.379883  \n",
       "50%    13025.580078  \n",
       "75%    16478.410156  \n",
       "max    18312.390625  "
      ]
     },
     "execution_count": 38,
     "metadata": {},
     "output_type": "execute_result"
    }
   ],
   "source": [
    "# Review data\n",
    "djia.describe()"
   ]
  },
  {
   "cell_type": "code",
   "execution_count": 6,
   "metadata": {},
   "outputs": [
    {
     "data": {
      "text/html": [
       "<div>\n",
       "<style scoped>\n",
       "    .dataframe tbody tr th:only-of-type {\n",
       "        vertical-align: middle;\n",
       "    }\n",
       "\n",
       "    .dataframe tbody tr th {\n",
       "        vertical-align: top;\n",
       "    }\n",
       "\n",
       "    .dataframe thead th {\n",
       "        text-align: right;\n",
       "    }\n",
       "</style>\n",
       "<table border=\"1\" class=\"dataframe\">\n",
       "  <thead>\n",
       "    <tr style=\"text-align: right;\">\n",
       "      <th></th>\n",
       "      <th>Date</th>\n",
       "      <th>News</th>\n",
       "    </tr>\n",
       "  </thead>\n",
       "  <tbody>\n",
       "    <tr>\n",
       "      <th>0</th>\n",
       "      <td>2016-07-01</td>\n",
       "      <td>A 117-year-old woman in Mexico City finally re...</td>\n",
       "    </tr>\n",
       "    <tr>\n",
       "      <th>1</th>\n",
       "      <td>2016-07-01</td>\n",
       "      <td>IMF chief backs Athens as permanent Olympic host</td>\n",
       "    </tr>\n",
       "    <tr>\n",
       "      <th>2</th>\n",
       "      <td>2016-07-01</td>\n",
       "      <td>The president of France says if Brexit won, so...</td>\n",
       "    </tr>\n",
       "    <tr>\n",
       "      <th>3</th>\n",
       "      <td>2016-07-01</td>\n",
       "      <td>British Man Who Must Give Police 24 Hours' Not...</td>\n",
       "    </tr>\n",
       "    <tr>\n",
       "      <th>4</th>\n",
       "      <td>2016-07-01</td>\n",
       "      <td>100+ Nobel laureates urge Greenpeace to stop o...</td>\n",
       "    </tr>\n",
       "  </tbody>\n",
       "</table>\n",
       "</div>"
      ],
      "text/plain": [
       "         Date                                               News\n",
       "0  2016-07-01  A 117-year-old woman in Mexico City finally re...\n",
       "1  2016-07-01   IMF chief backs Athens as permanent Olympic host\n",
       "2  2016-07-01  The president of France says if Brexit won, so...\n",
       "3  2016-07-01  British Man Who Must Give Police 24 Hours' Not...\n",
       "4  2016-07-01  100+ Nobel laureates urge Greenpeace to stop o..."
      ]
     },
     "execution_count": 6,
     "metadata": {},
     "output_type": "execute_result"
    }
   ],
   "source": [
    "headlines.head()"
   ]
  },
  {
   "cell_type": "markdown",
   "metadata": {},
   "source": [
    "# Date distribution by year"
   ]
  },
  {
   "cell_type": "code",
   "execution_count": 39,
   "metadata": {},
   "outputs": [
    {
     "data": {
      "text/html": [
       "<div>\n",
       "<style scoped>\n",
       "    .dataframe tbody tr th:only-of-type {\n",
       "        vertical-align: middle;\n",
       "    }\n",
       "\n",
       "    .dataframe tbody tr th {\n",
       "        vertical-align: top;\n",
       "    }\n",
       "\n",
       "    .dataframe thead th {\n",
       "        text-align: right;\n",
       "    }\n",
       "</style>\n",
       "<table border=\"1\" class=\"dataframe\">\n",
       "  <thead>\n",
       "    <tr style=\"text-align: right;\">\n",
       "      <th></th>\n",
       "      <th>Date</th>\n",
       "      <th>Open</th>\n",
       "      <th>High</th>\n",
       "      <th>Low</th>\n",
       "      <th>Close</th>\n",
       "      <th>Volume</th>\n",
       "      <th>Adj Close</th>\n",
       "      <th>Year</th>\n",
       "    </tr>\n",
       "  </thead>\n",
       "  <tbody>\n",
       "    <tr>\n",
       "      <th>0</th>\n",
       "      <td>2016-07-01</td>\n",
       "      <td>17924.240234</td>\n",
       "      <td>18002.380859</td>\n",
       "      <td>17916.910156</td>\n",
       "      <td>17949.369141</td>\n",
       "      <td>82160000</td>\n",
       "      <td>17949.369141</td>\n",
       "      <td>2016</td>\n",
       "    </tr>\n",
       "    <tr>\n",
       "      <th>1</th>\n",
       "      <td>2016-06-30</td>\n",
       "      <td>17712.759766</td>\n",
       "      <td>17930.609375</td>\n",
       "      <td>17711.800781</td>\n",
       "      <td>17929.990234</td>\n",
       "      <td>133030000</td>\n",
       "      <td>17929.990234</td>\n",
       "      <td>2016</td>\n",
       "    </tr>\n",
       "    <tr>\n",
       "      <th>2</th>\n",
       "      <td>2016-06-29</td>\n",
       "      <td>17456.019531</td>\n",
       "      <td>17704.509766</td>\n",
       "      <td>17456.019531</td>\n",
       "      <td>17694.679688</td>\n",
       "      <td>106380000</td>\n",
       "      <td>17694.679688</td>\n",
       "      <td>2016</td>\n",
       "    </tr>\n",
       "    <tr>\n",
       "      <th>3</th>\n",
       "      <td>2016-06-28</td>\n",
       "      <td>17190.509766</td>\n",
       "      <td>17409.720703</td>\n",
       "      <td>17190.509766</td>\n",
       "      <td>17409.720703</td>\n",
       "      <td>112190000</td>\n",
       "      <td>17409.720703</td>\n",
       "      <td>2016</td>\n",
       "    </tr>\n",
       "    <tr>\n",
       "      <th>4</th>\n",
       "      <td>2016-06-27</td>\n",
       "      <td>17355.210938</td>\n",
       "      <td>17355.210938</td>\n",
       "      <td>17063.080078</td>\n",
       "      <td>17140.240234</td>\n",
       "      <td>138740000</td>\n",
       "      <td>17140.240234</td>\n",
       "      <td>2016</td>\n",
       "    </tr>\n",
       "    <tr>\n",
       "      <th>...</th>\n",
       "      <td>...</td>\n",
       "      <td>...</td>\n",
       "      <td>...</td>\n",
       "      <td>...</td>\n",
       "      <td>...</td>\n",
       "      <td>...</td>\n",
       "      <td>...</td>\n",
       "      <td>...</td>\n",
       "    </tr>\n",
       "    <tr>\n",
       "      <th>1984</th>\n",
       "      <td>2008-08-14</td>\n",
       "      <td>11532.070312</td>\n",
       "      <td>11718.280273</td>\n",
       "      <td>11450.889648</td>\n",
       "      <td>11615.929688</td>\n",
       "      <td>159790000</td>\n",
       "      <td>11615.929688</td>\n",
       "      <td>2008</td>\n",
       "    </tr>\n",
       "    <tr>\n",
       "      <th>1985</th>\n",
       "      <td>2008-08-13</td>\n",
       "      <td>11632.809570</td>\n",
       "      <td>11633.780273</td>\n",
       "      <td>11453.339844</td>\n",
       "      <td>11532.959961</td>\n",
       "      <td>182550000</td>\n",
       "      <td>11532.959961</td>\n",
       "      <td>2008</td>\n",
       "    </tr>\n",
       "    <tr>\n",
       "      <th>1986</th>\n",
       "      <td>2008-08-12</td>\n",
       "      <td>11781.700195</td>\n",
       "      <td>11782.349609</td>\n",
       "      <td>11601.519531</td>\n",
       "      <td>11642.469727</td>\n",
       "      <td>173590000</td>\n",
       "      <td>11642.469727</td>\n",
       "      <td>2008</td>\n",
       "    </tr>\n",
       "    <tr>\n",
       "      <th>1987</th>\n",
       "      <td>2008-08-11</td>\n",
       "      <td>11729.669922</td>\n",
       "      <td>11867.110352</td>\n",
       "      <td>11675.530273</td>\n",
       "      <td>11782.349609</td>\n",
       "      <td>183190000</td>\n",
       "      <td>11782.349609</td>\n",
       "      <td>2008</td>\n",
       "    </tr>\n",
       "    <tr>\n",
       "      <th>1988</th>\n",
       "      <td>2008-08-08</td>\n",
       "      <td>11432.089844</td>\n",
       "      <td>11759.959961</td>\n",
       "      <td>11388.040039</td>\n",
       "      <td>11734.320312</td>\n",
       "      <td>212830000</td>\n",
       "      <td>11734.320312</td>\n",
       "      <td>2008</td>\n",
       "    </tr>\n",
       "  </tbody>\n",
       "</table>\n",
       "<p>1989 rows × 8 columns</p>\n",
       "</div>"
      ],
      "text/plain": [
       "           Date          Open          High           Low         Close  \\\n",
       "0    2016-07-01  17924.240234  18002.380859  17916.910156  17949.369141   \n",
       "1    2016-06-30  17712.759766  17930.609375  17711.800781  17929.990234   \n",
       "2    2016-06-29  17456.019531  17704.509766  17456.019531  17694.679688   \n",
       "3    2016-06-28  17190.509766  17409.720703  17190.509766  17409.720703   \n",
       "4    2016-06-27  17355.210938  17355.210938  17063.080078  17140.240234   \n",
       "...         ...           ...           ...           ...           ...   \n",
       "1984 2008-08-14  11532.070312  11718.280273  11450.889648  11615.929688   \n",
       "1985 2008-08-13  11632.809570  11633.780273  11453.339844  11532.959961   \n",
       "1986 2008-08-12  11781.700195  11782.349609  11601.519531  11642.469727   \n",
       "1987 2008-08-11  11729.669922  11867.110352  11675.530273  11782.349609   \n",
       "1988 2008-08-08  11432.089844  11759.959961  11388.040039  11734.320312   \n",
       "\n",
       "         Volume     Adj Close  Year  \n",
       "0      82160000  17949.369141  2016  \n",
       "1     133030000  17929.990234  2016  \n",
       "2     106380000  17694.679688  2016  \n",
       "3     112190000  17409.720703  2016  \n",
       "4     138740000  17140.240234  2016  \n",
       "...         ...           ...   ...  \n",
       "1984  159790000  11615.929688  2008  \n",
       "1985  182550000  11532.959961  2008  \n",
       "1986  173590000  11642.469727  2008  \n",
       "1987  183190000  11782.349609  2008  \n",
       "1988  212830000  11734.320312  2008  \n",
       "\n",
       "[1989 rows x 8 columns]"
      ]
     },
     "execution_count": 39,
     "metadata": {},
     "output_type": "execute_result"
    }
   ],
   "source": [
    "# Get year data from 'Date column'\n",
    "import datetime\n",
    "import seaborn as sns\n",
    "\n",
    "# Convert the column to datetime, parse out year, then reassign to column\n",
    "djia['Date'] = pd.to_datetime(djia['Date'], format=\"%Y-%m-%d\")\n",
    "djia['Year'] = djia['Date'].dt.year\n",
    "djia"
   ]
  },
  {
   "cell_type": "code",
   "execution_count": 40,
   "metadata": {},
   "outputs": [
    {
     "data": {
      "image/png": "[encoded data removed]",
      "text/plain": [
       "<Figure size 432x288 with 1 Axes>"
      ]
     },
     "metadata": {
      "needs_background": "light"
     },
     "output_type": "display_data"
    }
   ],
   "source": [
    "# Plot year value counts\n",
    "ax = sns.countplot(djia['Year'], color='#47a939')\n",
    "ax.set(title='DJIA closing price datapoints, by year')\n",
    "plt.show()"
   ]
  },
  {
   "cell_type": "markdown",
   "metadata": {},
   "source": [
    "# Explore the stock data"
   ]
  },
  {
   "cell_type": "code",
   "execution_count": 41,
   "metadata": {},
   "outputs": [
    {
     "name": "stdout",
     "output_type": "stream",
     "text": [
      "The maximum closing price of the DJIA was 18312.390625 on 2015-05-19 00:00:00.\n",
      "The minimum closing price of the DJIA was 6547.049805 on 2009-03-09 00:00:00.\n"
     ]
    }
   ],
   "source": [
    "# What was the max closing price? Min closing price?\n",
    "djia_max = djia['Close'].max()\n",
    "djia_min = djia['Close'].min()\n",
    "djia_max_date = djia['Date'][djia['Close'] == djia_max]\n",
    "djia_min_date = djia['Date'][djia['Close'] == djia_min]\n",
    "\n",
    "print(f\"The maximum closing price of the DJIA was {djia_max} on {djia_max_date.loc[283]}.\")\n",
    "print(f\"The minimum closing price of the DJIA was {djia_min} on {djia_min_date.loc[1843]}.\")"
   ]
  },
  {
   "cell_type": "code",
   "execution_count": 42,
   "metadata": {},
   "outputs": [
    {
     "name": "stdout",
     "output_type": "stream",
     "text": [
      "The mean closing price of the DJIA was 13463.032254798398.\n"
     ]
    }
   ],
   "source": [
    "# Number of days above average and below average each year\n",
    "djia_mean = djia['Close'].mean()\n",
    "print(f\"The mean closing price of the DJIA was {djia_mean}.\")"
   ]
  },
  {
   "cell_type": "code",
   "execution_count": 44,
   "metadata": {},
   "outputs": [
    {
     "data": {
      "image/png": "[encoded data removed]",
      "text/plain": [
       "<Figure size 864x288 with 1 Axes>"
      ]
     },
     "metadata": {
      "needs_background": "light"
     },
     "output_type": "display_data"
    }
   ],
   "source": [
    "# How has trading volume for the Dow Jones Industrial Average (DJIA) changed over time?\n",
    "fig_dims = (12, 4)\n",
    "fig, ax = plt.subplots(figsize=fig_dims)\n",
    "\n",
    "ax = sns.lineplot(x=\"Date\", y=\"Close\", ax=ax, data=djia)\n",
    "ax.set(title='DJIA closing price, by date')\n",
    "plt.show()\n",
    "#TODO: Cleanup plot to remove space at margins, add in grids for month and year"
   ]
  },
  {
   "cell_type": "code",
   "execution_count": null,
   "metadata": {},
   "outputs": [],
   "source": [
    "# How has the DJIA changed over time (closing price)?\n",
    "# What are the main topics on days that are above mean stock price?\n",
    "# What are the topics on days that are below mean stock price?"
   ]
  }
 ],
 "metadata": {
  "kernelspec": {
   "display_name": "Python 3",
   "language": "python",
   "name": "python3"
  },
  "language_info": {
   "codemirror_mode": {
    "name": "ipython",
    "version": 3
   },
   "file_extension": ".py",
   "mimetype": "text/x-python",
   "name": "python",
   "nbconvert_exporter": "python",
   "pygments_lexer": "ipython3",
   "version": "3.6.10"
  }
 },
 "nbformat": 4,
 "nbformat_minor": 2
}
